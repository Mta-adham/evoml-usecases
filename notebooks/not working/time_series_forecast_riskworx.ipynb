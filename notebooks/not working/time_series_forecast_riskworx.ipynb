{
 "cells": [
  {
   "cell_type": "markdown",
   "metadata": {},
   "source": [
    "# Consumer price index forecasting\n",
    "\n",
    "## Overview \n",
    "This Notebook presents a pipeline for forecasting the Consumer Price index (CPI), a key measure of inflation, over the next year. It generates predictions for the Year-on-Year CPI at 12,9,6 and 3-month intervals, with corresponding visualizations to illustrate projected trends.\n",
    "\n",
    "\n",
    "Clients could use the generated predictions as an analytical insight on inflation trends, and/or when making informed decisions on setting interest rates.\n",
    "\n",
    "The dataset used could be sourced from the [UK Office for National Statistics (ONS)] (https://www.ons.gov.uk/economy/inflationandpriceindices/datasets/consumerpriceinflation) Feel free to experiment with other datasets providing inflation measures, should they fit a desired statistical objective.\n",
    "\n",
    "## Setup \n",
    "### Dependencies \n",
    "\n",
    "This work uses the following library versions: \n",
    "\n",
    "* turintech-evoml-client\n",
    "* pandas \n",
    "* matplotlib \n",
    "* plotly \n",
    "* nbformat (if using xls data)\n",
    "* python-dotenv (for loading environment variables)\n",
    "###Credentials\n",
    "\n",
    "You will also require:\n",
    "* A URL for an instance of the evoML platform (e.g. https://evoml.ai)\n",
    "* Your evoML username and password\n",
    "\n",
    "**Environment Setup:**\n",
    "Create a `.env` file in the project root directory with your credentials:\n",
    "```\n",
    "EVOML_USERNAME=your_username_here\n",
    "EVOML_PASSWORD=your_password_here\n",
    "```\n",
    "\n",
    "The notebook will automatically load these credentials from the `.env` file."
   ]
  },
  {
   "cell_type": "code",
   "execution_count": 29,
   "metadata": {},
   "outputs": [
    {
     "data": {
      "text/plain": [
       "True"
      ]
     },
     "execution_count": 29,
     "metadata": {},
     "output_type": "execute_result"
    }
   ],
   "source": [
    "import pandas as pd \n",
    "import numpy as np\n",
    "import matplotlib.pyplot as plt\n",
    "from typing import Final\n",
    "import evoml_client as ec \n",
    "from evoml_client.trial_conf_models import BudgetMode, SplitMethodOptions\n",
    "import plotly.express as px\n",
    "import plotly.graph_objects as go \n",
    "from plotly.subplots import make_subplots\n",
    "import nbformat as nbf\n",
    "import math\n",
    "from dataclasses import dataclass\n",
    "import os\n",
    "from dotenv import load_dotenv\n",
    "\n",
    "# Load environment variables from .env file\n",
    "load_dotenv()\n",
    "\n",
    "API_URL: Final[str] = \"https://evoml.ai\"\n",
    "EVOML_USERNAME: Final[str] = os.getenv(\"EVOML_USERNAME\", \"\")\n",
    "EVOML_PASSWORD: Final[str] = os.getenv(\"EVOML_PASSWORD\", \"\")\n",
    "\n",
    "# Connect to evoML platform\n",
    "ec.init(base_url=API_URL, username=EVOML_USERNAME, password=EVOML_PASSWORD)"
   ]
  },
  {
   "cell_type": "markdown",
   "metadata": {},
   "source": [
    "### Data loading and manipulation\n",
    "We first retrieve the downloaded data and select the relevant sheet name (Table 57, in this case) to extract the CPI summary of all items for the time period between between 1988 and 2025. \n",
    "\n",
    "We then further convert the date column into a datetime format and we create a dataframe with our time column and dependent variable only. "
   ]
  },
  {
   "cell_type": "code",
   "execution_count": 30,
   "metadata": {},
   "outputs": [],
   "source": [
    "xls = pd.ExcelFile(\"../data/consumer-price-inflation-ONS.xlsx\", engine=\"openpyxl\")\n",
    "CPI_UK = pd.read_excel(\"../data/consumer-price-inflation-ONS.xlsx\", sheet_name=\"Table 57\", skiprows=6, engine=\"openpyxl\")\n",
    "#print(CPI_UK['name'].tail(15)) #The last 14 rows of data are not relevant to the analysis\n",
    "CPI_UK = CPI_UK.drop(CPI_UK.tail(14).index)\n",
    "CPI_UK.shape\n",
    "CPI_UK.to_csv(\"CPI_UK.csv\", index=False)"
   ]
  },
  {
   "cell_type": "code",
   "execution_count": 31,
   "metadata": {},
   "outputs": [],
   "source": [
    "#Time column manipulation:\n",
    "CPI_UK['name'] = pd.to_datetime(CPI_UK['name'])\n",
    "CPI_UK['name'] = CPI_UK['name'].dt.strftime('%Y-%m') #Removing the 00:00:00 timestamp from the date\n",
    "CPI_UK.rename(columns={\"name\": \"Date_CPI\"}, inplace=True)"
   ]
  },
  {
   "cell_type": "code",
   "execution_count": 32,
   "metadata": {},
   "outputs": [],
   "source": [
    "#Creating the final dataframe for analysis: \n",
    "CPI_UK = CPI_UK.copy()\n",
    "CPI_UK_single = CPI_UK[['Date_CPI', 'CPI ALL ITEMS']]"
   ]
  },
  {
   "cell_type": "code",
   "execution_count": 19,
   "metadata": {},
   "outputs": [
    {
     "data": {
      "text/html": [
       "<div>\n",
       "<style scoped>\n",
       "    .dataframe tbody tr th:only-of-type {\n",
       "        vertical-align: middle;\n",
       "    }\n",
       "\n",
       "    .dataframe tbody tr th {\n",
       "        vertical-align: top;\n",
       "    }\n",
       "\n",
       "    .dataframe thead th {\n",
       "        text-align: right;\n",
       "    }\n",
       "</style>\n",
       "<table border=\"1\" class=\"dataframe\">\n",
       "  <thead>\n",
       "    <tr style=\"text-align: right;\">\n",
       "      <th></th>\n",
       "      <th>index date</th>\n",
       "      <th>Date_CPI</th>\n",
       "      <th>CPI ALL ITEMS</th>\n",
       "      <th>FOOD AND NON-ALCOHOLIC BEVERAGES</th>\n",
       "      <th>FOOD</th>\n",
       "      <th>BREAD &amp; CEREALS</th>\n",
       "      <th>MEAT</th>\n",
       "      <th>FISH</th>\n",
       "      <th>MILK, CHEESE &amp; EGGS</th>\n",
       "      <th>OILS &amp; FATS</th>\n",
       "      <th>...</th>\n",
       "      <th>Durables</th>\n",
       "      <th>Semi-Durables</th>\n",
       "      <th>Non-Durables</th>\n",
       "      <th>Energy, Food, Alcohol &amp; Tobacco</th>\n",
       "      <th>Energy &amp; Non-processed Food</th>\n",
       "      <th>Energy &amp; Seasonal Food</th>\n",
       "      <th>Education, Health &amp; Social Protection</th>\n",
       "      <th>CPI excluding tobacco</th>\n",
       "      <th>Industrial Goods</th>\n",
       "      <th>Miscellaneous and Other Services</th>\n",
       "    </tr>\n",
       "  </thead>\n",
       "  <tbody>\n",
       "    <tr>\n",
       "      <th>0</th>\n",
       "      <td>198801.0</td>\n",
       "      <td>1988-01</td>\n",
       "      <td>48.395</td>\n",
       "      <td>48.004</td>\n",
       "      <td>48.226</td>\n",
       "      <td>50.053</td>\n",
       "      <td>53.741</td>\n",
       "      <td>43.321</td>\n",
       "      <td>48.488</td>\n",
       "      <td>45.461</td>\n",
       "      <td>...</td>\n",
       "      <td>114.318</td>\n",
       "      <td>138.376</td>\n",
       "      <td>48.751</td>\n",
       "      <td>36.743</td>\n",
       "      <td>37.009</td>\n",
       "      <td>33.856</td>\n",
       "      <td>22.302</td>\n",
       "      <td>50.142</td>\n",
       "      <td>79.030</td>\n",
       "      <td>26.499</td>\n",
       "    </tr>\n",
       "    <tr>\n",
       "      <th>1</th>\n",
       "      <td>198802.0</td>\n",
       "      <td>1988-02</td>\n",
       "      <td>48.551</td>\n",
       "      <td>48.275</td>\n",
       "      <td>48.481</td>\n",
       "      <td>50.353</td>\n",
       "      <td>53.386</td>\n",
       "      <td>43.670</td>\n",
       "      <td>48.523</td>\n",
       "      <td>45.921</td>\n",
       "      <td>...</td>\n",
       "      <td>114.255</td>\n",
       "      <td>139.398</td>\n",
       "      <td>49.000</td>\n",
       "      <td>36.824</td>\n",
       "      <td>37.043</td>\n",
       "      <td>33.966</td>\n",
       "      <td>22.318</td>\n",
       "      <td>50.308</td>\n",
       "      <td>79.181</td>\n",
       "      <td>26.639</td>\n",
       "    </tr>\n",
       "    <tr>\n",
       "      <th>2</th>\n",
       "      <td>198803.0</td>\n",
       "      <td>1988-03</td>\n",
       "      <td>48.717</td>\n",
       "      <td>48.424</td>\n",
       "      <td>48.622</td>\n",
       "      <td>50.311</td>\n",
       "      <td>53.721</td>\n",
       "      <td>43.130</td>\n",
       "      <td>48.551</td>\n",
       "      <td>46.108</td>\n",
       "      <td>...</td>\n",
       "      <td>115.203</td>\n",
       "      <td>140.239</td>\n",
       "      <td>49.140</td>\n",
       "      <td>36.892</td>\n",
       "      <td>37.102</td>\n",
       "      <td>33.971</td>\n",
       "      <td>22.432</td>\n",
       "      <td>50.487</td>\n",
       "      <td>79.543</td>\n",
       "      <td>26.692</td>\n",
       "    </tr>\n",
       "    <tr>\n",
       "      <th>3</th>\n",
       "      <td>198804.0</td>\n",
       "      <td>1988-04</td>\n",
       "      <td>49.280</td>\n",
       "      <td>48.693</td>\n",
       "      <td>48.874</td>\n",
       "      <td>50.548</td>\n",
       "      <td>53.736</td>\n",
       "      <td>43.151</td>\n",
       "      <td>48.861</td>\n",
       "      <td>46.249</td>\n",
       "      <td>...</td>\n",
       "      <td>116.535</td>\n",
       "      <td>140.521</td>\n",
       "      <td>49.430</td>\n",
       "      <td>37.260</td>\n",
       "      <td>37.490</td>\n",
       "      <td>34.433</td>\n",
       "      <td>22.486</td>\n",
       "      <td>51.061</td>\n",
       "      <td>80.210</td>\n",
       "      <td>26.825</td>\n",
       "    </tr>\n",
       "    <tr>\n",
       "      <th>4</th>\n",
       "      <td>198805.0</td>\n",
       "      <td>1988-05</td>\n",
       "      <td>49.529</td>\n",
       "      <td>48.820</td>\n",
       "      <td>48.954</td>\n",
       "      <td>50.970</td>\n",
       "      <td>54.186</td>\n",
       "      <td>42.799</td>\n",
       "      <td>48.770</td>\n",
       "      <td>46.346</td>\n",
       "      <td>...</td>\n",
       "      <td>117.061</td>\n",
       "      <td>141.845</td>\n",
       "      <td>49.698</td>\n",
       "      <td>37.430</td>\n",
       "      <td>37.661</td>\n",
       "      <td>34.550</td>\n",
       "      <td>22.519</td>\n",
       "      <td>51.322</td>\n",
       "      <td>80.779</td>\n",
       "      <td>26.943</td>\n",
       "    </tr>\n",
       "    <tr>\n",
       "      <th>...</th>\n",
       "      <td>...</td>\n",
       "      <td>...</td>\n",
       "      <td>...</td>\n",
       "      <td>...</td>\n",
       "      <td>...</td>\n",
       "      <td>...</td>\n",
       "      <td>...</td>\n",
       "      <td>...</td>\n",
       "      <td>...</td>\n",
       "      <td>...</td>\n",
       "      <td>...</td>\n",
       "      <td>...</td>\n",
       "      <td>...</td>\n",
       "      <td>...</td>\n",
       "      <td>...</td>\n",
       "      <td>...</td>\n",
       "      <td>...</td>\n",
       "      <td>...</td>\n",
       "      <td>...</td>\n",
       "      <td>...</td>\n",
       "      <td>...</td>\n",
       "    </tr>\n",
       "    <tr>\n",
       "      <th>440</th>\n",
       "      <td>202409.0</td>\n",
       "      <td>2024-09</td>\n",
       "      <td>134.215</td>\n",
       "      <td>136.316</td>\n",
       "      <td>135.870</td>\n",
       "      <td>136.038</td>\n",
       "      <td>127.820</td>\n",
       "      <td>134.181</td>\n",
       "      <td>141.606</td>\n",
       "      <td>187.465</td>\n",
       "      <td>...</td>\n",
       "      <td>119.984</td>\n",
       "      <td>119.601</td>\n",
       "      <td>128.414</td>\n",
       "      <td>141.418</td>\n",
       "      <td>139.258</td>\n",
       "      <td>141.645</td>\n",
       "      <td>137.524</td>\n",
       "      <td>133.394</td>\n",
       "      <td>125.297</td>\n",
       "      <td>126.755</td>\n",
       "    </tr>\n",
       "    <tr>\n",
       "      <th>441</th>\n",
       "      <td>202410.0</td>\n",
       "      <td>2024-10</td>\n",
       "      <td>135.015</td>\n",
       "      <td>136.512</td>\n",
       "      <td>135.998</td>\n",
       "      <td>136.106</td>\n",
       "      <td>127.829</td>\n",
       "      <td>132.271</td>\n",
       "      <td>141.526</td>\n",
       "      <td>187.015</td>\n",
       "      <td>...</td>\n",
       "      <td>119.799</td>\n",
       "      <td>120.918</td>\n",
       "      <td>128.732</td>\n",
       "      <td>143.142</td>\n",
       "      <td>142.478</td>\n",
       "      <td>145.641</td>\n",
       "      <td>139.775</td>\n",
       "      <td>134.204</td>\n",
       "      <td>126.592</td>\n",
       "      <td>128.422</td>\n",
       "    </tr>\n",
       "    <tr>\n",
       "      <th>442</th>\n",
       "      <td>202411.0</td>\n",
       "      <td>2024-11</td>\n",
       "      <td>135.140</td>\n",
       "      <td>137.142</td>\n",
       "      <td>136.733</td>\n",
       "      <td>137.349</td>\n",
       "      <td>127.089</td>\n",
       "      <td>133.411</td>\n",
       "      <td>143.485</td>\n",
       "      <td>190.346</td>\n",
       "      <td>...</td>\n",
       "      <td>119.652</td>\n",
       "      <td>121.445</td>\n",
       "      <td>128.667</td>\n",
       "      <td>143.978</td>\n",
       "      <td>142.712</td>\n",
       "      <td>146.113</td>\n",
       "      <td>139.874</td>\n",
       "      <td>134.246</td>\n",
       "      <td>126.773</td>\n",
       "      <td>128.574</td>\n",
       "    </tr>\n",
       "    <tr>\n",
       "      <th>443</th>\n",
       "      <td>202412.0</td>\n",
       "      <td>2024-12</td>\n",
       "      <td>135.552</td>\n",
       "      <td>137.801</td>\n",
       "      <td>137.451</td>\n",
       "      <td>138.316</td>\n",
       "      <td>127.241</td>\n",
       "      <td>132.359</td>\n",
       "      <td>143.690</td>\n",
       "      <td>193.049</td>\n",
       "      <td>...</td>\n",
       "      <td>120.423</td>\n",
       "      <td>121.054</td>\n",
       "      <td>129.353</td>\n",
       "      <td>144.551</td>\n",
       "      <td>143.436</td>\n",
       "      <td>146.975</td>\n",
       "      <td>140.202</td>\n",
       "      <td>134.644</td>\n",
       "      <td>127.166</td>\n",
       "      <td>128.771</td>\n",
       "    </tr>\n",
       "    <tr>\n",
       "      <th>444</th>\n",
       "      <td>202501.0</td>\n",
       "      <td>2025-01</td>\n",
       "      <td>135.403</td>\n",
       "      <td>138.997</td>\n",
       "      <td>138.443</td>\n",
       "      <td>138.878</td>\n",
       "      <td>129.320</td>\n",
       "      <td>132.846</td>\n",
       "      <td>144.162</td>\n",
       "      <td>190.974</td>\n",
       "      <td>...</td>\n",
       "      <td>119.633</td>\n",
       "      <td>118.811</td>\n",
       "      <td>129.568</td>\n",
       "      <td>146.168</td>\n",
       "      <td>144.790</td>\n",
       "      <td>148.151</td>\n",
       "      <td>142.149</td>\n",
       "      <td>134.467</td>\n",
       "      <td>126.445</td>\n",
       "      <td>130.283</td>\n",
       "    </tr>\n",
       "  </tbody>\n",
       "</table>\n",
       "<p>445 rows × 176 columns</p>\n",
       "</div>"
      ],
      "text/plain": [
       "     index date    Date_CPI  CPI ALL ITEMS  FOOD AND NON-ALCOHOLIC BEVERAGES  \\\n",
       "0         198801.0  1988-01         48.395                            48.004   \n",
       "1         198802.0  1988-02         48.551                            48.275   \n",
       "2         198803.0  1988-03         48.717                            48.424   \n",
       "3         198804.0  1988-04         49.280                            48.693   \n",
       "4         198805.0  1988-05         49.529                            48.820   \n",
       "..             ...      ...            ...                               ...   \n",
       "440       202409.0  2024-09        134.215                           136.316   \n",
       "441       202410.0  2024-10        135.015                           136.512   \n",
       "442       202411.0  2024-11        135.140                           137.142   \n",
       "443       202412.0  2024-12        135.552                           137.801   \n",
       "444       202501.0  2025-01        135.403                           138.997   \n",
       "\n",
       "        FOOD  BREAD & CEREALS     MEAT     FISH  MILK, CHEESE & EGGS  \\\n",
       "0     48.226           50.053   53.741   43.321               48.488   \n",
       "1     48.481           50.353   53.386   43.670               48.523   \n",
       "2     48.622           50.311   53.721   43.130               48.551   \n",
       "3     48.874           50.548   53.736   43.151               48.861   \n",
       "4     48.954           50.970   54.186   42.799               48.770   \n",
       "..       ...              ...      ...      ...                  ...   \n",
       "440  135.870          136.038  127.820  134.181              141.606   \n",
       "441  135.998          136.106  127.829  132.271              141.526   \n",
       "442  136.733          137.349  127.089  133.411              143.485   \n",
       "443  137.451          138.316  127.241  132.359              143.690   \n",
       "444  138.443          138.878  129.320  132.846              144.162   \n",
       "\n",
       "     OILS & FATS  ...  Durables  Semi-Durables  Non-Durables  \\\n",
       "0         45.461  ...   114.318        138.376        48.751   \n",
       "1         45.921  ...   114.255        139.398        49.000   \n",
       "2         46.108  ...   115.203        140.239        49.140   \n",
       "3         46.249  ...   116.535        140.521        49.430   \n",
       "4         46.346  ...   117.061        141.845        49.698   \n",
       "..           ...  ...       ...            ...           ...   \n",
       "440      187.465  ...   119.984        119.601       128.414   \n",
       "441      187.015  ...   119.799        120.918       128.732   \n",
       "442      190.346  ...   119.652        121.445       128.667   \n",
       "443      193.049  ...   120.423        121.054       129.353   \n",
       "444      190.974  ...   119.633        118.811       129.568   \n",
       "\n",
       "     Energy, Food, Alcohol & Tobacco  Energy & Non-processed Food  \\\n",
       "0                             36.743                       37.009   \n",
       "1                             36.824                       37.043   \n",
       "2                             36.892                       37.102   \n",
       "3                             37.260                       37.490   \n",
       "4                             37.430                       37.661   \n",
       "..                               ...                          ...   \n",
       "440                          141.418                      139.258   \n",
       "441                          143.142                      142.478   \n",
       "442                          143.978                      142.712   \n",
       "443                          144.551                      143.436   \n",
       "444                          146.168                      144.790   \n",
       "\n",
       "     Energy & Seasonal Food  Education, Health & Social Protection  \\\n",
       "0                    33.856                                 22.302   \n",
       "1                    33.966                                 22.318   \n",
       "2                    33.971                                 22.432   \n",
       "3                    34.433                                 22.486   \n",
       "4                    34.550                                 22.519   \n",
       "..                      ...                                    ...   \n",
       "440                 141.645                                137.524   \n",
       "441                 145.641                                139.775   \n",
       "442                 146.113                                139.874   \n",
       "443                 146.975                                140.202   \n",
       "444                 148.151                                142.149   \n",
       "\n",
       "     CPI excluding tobacco  Industrial Goods  Miscellaneous and Other Services  \n",
       "0                   50.142            79.030                            26.499  \n",
       "1                   50.308            79.181                            26.639  \n",
       "2                   50.487            79.543                            26.692  \n",
       "3                   51.061            80.210                            26.825  \n",
       "4                   51.322            80.779                            26.943  \n",
       "..                     ...               ...                               ...  \n",
       "440                133.394           125.297                           126.755  \n",
       "441                134.204           126.592                           128.422  \n",
       "442                134.246           126.773                           128.574  \n",
       "443                134.644           127.166                           128.771  \n",
       "444                134.467           126.445                           130.283  \n",
       "\n",
       "[445 rows x 176 columns]"
      ]
     },
     "execution_count": 19,
     "metadata": {},
     "output_type": "execute_result"
    }
   ],
   "source": [
    "CPI_UK"
   ]
  },
  {
   "cell_type": "markdown",
   "metadata": {},
   "source": [
    "### Dependent variable manipulation \n",
    "In order to retrieve a valuable estimate of inflation, we:\n",
    "1. Compute the 12-month rolling inflation rate from the Consumer Price index, which can be expressed with the following equation: \n",
    "$$\n",
    " \\frac{CPI_t - CPI_{t-1}}{CPI_{t-1}} \\times 100 \n",
    "$$\n",
    "\n",
    "In order to avoid null values, we add a small offset to the product (epislon value). \n",
    "\n",
    "2. In order to ensure stationarity, we apply seasonal differecing to further detrend the data by removing annual seasonality. \n",
    "$$\n",
    "\\Delta_{12} \\pi_t = \\pi_t - \\pi_{t-12}\n",
    "$$\n",
    "We visualize both results and prepare the final dataframe for analysis. \n"
   ]
  },
  {
   "cell_type": "code",
   "execution_count": 33,
   "metadata": {},
   "outputs": [
    {
     "name": "stderr",
     "output_type": "stream",
     "text": [
      "/tmp/ipykernel_433397/3866308925.py:2: SettingWithCopyWarning: \n",
      "A value is trying to be set on a copy of a slice from a DataFrame.\n",
      "Try using .loc[row_indexer,col_indexer] = value instead\n",
      "\n",
      "See the caveats in the documentation: https://pandas.pydata.org/pandas-docs/stable/user_guide/indexing.html#returning-a-view-versus-a-copy\n",
      "  CPI_UK_single['Date_CPI'] = pd.to_datetime(CPI_UK_single['Date_CPI'])\n"
     ]
    },
    {
     "data": {
      "image/png": "[encoded data removed]",
      "text/plain": [
       "<Figure size 1200x600 with 1 Axes>"
      ]
     },
     "metadata": {},
     "output_type": "display_data"
    }
   ],
   "source": [
    "\n",
    "# sort the data by date\n",
    "CPI_UK_single['Date_CPI'] = pd.to_datetime(CPI_UK_single['Date_CPI'])\n",
    "CPI_UK_single = CPI_UK_single.sort_values(by='Date_CPI')\n",
    "\n",
    "# Compute the 12-month rolling inflation rate \n",
    "epsilon = 1e-10  # Define a small epsilon value\n",
    "\n",
    "CPI_UK_single['CPI_Annual_Change'] = (CPI_UK_single['CPI ALL ITEMS'] - CPI_UK_single['CPI ALL ITEMS'].shift(12)) / (CPI_UK_single['CPI ALL ITEMS'].shift(12) + epsilon) * 100\n",
    "\n",
    "# Replace missing values\n",
    "CPI_UK_single['CPI_Annual_Change'] = CPI_UK_single['CPI_Annual_Change'].fillna(epsilon)\n",
    "\n",
    "# Plot \n",
    "plt.figure(figsize=(12, 6))\n",
    "plt.plot(CPI_UK_single['Date_CPI'], CPI_UK_single['CPI_Annual_Change'], marker='o', linestyle='-', color='green', label='Annual Inflation Rate (%)')\n",
    "\n",
    "plt.title('Annual CPI Inflation Rate (12-Month Change)')\n",
    "plt.xlabel('Year and Month')\n",
    "plt.ylabel('Annual Inflation Rate (%)')\n",
    "plt.xticks(rotation=45)\n",
    "plt.legend()\n",
    "plt.grid(True)\n",
    "\n",
    "plt.show()"
   ]
  },
  {
   "cell_type": "code",
   "execution_count": 44,
   "metadata": {},
   "outputs": [],
   "source": [
    "# Reading the data \n",
    "xls = pd.ExcelFile(\"../data/consumer-price-inflation-ONS.xlsx\", engine=\"openpyxl\")\n",
    "CPI_UK = pd.read_excel(\"../data/consumer-price-inflation-ONS.xlsx\", sheet_name=\"Table 57\", skiprows=6, engine=\"openpyxl\")\n",
    "\n",
    "# Dropping columns \n",
    "#print(CPI_UK['name'].tail(15)) #The last 14 rows of data are not relevant to the analysis\n",
    "CPI_UK = CPI_UK.drop(CPI_UK.tail(14).index)\n",
    "\n",
    "# Converting the time column to datetime format \n",
    "CPI_UK['name'] = pd.to_datetime(CPI_UK['name'])\n",
    "CPI_UK['name'] = CPI_UK['name'].dt.strftime('%Y-%m') #Removing the 00:00:00 timestamp from the date\n",
    "CPI_UK.rename(columns={\"name\": \"Date_CPI\"}, inplace=True)\n",
    "\n",
    "# Creating the df for exploratory analysis \n",
    "CPI_UK = CPI_UK.copy()\n",
    "cpi_df = CPI_UK[['Date_CPI', 'CPI ALL ITEMS']]"
   ]
  },
  {
   "cell_type": "code",
   "execution_count": 46,
   "metadata": {},
   "outputs": [
    {
     "name": "stdout",
     "output_type": "stream",
     "text": [
      "  Date_CPI  CPI ALL ITEMS  CPI_Annual_Change  Delta_CPI_Annual_Change\n",
      "0  1992-01         61.423           6.969576                -0.085256\n",
      "1  1992-02         61.707           6.870454                -0.146635\n",
      "2  1992-03         62.020           7.054701                 0.200762\n",
      "3  1992-04         62.694           4.711640                -3.732330\n",
      "4  1992-05         62.911           4.340399                -3.839381\n"
     ]
    }
   ],
   "source": [
    "\n",
    "# Small epsilon to avoid division by zero\n",
    "epsilon = 1e-10\n",
    "\n",
    "# 1. Compute 12-month rolling inflation rate\n",
    "cpi_df['CPI_Annual_Change'] = (\n",
    "    (cpi_df['CPI ALL ITEMS'] - cpi_df['CPI ALL ITEMS'].shift(12)) / \n",
    "    (cpi_df['CPI ALL ITEMS'].shift(12) + epsilon) * 100\n",
    ")\n",
    "# First shift creates NaN values for first 12 months (Jan-Dec 1988)\n",
    "# Remove initial NaN values\n",
    "cpi_df = cpi_df.dropna().reset_index(drop=True).copy()\n",
    "\n",
    "# 2. Apply seasonal differencing for stationarity\n",
    "# This creates another 12 months of NaN values (Jan-Dec 1989)\n",
    "cpi_df['Delta_CPI_Annual_Change'] = cpi_df['CPI_Annual_Change'].diff(12)\n",
    "\n",
    "# Remove additional NaN values from differencing\n",
    "cpi_df = cpi_df.dropna().reset_index(drop=True).copy()\n",
    "\n",
    "print(cpi_df.head())\n"
   ]
  },
  {
   "cell_type": "code",
   "execution_count": 34,
   "metadata": {},
   "outputs": [],
   "source": [
    "CPI_UK_single.to_csv(\"CPI_UK_single.csv\", index=False)"
   ]
  },
  {
   "cell_type": "code",
   "execution_count": 35,
   "metadata": {},
   "outputs": [
    {
     "data": {
      "image/png": "[encoded data removed]",
      "text/plain": [
       "<Figure size 1200x600 with 1 Axes>"
      ]
     },
     "metadata": {},
     "output_type": "display_data"
    }
   ],
   "source": [
    "# Apply seasonal differencing:\n",
    "CPI_UK_single['Delta_CPI_Annual_Change'] = CPI_UK_single['CPI_Annual_Change'].diff(12)\n",
    "CPI_UK_single['Delta_CPI_Annual_Change'] = CPI_UK_single['Delta_CPI_Annual_Change'].fillna(epsilon)\n",
    "\n",
    "# Plot \n",
    "plt.figure(figsize=(12, 6))\n",
    "plt.plot(CPI_UK_single['Date_CPI'], CPI_UK_single['Delta_CPI_Annual_Change'], marker='o', linestyle='-', color='green', label='Delta Annual Inflation Rate (%)')\n",
    "\n",
    "plt.title('Annual CPI Inflation Rate (12-Month Change)')\n",
    "plt.xlabel('Year and Month')\n",
    "plt.ylabel('Annual Inflation Rate (%)')\n",
    "plt.xticks(rotation=45)\n",
    "plt.legend()\n",
    "plt.grid(True)\n",
    "\n",
    "plt.show()"
   ]
  },
  {
   "cell_type": "code",
   "execution_count": 36,
   "metadata": {},
   "outputs": [
    {
     "data": {
      "text/html": [
       "<div>\n",
       "<style scoped>\n",
       "    .dataframe tbody tr th:only-of-type {\n",
       "        vertical-align: middle;\n",
       "    }\n",
       "\n",
       "    .dataframe tbody tr th {\n",
       "        vertical-align: top;\n",
       "    }\n",
       "\n",
       "    .dataframe thead th {\n",
       "        text-align: right;\n",
       "    }\n",
       "</style>\n",
       "<table border=\"1\" class=\"dataframe\">\n",
       "  <thead>\n",
       "    <tr style=\"text-align: right;\">\n",
       "      <th></th>\n",
       "      <th>Date_CPI</th>\n",
       "      <th>Delta_CPI_Annual_Change</th>\n",
       "    </tr>\n",
       "  </thead>\n",
       "  <tbody>\n",
       "    <tr>\n",
       "      <th>0</th>\n",
       "      <td>1988-01-01</td>\n",
       "      <td>1.000000e-10</td>\n",
       "    </tr>\n",
       "    <tr>\n",
       "      <th>1</th>\n",
       "      <td>1988-02-01</td>\n",
       "      <td>1.000000e-10</td>\n",
       "    </tr>\n",
       "    <tr>\n",
       "      <th>2</th>\n",
       "      <td>1988-03-01</td>\n",
       "      <td>1.000000e-10</td>\n",
       "    </tr>\n",
       "    <tr>\n",
       "      <th>3</th>\n",
       "      <td>1988-04-01</td>\n",
       "      <td>1.000000e-10</td>\n",
       "    </tr>\n",
       "    <tr>\n",
       "      <th>4</th>\n",
       "      <td>1988-05-01</td>\n",
       "      <td>1.000000e-10</td>\n",
       "    </tr>\n",
       "    <tr>\n",
       "      <th>...</th>\n",
       "      <td>...</td>\n",
       "      <td>...</td>\n",
       "    </tr>\n",
       "    <tr>\n",
       "      <th>440</th>\n",
       "      <td>2024-09-01</td>\n",
       "      <td>-4.971836e+00</td>\n",
       "    </tr>\n",
       "    <tr>\n",
       "      <th>441</th>\n",
       "      <td>2024-10-01</td>\n",
       "      <td>-2.318886e+00</td>\n",
       "    </tr>\n",
       "    <tr>\n",
       "      <th>442</th>\n",
       "      <td>2024-11-01</td>\n",
       "      <td>-1.318865e+00</td>\n",
       "    </tr>\n",
       "    <tr>\n",
       "      <th>443</th>\n",
       "      <td>2024-12-01</td>\n",
       "      <td>-1.490282e+00</td>\n",
       "    </tr>\n",
       "    <tr>\n",
       "      <th>444</th>\n",
       "      <td>2025-01-01</td>\n",
       "      <td>-9.981741e-01</td>\n",
       "    </tr>\n",
       "  </tbody>\n",
       "</table>\n",
       "<p>445 rows × 2 columns</p>\n",
       "</div>"
      ],
      "text/plain": [
       "      Date_CPI  Delta_CPI_Annual_Change\n",
       "0   1988-01-01             1.000000e-10\n",
       "1   1988-02-01             1.000000e-10\n",
       "2   1988-03-01             1.000000e-10\n",
       "3   1988-04-01             1.000000e-10\n",
       "4   1988-05-01             1.000000e-10\n",
       "..         ...                      ...\n",
       "440 2024-09-01            -4.971836e+00\n",
       "441 2024-10-01            -2.318886e+00\n",
       "442 2024-11-01            -1.318865e+00\n",
       "443 2024-12-01            -1.490282e+00\n",
       "444 2025-01-01            -9.981741e-01\n",
       "\n",
       "[445 rows x 2 columns]"
      ]
     },
     "execution_count": 36,
     "metadata": {},
     "output_type": "execute_result"
    }
   ],
   "source": [
    "#Prepare the final dataframe for analysis:\n",
    "CPI_Delta_YoY = CPI_UK_single[['Date_CPI', 'Delta_CPI_Annual_Change']]\n",
    "CPI_Delta_YoY"
   ]
  },
  {
   "cell_type": "code",
   "execution_count": 37,
   "metadata": {},
   "outputs": [
    {
     "name": "stdout",
     "output_type": "stream",
     "text": [
      "Dataset URL: https://evoml.ai/platform/datasets/view/68bf2f946af502fa8952f0f7\n"
     ]
    }
   ],
   "source": [
    "#Upload the dataset to EvoML \n",
    "dataset = ec.Dataset.from_pandas(CPI_Delta_YoY, name=\"CPI_Dataset_Delta\")\n",
    "dataset.put()\n",
    "dataset.wait()\n",
    "print(f\"Dataset URL: {API_URL}/platform/datasets/view/{dataset.dataset_id}\")"
   ]
  },
  {
   "cell_type": "markdown",
   "metadata": {},
   "source": [
    "## Trial configuration\n",
    "1. We create a universal function which will allow us to define four different trials, each with a Time series horizon of 12, 9, 6 and 3 months into the future, respectively. For this example, we have kept the window size the same (=6) and have chosen regularized regression models with the aim of ensuring generalization and handling milticolinearity concerns. \n",
    "2. We then create another function to store the metrics from each trial we have generated, so we could later on use it for our visualization. "
   ]
  },
  {
   "cell_type": "code",
   "execution_count": 38,
   "metadata": {},
   "outputs": [],
   "source": [
    "\n",
    "def config_trial(dataset_id, target_col, trial_name, models, train_percentage=0.8, budget_mode=BudgetMode.fast, loss_funcs=[\"Root Mean Squared Error\"], is_timeseries=True, TimeseriesHorizon=12):\n",
    "    '''\n",
    "    Configures and runs a trial with the specified parameters.\n",
    "\n",
    "    Params:\n",
    "    dataset_id: str - the dataset ID\n",
    "    target_col: str - the target column name\n",
    "    trial_name: str - the name of the trial\n",
    "    models: list - a list of model names\n",
    "    train_percentage: float - the percentage of the dataset to use for training\n",
    "    budget_mode: BudgetMode - the budget mode\n",
    "    loss_funcs: list - a list of loss functions\n",
    "    is_timeseries: bool - whether the dataset is a time series\n",
    "    TimeseriesHorizon: int - the time series horizon (default is 12)\n",
    "\n",
    "    Returns:\n",
    "    trial: Trial - the trial object\n",
    "    '''\n",
    "    try:\n",
    "        config = ec.TrialConfig.with_models(\n",
    "            models=models,\n",
    "            task=ec.MlTask.regression,\n",
    "            budget_mode=budget_mode,\n",
    "            loss_funcs=loss_funcs,\n",
    "            dataset_id=dataset_id,\n",
    "            is_timeseries=is_timeseries,\n",
    "        )\n",
    "        config.options.timeSeriesWindowSize = 6\n",
    "        config.options.timeSeriesHorizon = TimeseriesHorizon\n",
    "        config.options.splittingMethodOptions = SplitMethodOptions(method=\"percentage\", trainPercentage=train_percentage)\n",
    "        config.options.enableBudgetTuning = False\n",
    "        \n",
    "        trial, _ = ec.Trial.from_dataset_id(\n",
    "            dataset_id,\n",
    "            target_col=target_col,\n",
    "            trial_name=trial_name,\n",
    "            config=config,\n",
    "        )\n",
    "\n",
    "        trial.run(timeout=900)\n",
    "        return trial\n",
    "\n",
    "    except Exception as e:\n",
    "        print(f\"An error occurred while building the trial: {e}\")\n",
    "        return None"
   ]
  },
  {
   "cell_type": "code",
   "execution_count": 39,
   "metadata": {},
   "outputs": [],
   "source": [
    "def process_trial(trial, trial_number, results):\n",
    "    if trial:\n",
    "        # Proceed with further steps like getting metrics\n",
    "        metrics_df = trial.get_metrics_dataframe()\n",
    "        results[f'metrics_df_{trial_number}'] = metrics_df\n",
    "        \n",
    "        # Get the best model\n",
    "        best_model = trial.get_best()\n",
    "        best_model.build_model()\n",
    "        results[f'best_model_{trial_number}'] = best_model\n",
    "        \n",
    "        # Extract model representation dictionary\n",
    "        model_rep_dict = best_model.model_rep.__dict__\n",
    "        \n",
    "        # Get the best model name\n",
    "        best_model_name = model_rep_dict.get('name')\n",
    "        results[f'best_model_name_{trial_number}'] = best_model_name\n",
    "        \n",
    "        # Get the best model MSE on the test set\n",
    "        best_model_mse_test = model_rep_dict.get('metrics', {}).get('regression-mse', {}).get('test', {}).get('average')\n",
    "        results[f'best_model_mse_test_{trial_number}'] = best_model_mse_test\n",
    "        \n",
    "        # Calculate the RMSE\n",
    "        best_model_rmse_test = math.sqrt(best_model_mse_test)\n",
    "        results[f'best_model_rmse_test_{trial_number}'] = best_model_rmse_test\n",
    "        \n",
    "        # Print the results\n",
    "        print(f\"Best Model Name ({trial_number}): {best_model_name}\")\n",
    "        print(f\"Best Model MSE (Test) ({trial_number}): {best_model_mse_test}\")\n",
    "        print(f\"Best Model RMSE (Test) ({trial_number}): {best_model_rmse_test}\")\n",
    "    else:\n",
    "        print(f\"Trial {trial_number} unsuccessful.\")\n",
    "\n",
    "# Dictionary to store results\n",
    "results = {}\n"
   ]
  },
  {
   "cell_type": "markdown",
   "metadata": {},
   "source": [
    "## Defining and processing trials\n",
    "We will now create our four trials with a varying predictive horizon for the future, and extract their metrics. We recommend running these one after the other, as it can be quite time consuming if ran simultaneously. "
   ]
  },
  {
   "cell_type": "code",
   "execution_count": 40,
   "metadata": {},
   "outputs": [
    {
     "name": "stderr",
     "output_type": "stream",
     "text": [
      "\u001B[32m2025-09-08 20:34:40.386\u001B[0m | \u001B[1mINFO    \u001B[0m | \u001B[36mevoml_client.trial_config\u001B[0m:\u001B[36mget_allowed_metaml_models\u001B[0m:\u001B[36m72\u001B[0m - \u001B[1mModel validation couldn't take place because evoml-client is installed. Please install evoml-client[full] which allow further validations. Continuing without applying strict validations on models.\u001B[0m\n"
     ]
    },
    {
     "name": "stdout",
     "output_type": "stream",
     "text": [
      "An error occurred while building the trial: local variable 'ClassifierName' referenced before assignment\n",
      "Trial 12 unsuccessful.\n"
     ]
    },
    {
     "ename": "KeyError",
     "evalue": "'metrics_df_12'",
     "output_type": "error",
     "traceback": [
      "\u001B[0;31m---------------------------------------------------------------------------\u001B[0m",
      "\u001B[0;31mKeyError\u001B[0m                                  Traceback (most recent call last)",
      "Cell \u001B[0;32mIn[40], line 4\u001B[0m\n\u001B[1;32m      2\u001B[0m process_trial(trial_12, \u001B[38;5;241m12\u001B[39m, results)\n\u001B[1;32m      3\u001B[0m \u001B[38;5;66;03m# Access the trial results\u001B[39;00m\n\u001B[0;32m----> 4\u001B[0m metrics_df_12 \u001B[38;5;241m=\u001B[39m \u001B[43mresults\u001B[49m\u001B[43m[\u001B[49m\u001B[38;5;124;43m'\u001B[39;49m\u001B[38;5;124;43mmetrics_df_12\u001B[39;49m\u001B[38;5;124;43m'\u001B[39;49m\u001B[43m]\u001B[49m\n\u001B[1;32m      5\u001B[0m best_model_12 \u001B[38;5;241m=\u001B[39m results[\u001B[38;5;124m'\u001B[39m\u001B[38;5;124mbest_model_12\u001B[39m\u001B[38;5;124m'\u001B[39m]\n\u001B[1;32m      6\u001B[0m best_model_name_12 \u001B[38;5;241m=\u001B[39m results[\u001B[38;5;124m'\u001B[39m\u001B[38;5;124mbest_model_name_12\u001B[39m\u001B[38;5;124m'\u001B[39m]\n",
      "\u001B[0;31mKeyError\u001B[0m: 'metrics_df_12'"
     ]
    }
   ],
   "source": [
    "trial_12 = config_trial(dataset.dataset_id, \"Delta_CPI_Annual_Change\", \"Inflation_Rate_Delta_12\", [\"ridge_regressor\", \"lasso_regressor\", \"elastic_net_regressor\"], 0.8, BudgetMode.fast, [\"Root Mean Squared Error\"], True, 12)\n",
    "process_trial(trial_12, 12, results)\n",
    "# Access the trial results\n",
    "metrics_df_12 = results['metrics_df_12']\n",
    "best_model_12 = results['best_model_12']\n",
    "best_model_name_12 = results['best_model_name_12']\n",
    "best_model_rmse_test_12 = results['best_model_rmse_test_12']"
   ]
  },
  {
   "cell_type": "code",
   "execution_count": null,
   "metadata": {},
   "outputs": [
    {
     "name": "stdout",
     "output_type": "stream",
     "text": [
      "\u001B[32m2025-03-04 12:40:44.921\u001B[0m \u001B[31m-\u001B[0m \u001B[1mINFO    \u001B[0m \u001B[31m-\u001B[0m \u001B[36mevoml_client.pipeline\u001B[0m.\u001B[36mget_pipeline_report_when_ready\u001B[0m:\u001B[36m59\u001B[0m \u001B[31m-\u001B[0m \u001B[1mWaiting for pipeline report with id 91ff64fb-f100-40ea-b557-629c44ec6ef2 to be ready.\u001B[0m\n",
      "\u001B[32m2025-03-04 12:40:45.039\u001B[0m \u001B[31m-\u001B[0m \u001B[1mINFO    \u001B[0m \u001B[31m-\u001B[0m \u001B[36mevoml_client.pipeline\u001B[0m.\u001B[36mget_pipeline_report_when_ready\u001B[0m:\u001B[36m68\u001B[0m \u001B[31m-\u001B[0m \u001B[1mPipeline report with id 91ff64fb-f100-40ea-b557-629c44ec6ef2 not ready yet. Waiting for 5 seconds.\u001B[0m\n",
      "\u001B[32m2025-03-04 12:40:50.102\u001B[0m \u001B[31m-\u001B[0m \u001B[1mINFO    \u001B[0m \u001B[31m-\u001B[0m \u001B[36mevoml_client.pipeline\u001B[0m.\u001B[36mget_pipeline_report_when_ready\u001B[0m:\u001B[36m68\u001B[0m \u001B[31m-\u001B[0m \u001B[1mPipeline report with id 91ff64fb-f100-40ea-b557-629c44ec6ef2 not ready yet. Waiting for 5 seconds.\u001B[0m\n",
      "\u001B[32m2025-03-04 12:40:55.171\u001B[0m \u001B[31m-\u001B[0m \u001B[1mINFO    \u001B[0m \u001B[31m-\u001B[0m \u001B[36mevoml_client.pipeline\u001B[0m.\u001B[36mget_pipeline_report_when_ready\u001B[0m:\u001B[36m68\u001B[0m \u001B[31m-\u001B[0m \u001B[1mPipeline report with id 91ff64fb-f100-40ea-b557-629c44ec6ef2 not ready yet. Waiting for 5 seconds.\u001B[0m\n",
      "\u001B[32m2025-03-04 12:41:00.242\u001B[0m \u001B[31m-\u001B[0m \u001B[1mINFO    \u001B[0m \u001B[31m-\u001B[0m \u001B[36mevoml_client.pipeline\u001B[0m.\u001B[36mget_pipeline_report_when_ready\u001B[0m:\u001B[36m68\u001B[0m \u001B[31m-\u001B[0m \u001B[1mPipeline report with id 91ff64fb-f100-40ea-b557-629c44ec6ef2 not ready yet. Waiting for 5 seconds.\u001B[0m\n",
      "\u001B[32m2025-03-04 12:41:05.310\u001B[0m \u001B[31m-\u001B[0m \u001B[1mINFO    \u001B[0m \u001B[31m-\u001B[0m \u001B[36mevoml_client.pipeline\u001B[0m.\u001B[36mget_pipeline_report_when_ready\u001B[0m:\u001B[36m68\u001B[0m \u001B[31m-\u001B[0m \u001B[1mPipeline report with id 91ff64fb-f100-40ea-b557-629c44ec6ef2 not ready yet. Waiting for 5 seconds.\u001B[0m\n",
      "\u001B[32m2025-03-04 12:41:10.382\u001B[0m \u001B[31m-\u001B[0m \u001B[1mINFO    \u001B[0m \u001B[31m-\u001B[0m \u001B[36mevoml_client.pipeline\u001B[0m.\u001B[36mget_pipeline_report_when_ready\u001B[0m:\u001B[36m68\u001B[0m \u001B[31m-\u001B[0m \u001B[1mPipeline report with id 91ff64fb-f100-40ea-b557-629c44ec6ef2 not ready yet. Waiting for 5 seconds.\u001B[0m\n",
      "\u001B[32m2025-03-04 12:41:15.454\u001B[0m \u001B[31m-\u001B[0m \u001B[1mINFO    \u001B[0m \u001B[31m-\u001B[0m \u001B[36mevoml_client.pipeline\u001B[0m.\u001B[36mget_pipeline_report_when_ready\u001B[0m:\u001B[36m68\u001B[0m \u001B[31m-\u001B[0m \u001B[1mPipeline report with id 91ff64fb-f100-40ea-b557-629c44ec6ef2 not ready yet. Waiting for 5 seconds.\u001B[0m\n",
      "\u001B[32m2025-03-04 12:41:20.528\u001B[0m \u001B[31m-\u001B[0m \u001B[1mINFO    \u001B[0m \u001B[31m-\u001B[0m \u001B[36mevoml_client.pipeline\u001B[0m.\u001B[36mget_pipeline_report_when_ready\u001B[0m:\u001B[36m68\u001B[0m \u001B[31m-\u001B[0m \u001B[1mPipeline report with id 91ff64fb-f100-40ea-b557-629c44ec6ef2 not ready yet. Waiting for 5 seconds.\u001B[0m\n",
      "\u001B[32m2025-03-04 12:41:25.597\u001B[0m \u001B[31m-\u001B[0m \u001B[1mINFO    \u001B[0m \u001B[31m-\u001B[0m \u001B[36mevoml_client.pipeline\u001B[0m.\u001B[36mget_pipeline_report_when_ready\u001B[0m:\u001B[36m68\u001B[0m \u001B[31m-\u001B[0m \u001B[1mPipeline report with id 91ff64fb-f100-40ea-b557-629c44ec6ef2 not ready yet. Waiting for 5 seconds.\u001B[0m\n",
      "\u001B[32m2025-03-04 12:41:30.674\u001B[0m \u001B[31m-\u001B[0m \u001B[1mINFO    \u001B[0m \u001B[31m-\u001B[0m \u001B[36mevoml_client.pipeline\u001B[0m.\u001B[36mget_pipeline_report_when_ready\u001B[0m:\u001B[36m68\u001B[0m \u001B[31m-\u001B[0m \u001B[1mPipeline report with id 91ff64fb-f100-40ea-b557-629c44ec6ef2 not ready yet. Waiting for 5 seconds.\u001B[0m\n",
      "\u001B[32m2025-03-04 12:41:35.760\u001B[0m \u001B[31m-\u001B[0m \u001B[1mINFO    \u001B[0m \u001B[31m-\u001B[0m \u001B[36mevoml_client.pipeline\u001B[0m.\u001B[36mget_pipeline_report_when_ready\u001B[0m:\u001B[36m66\u001B[0m \u001B[31m-\u001B[0m \u001B[1mPipeline report is now completed.\u001B[0m\n"
     ]
    },
    {
     "name": "stderr",
     "output_type": "stream",
     "text": [
      "100%|██████████| 1445/1445 [00:00<00:00, 34758.10kb/s]\n"
     ]
    },
    {
     "name": "stdout",
     "output_type": "stream",
     "text": [
      "Best Model Name (9): ridge_regressor-04a45\n",
      "Best Model MSE (Test) (9): 3.11092929028327\n",
      "Best Model RMSE (Test) (9): 1.7637826652632886\n"
     ]
    }
   ],
   "source": [
    "trial_9 = config_trial(dataset.dataset_id, \"Delta_CPI_Annual_Change\", \"Inflation_Rate_Delta_9\", [\"ridge_regressor\", \"lasso_regressor\", \"elastic_net_regressor\"], 0.8, BudgetMode.fast, [\"Root Mean Squared Error\"], True, 9)\n",
    "process_trial(trial_9, 9, results)\n",
    "best_model_9 = results['best_model_9']\n",
    "best_model_name_9 = results['best_model_name_9']\n",
    "best_model_rmse_test_9 = results['best_model_rmse_test_9']"
   ]
  },
  {
   "cell_type": "code",
   "execution_count": null,
   "metadata": {},
   "outputs": [
    {
     "name": "stdout",
     "output_type": "stream",
     "text": [
      "Couldnt match any status: ,status ispending\n"
     ]
    },
    {
     "name": "stdout",
     "output_type": "stream",
     "text": [
      "\u001B[32m2025-03-04 12:42:36.901\u001B[0m \u001B[31m-\u001B[0m \u001B[1mINFO    \u001B[0m \u001B[31m-\u001B[0m \u001B[36mevoml_client.pipeline\u001B[0m.\u001B[36mget_pipeline_report_when_ready\u001B[0m:\u001B[36m59\u001B[0m \u001B[31m-\u001B[0m \u001B[1mWaiting for pipeline report with id 63d14a4d-d932-4910-86d2-e1aa12c209da to be ready.\u001B[0m\n",
      "\u001B[32m2025-03-04 12:42:36.959\u001B[0m \u001B[31m-\u001B[0m \u001B[1mINFO    \u001B[0m \u001B[31m-\u001B[0m \u001B[36mevoml_client.pipeline\u001B[0m.\u001B[36mget_pipeline_report_when_ready\u001B[0m:\u001B[36m68\u001B[0m \u001B[31m-\u001B[0m \u001B[1mPipeline report with id 63d14a4d-d932-4910-86d2-e1aa12c209da not ready yet. Waiting for 5 seconds.\u001B[0m\n",
      "\u001B[32m2025-03-04 12:42:42.035\u001B[0m \u001B[31m-\u001B[0m \u001B[1mINFO    \u001B[0m \u001B[31m-\u001B[0m \u001B[36mevoml_client.pipeline\u001B[0m.\u001B[36mget_pipeline_report_when_ready\u001B[0m:\u001B[36m68\u001B[0m \u001B[31m-\u001B[0m \u001B[1mPipeline report with id 63d14a4d-d932-4910-86d2-e1aa12c209da not ready yet. Waiting for 5 seconds.\u001B[0m\n",
      "\u001B[32m2025-03-04 12:42:47.104\u001B[0m \u001B[31m-\u001B[0m \u001B[1mINFO    \u001B[0m \u001B[31m-\u001B[0m \u001B[36mevoml_client.pipeline\u001B[0m.\u001B[36mget_pipeline_report_when_ready\u001B[0m:\u001B[36m68\u001B[0m \u001B[31m-\u001B[0m \u001B[1mPipeline report with id 63d14a4d-d932-4910-86d2-e1aa12c209da not ready yet. Waiting for 5 seconds.\u001B[0m\n",
      "\u001B[32m2025-03-04 12:42:52.171\u001B[0m \u001B[31m-\u001B[0m \u001B[1mINFO    \u001B[0m \u001B[31m-\u001B[0m \u001B[36mevoml_client.pipeline\u001B[0m.\u001B[36mget_pipeline_report_when_ready\u001B[0m:\u001B[36m68\u001B[0m \u001B[31m-\u001B[0m \u001B[1mPipeline report with id 63d14a4d-d932-4910-86d2-e1aa12c209da not ready yet. Waiting for 5 seconds.\u001B[0m\n",
      "\u001B[32m2025-03-04 12:42:57.252\u001B[0m \u001B[31m-\u001B[0m \u001B[1mINFO    \u001B[0m \u001B[31m-\u001B[0m \u001B[36mevoml_client.pipeline\u001B[0m.\u001B[36mget_pipeline_report_when_ready\u001B[0m:\u001B[36m68\u001B[0m \u001B[31m-\u001B[0m \u001B[1mPipeline report with id 63d14a4d-d932-4910-86d2-e1aa12c209da not ready yet. Waiting for 5 seconds.\u001B[0m\n",
      "\u001B[32m2025-03-04 12:43:02.330\u001B[0m \u001B[31m-\u001B[0m \u001B[1mINFO    \u001B[0m \u001B[31m-\u001B[0m \u001B[36mevoml_client.pipeline\u001B[0m.\u001B[36mget_pipeline_report_when_ready\u001B[0m:\u001B[36m68\u001B[0m \u001B[31m-\u001B[0m \u001B[1mPipeline report with id 63d14a4d-d932-4910-86d2-e1aa12c209da not ready yet. Waiting for 5 seconds.\u001B[0m\n",
      "\u001B[32m2025-03-04 12:43:07.410\u001B[0m \u001B[31m-\u001B[0m \u001B[1mINFO    \u001B[0m \u001B[31m-\u001B[0m \u001B[36mevoml_client.pipeline\u001B[0m.\u001B[36mget_pipeline_report_when_ready\u001B[0m:\u001B[36m68\u001B[0m \u001B[31m-\u001B[0m \u001B[1mPipeline report with id 63d14a4d-d932-4910-86d2-e1aa12c209da not ready yet. Waiting for 5 seconds.\u001B[0m\n",
      "\u001B[32m2025-03-04 12:43:12.493\u001B[0m \u001B[31m-\u001B[0m \u001B[1mINFO    \u001B[0m \u001B[31m-\u001B[0m \u001B[36mevoml_client.pipeline\u001B[0m.\u001B[36mget_pipeline_report_when_ready\u001B[0m:\u001B[36m68\u001B[0m \u001B[31m-\u001B[0m \u001B[1mPipeline report with id 63d14a4d-d932-4910-86d2-e1aa12c209da not ready yet. Waiting for 5 seconds.\u001B[0m\n",
      "\u001B[32m2025-03-04 12:43:17.567\u001B[0m \u001B[31m-\u001B[0m \u001B[1mINFO    \u001B[0m \u001B[31m-\u001B[0m \u001B[36mevoml_client.pipeline\u001B[0m.\u001B[36mget_pipeline_report_when_ready\u001B[0m:\u001B[36m68\u001B[0m \u001B[31m-\u001B[0m \u001B[1mPipeline report with id 63d14a4d-d932-4910-86d2-e1aa12c209da not ready yet. Waiting for 5 seconds.\u001B[0m\n",
      "\u001B[32m2025-03-04 12:43:22.638\u001B[0m \u001B[31m-\u001B[0m \u001B[1mINFO    \u001B[0m \u001B[31m-\u001B[0m \u001B[36mevoml_client.pipeline\u001B[0m.\u001B[36mget_pipeline_report_when_ready\u001B[0m:\u001B[36m68\u001B[0m \u001B[31m-\u001B[0m \u001B[1mPipeline report with id 63d14a4d-d932-4910-86d2-e1aa12c209da not ready yet. Waiting for 5 seconds.\u001B[0m\n",
      "\u001B[32m2025-03-04 12:43:27.718\u001B[0m \u001B[31m-\u001B[0m \u001B[1mINFO    \u001B[0m \u001B[31m-\u001B[0m \u001B[36mevoml_client.pipeline\u001B[0m.\u001B[36mget_pipeline_report_when_ready\u001B[0m:\u001B[36m68\u001B[0m \u001B[31m-\u001B[0m \u001B[1mPipeline report with id 63d14a4d-d932-4910-86d2-e1aa12c209da not ready yet. Waiting for 5 seconds.\u001B[0m\n",
      "\u001B[32m2025-03-04 12:43:32.801\u001B[0m \u001B[31m-\u001B[0m \u001B[1mINFO    \u001B[0m \u001B[31m-\u001B[0m \u001B[36mevoml_client.pipeline\u001B[0m.\u001B[36mget_pipeline_report_when_ready\u001B[0m:\u001B[36m66\u001B[0m \u001B[31m-\u001B[0m \u001B[1mPipeline report is now completed.\u001B[0m\n"
     ]
    },
    {
     "name": "stderr",
     "output_type": "stream",
     "text": [
      "100%|██████████| 1445/1445 [00:00<00:00, 86943.86kb/s]"
     ]
    },
    {
     "name": "stdout",
     "output_type": "stream",
     "text": [
      "Best Model Name (6): ridge_regressor-04a45\n",
      "Best Model MSE (Test) (6): 2.38158153483426\n",
      "Best Model RMSE (Test) (6): 1.5432373553132583\n"
     ]
    },
    {
     "name": "stderr",
     "output_type": "stream",
     "text": [
      "\n"
     ]
    }
   ],
   "source": [
    "trial_6 = config_trial(dataset.dataset_id, \"Delta_CPI_Annual_Change\", \"Inflation_Rate_Delta_6\", [\"ridge_regressor\", \"lasso_regressor\", \"elastic_net_regressor\"], 0.8, BudgetMode.fast, [\"Root Mean Squared Error\"], True, 6)\n",
    "process_trial(trial_6, 6, results)\n",
    "best_model_6 = results['best_model_6']\n",
    "best_model_name_6 = results['best_model_name_6']\n",
    "best_model_rmse_test_6 = results['best_model_rmse_test_6']"
   ]
  },
  {
   "cell_type": "code",
   "execution_count": null,
   "metadata": {},
   "outputs": [
    {
     "name": "stdout",
     "output_type": "stream",
     "text": [
      "Couldnt match any status: ,status ispending\n"
     ]
    },
    {
     "name": "stdout",
     "output_type": "stream",
     "text": [
      "\u001B[32m2025-03-04 12:44:40.771\u001B[0m \u001B[31m-\u001B[0m \u001B[1mINFO    \u001B[0m \u001B[31m-\u001B[0m \u001B[36mevoml_client.pipeline\u001B[0m.\u001B[36mget_pipeline_report_when_ready\u001B[0m:\u001B[36m59\u001B[0m \u001B[31m-\u001B[0m \u001B[1mWaiting for pipeline report with id e89d5167-b718-4012-9658-ffd050716c2f to be ready.\u001B[0m\n",
      "\u001B[32m2025-03-04 12:44:40.836\u001B[0m \u001B[31m-\u001B[0m \u001B[1mINFO    \u001B[0m \u001B[31m-\u001B[0m \u001B[36mevoml_client.pipeline\u001B[0m.\u001B[36mget_pipeline_report_when_ready\u001B[0m:\u001B[36m68\u001B[0m \u001B[31m-\u001B[0m \u001B[1mPipeline report with id e89d5167-b718-4012-9658-ffd050716c2f not ready yet. Waiting for 5 seconds.\u001B[0m\n",
      "\u001B[32m2025-03-04 12:44:45.908\u001B[0m \u001B[31m-\u001B[0m \u001B[1mINFO    \u001B[0m \u001B[31m-\u001B[0m \u001B[36mevoml_client.pipeline\u001B[0m.\u001B[36mget_pipeline_report_when_ready\u001B[0m:\u001B[36m68\u001B[0m \u001B[31m-\u001B[0m \u001B[1mPipeline report with id e89d5167-b718-4012-9658-ffd050716c2f not ready yet. Waiting for 5 seconds.\u001B[0m\n",
      "\u001B[32m2025-03-04 12:44:50.973\u001B[0m \u001B[31m-\u001B[0m \u001B[1mINFO    \u001B[0m \u001B[31m-\u001B[0m \u001B[36mevoml_client.pipeline\u001B[0m.\u001B[36mget_pipeline_report_when_ready\u001B[0m:\u001B[36m68\u001B[0m \u001B[31m-\u001B[0m \u001B[1mPipeline report with id e89d5167-b718-4012-9658-ffd050716c2f not ready yet. Waiting for 5 seconds.\u001B[0m\n",
      "\u001B[32m2025-03-04 12:44:56.038\u001B[0m \u001B[31m-\u001B[0m \u001B[1mINFO    \u001B[0m \u001B[31m-\u001B[0m \u001B[36mevoml_client.pipeline\u001B[0m.\u001B[36mget_pipeline_report_when_ready\u001B[0m:\u001B[36m68\u001B[0m \u001B[31m-\u001B[0m \u001B[1mPipeline report with id e89d5167-b718-4012-9658-ffd050716c2f not ready yet. Waiting for 5 seconds.\u001B[0m\n",
      "\u001B[32m2025-03-04 12:45:01.110\u001B[0m \u001B[31m-\u001B[0m \u001B[1mINFO    \u001B[0m \u001B[31m-\u001B[0m \u001B[36mevoml_client.pipeline\u001B[0m.\u001B[36mget_pipeline_report_when_ready\u001B[0m:\u001B[36m68\u001B[0m \u001B[31m-\u001B[0m \u001B[1mPipeline report with id e89d5167-b718-4012-9658-ffd050716c2f not ready yet. Waiting for 5 seconds.\u001B[0m\n",
      "\u001B[32m2025-03-04 12:45:06.187\u001B[0m \u001B[31m-\u001B[0m \u001B[1mINFO    \u001B[0m \u001B[31m-\u001B[0m \u001B[36mevoml_client.pipeline\u001B[0m.\u001B[36mget_pipeline_report_when_ready\u001B[0m:\u001B[36m68\u001B[0m \u001B[31m-\u001B[0m \u001B[1mPipeline report with id e89d5167-b718-4012-9658-ffd050716c2f not ready yet. Waiting for 5 seconds.\u001B[0m\n",
      "\u001B[32m2025-03-04 12:45:11.257\u001B[0m \u001B[31m-\u001B[0m \u001B[1mINFO    \u001B[0m \u001B[31m-\u001B[0m \u001B[36mevoml_client.pipeline\u001B[0m.\u001B[36mget_pipeline_report_when_ready\u001B[0m:\u001B[36m68\u001B[0m \u001B[31m-\u001B[0m \u001B[1mPipeline report with id e89d5167-b718-4012-9658-ffd050716c2f not ready yet. Waiting for 5 seconds.\u001B[0m\n",
      "\u001B[32m2025-03-04 12:45:16.318\u001B[0m \u001B[31m-\u001B[0m \u001B[1mINFO    \u001B[0m \u001B[31m-\u001B[0m \u001B[36mevoml_client.pipeline\u001B[0m.\u001B[36mget_pipeline_report_when_ready\u001B[0m:\u001B[36m68\u001B[0m \u001B[31m-\u001B[0m \u001B[1mPipeline report with id e89d5167-b718-4012-9658-ffd050716c2f not ready yet. Waiting for 5 seconds.\u001B[0m\n",
      "\u001B[32m2025-03-04 12:45:21.389\u001B[0m \u001B[31m-\u001B[0m \u001B[1mINFO    \u001B[0m \u001B[31m-\u001B[0m \u001B[36mevoml_client.pipeline\u001B[0m.\u001B[36mget_pipeline_report_when_ready\u001B[0m:\u001B[36m68\u001B[0m \u001B[31m-\u001B[0m \u001B[1mPipeline report with id e89d5167-b718-4012-9658-ffd050716c2f not ready yet. Waiting for 5 seconds.\u001B[0m\n",
      "\u001B[32m2025-03-04 12:45:26.466\u001B[0m \u001B[31m-\u001B[0m \u001B[1mINFO    \u001B[0m \u001B[31m-\u001B[0m \u001B[36mevoml_client.pipeline\u001B[0m.\u001B[36mget_pipeline_report_when_ready\u001B[0m:\u001B[36m68\u001B[0m \u001B[31m-\u001B[0m \u001B[1mPipeline report with id e89d5167-b718-4012-9658-ffd050716c2f not ready yet. Waiting for 5 seconds.\u001B[0m\n",
      "\u001B[32m2025-03-04 12:45:31.548\u001B[0m \u001B[31m-\u001B[0m \u001B[1mINFO    \u001B[0m \u001B[31m-\u001B[0m \u001B[36mevoml_client.pipeline\u001B[0m.\u001B[36mget_pipeline_report_when_ready\u001B[0m:\u001B[36m66\u001B[0m \u001B[31m-\u001B[0m \u001B[1mPipeline report is now completed.\u001B[0m\n"
     ]
    },
    {
     "name": "stderr",
     "output_type": "stream",
     "text": [
      "100%|██████████| 1445/1445 [00:00<00:00, 94016.43kb/s]\n"
     ]
    },
    {
     "name": "stdout",
     "output_type": "stream",
     "text": [
      "Best Model Name (3): ridge_regressor-04a45\n",
      "Best Model MSE (Test) (3): 1.52515625595953\n",
      "Best Model RMSE (Test) (3): 1.2349721680910586\n"
     ]
    }
   ],
   "source": [
    "trial_3 = config_trial(dataset.dataset_id, \"Delta_CPI_Annual_Change\", \"Inflation_Rate_Delta_3\", [\"ridge_regressor\", \"lasso_regressor\", \"elastic_net_regressor\"], 0.8, BudgetMode.fast, [\"Root Mean Squared Error\"], True, 3)\n",
    "process_trial(trial_3, 3, results)\n",
    "best_model_3 = results['best_model_3']\n",
    "best_model_name_3 = results['best_model_name_3']\n",
    "best_model_rmse_test_3 = results['best_model_rmse_test_3']"
   ]
  },
  {
   "cell_type": "markdown",
   "metadata": {},
   "source": [
    "#### Retrieving predictions \n",
    "After we have created our four trials, we will manually split the data to generate predictions on the test set. We also generate a similar split for original, Year-on-Year inflation rate variable to visualize our actual values. \n",
    "\n",
    "Next, we extend our test dataframes with a time window representing the desired period for forecasting and generate predictions."
   ]
  },
  {
   "cell_type": "code",
   "execution_count": null,
   "metadata": {},
   "outputs": [],
   "source": [
    "\n",
    "split_idx_test = int(len(CPI_Delta_YoY) * 0.8)\n",
    "test_data = CPI_Delta_YoY.iloc[split_idx_test:].copy()   # Last 20% \n",
    "train_data = CPI_Delta_YoY.iloc[:split_idx_test].copy()  # First 80%\n",
    "\n",
    "# Split dataset for visualization (original DV format)\n",
    "split_idx_vis = int(len(CPI_UK_single) * 0.8)\n",
    "visualization_data = CPI_UK_single.iloc[split_idx_vis:].copy()\n",
    "\n",
    "@dataclass\n",
    "class ForecastModel:\n",
    "    model: any\n",
    "    periods: int\n",
    "    extended_test_data: pd.DataFrame = None\n",
    "    predictions: pd.Series = None\n",
    "\n",
    "    def extend_test_data(self, test_data, last_date):\n",
    "        new_dates = pd.date_range(start=last_date + pd.DateOffset(months=1), periods=self.periods, freq='M')\n",
    "        new_entries = pd.DataFrame({\n",
    "            'Date_CPI': new_dates,\n",
    "            'Delta_CPI_Annual_Change': [0] * len(new_dates)\n",
    "        })\n",
    "        self.extended_test_data = test_data.append(new_entries, ignore_index=True)\n",
    "\n",
    "    def make_predictions(self):\n",
    "        self.predictions = pd.Series(self.model.predict(data=self.extended_test_data), index=self.extended_test_data.index)\n",
    "\n",
    "# Assuming test_data and best_model_12, best_model_9, best_model_6, best_model_3 are already defined\n",
    "last_date = test_data['Date_CPI'].max()\n",
    "\n",
    "# Create instances of ForecastModel for each prediction period\n",
    "models = [\n",
    "    ForecastModel(model=best_model_12, periods=12),\n",
    "    ForecastModel(model=best_model_9, periods=9),\n",
    "    ForecastModel(model=best_model_6, periods=6),\n",
    "    ForecastModel(model=best_model_3, periods=3)\n",
    "]\n",
    "\n",
    "# Extend test data and make predictions for each model\n",
    "for forecast_model in models:\n",
    "    forecast_model.extend_test_data(test_data, last_date)\n",
    "    forecast_model.make_predictions()\n",
    "\n",
    "# Access the extended test data and predictions\n",
    "extended_test_data_12 = models[0].extended_test_data\n",
    "predictions_inflation_12 = models[0].predictions\n",
    "\n",
    "extended_test_data_9 = models[1].extended_test_data\n",
    "predictions_inflation_9 = models[1].predictions\n",
    "\n",
    "extended_test_data_6 = models[2].extended_test_data\n",
    "predictions_inflation_6 = models[2].predictions\n",
    "\n",
    "extended_test_data_3 = models[3].extended_test_data\n",
    "predictions_inflation_3 = models[3].predictions"
   ]
  },
  {
   "cell_type": "markdown",
   "metadata": {},
   "source": [
    "### Dependent variable transformation \n",
    "Finally, we transform the seasonally differenced predictions back to their original scale, as we take the last 12 values before the slice of the testing set and add the annual difference between the values back, so we could achieve a representation of the year-on-year inflation rate that is interpretable and aligned with our visualization data. This can also be understood by the equation below: \n",
    "$$\n",
    "x_t = x_{t-12} + \\text{diff}(x_t)\n",
    "$$\n",
    "\n",
    "We visualize the results with a window representing the predictions time window between 2025 and 2026 for each of our trials."
   ]
  },
  {
   "cell_type": "code",
   "execution_count": null,
   "metadata": {},
   "outputs": [],
   "source": [
    "#Retrieving the last 12 Y-o-Y values before the testing set:\n",
    "len(CPI_UK_single) == len(CPI_Delta_YoY) #TRUE \n",
    "slice_length = len(train_data)\n",
    "CPI_UK_train = CPI_UK_single.iloc[:slice_length] \n",
    "last_12 = CPI_UK_train.tail(12)\n",
    "last_12 = last_12['CPI_Annual_Change'].reset_index(drop=True)"
   ]
  },
  {
   "cell_type": "code",
   "execution_count": null,
   "metadata": {},
   "outputs": [],
   "source": [
    "\n",
    "def extend_and_reverse_predictions(last_data, predictions, period):\n",
    "    # Extending prediction window\n",
    "    extended_predictions = pd.concat([last_data, predictions], ignore_index=True)\n",
    "    \n",
    "    # Reversing differencing\n",
    "    reversed_predictions = extended_predictions.copy()\n",
    "    for t in range(period, len(extended_predictions)):\n",
    "        reversed_predictions[t] = extended_predictions[t] + reversed_predictions[t-period]\n",
    "    \n",
    "    return extended_predictions, reversed_predictions\n",
    "\n",
    "\n",
    "# APplying this to each of the series:\n",
    "predictions_inflation_12_ext, predictions_inflation_12_reversed = extend_and_reverse_predictions(last_12, predictions_inflation_12, 12)\n",
    "predictions_inflation_9_ext, predictions_inflation_9_reversed = extend_and_reverse_predictions(last_12, predictions_inflation_9, 12)\n",
    "predictions_inflation_6_ext, predictions_inflation_6_reversed = extend_and_reverse_predictions(last_12, predictions_inflation_6, 12)\n",
    "predictions_inflation_3_ext, predictions_inflation_3_reversed = extend_and_reverse_predictions(last_12, predictions_inflation_3, 12)"
   ]
  },
  {
   "cell_type": "code",
   "execution_count": null,
   "metadata": {},
   "outputs": [
    {
     "data": {
      "application/vnd.plotly.v1+json": {
       "config": {
        "plotlyServerURL": "https://plot.ly"
       },
       "data": [
        {
         "mode": "lines",
         "name": "Actual",
         "type": "scatter",
         "x": [
          "2017-09-01T00:00:00",
          "2017-10-01T00:00:00",
          "2017-11-01T00:00:00",
          "2017-12-01T00:00:00",
          "2018-01-01T00:00:00",
          "2018-02-01T00:00:00",
          "2018-03-01T00:00:00",
          "2018-04-01T00:00:00",
          "2018-05-01T00:00:00",
          "2018-06-01T00:00:00",
          "2018-07-01T00:00:00",
          "2018-08-01T00:00:00",
          "2018-09-01T00:00:00",
          "2018-10-01T00:00:00",
          "2018-11-01T00:00:00",
          "2018-12-01T00:00:00",
          "2019-01-01T00:00:00",
          "2019-02-01T00:00:00",
          "2019-03-01T00:00:00",
          "2019-04-01T00:00:00",
          "2019-05-01T00:00:00",
          "2019-06-01T00:00:00",
          "2019-07-01T00:00:00",
          "2019-08-01T00:00:00",
          "2019-09-01T00:00:00",
          "2019-10-01T00:00:00",
          "2019-11-01T00:00:00",
          "2019-12-01T00:00:00",
          "2020-01-01T00:00:00",
          "2020-02-01T00:00:00",
          "2020-03-01T00:00:00",
          "2020-04-01T00:00:00",
          "2020-05-01T00:00:00",
          "2020-06-01T00:00:00",
          "2020-07-01T00:00:00",
          "2020-08-01T00:00:00",
          "2020-09-01T00:00:00",
          "2020-10-01T00:00:00",
          "2020-11-01T00:00:00",
          "2020-12-01T00:00:00",
          "2021-01-01T00:00:00",
          "2021-02-01T00:00:00",
          "2021-03-01T00:00:00",
          "2021-04-01T00:00:00",
          "2021-05-01T00:00:00",
          "2021-06-01T00:00:00",
          "2021-07-01T00:00:00",
          "2021-08-01T00:00:00",
          "2021-09-01T00:00:00",
          "2021-10-01T00:00:00",
          "2021-11-01T00:00:00",
          "2021-12-01T00:00:00",
          "2022-01-01T00:00:00",
          "2022-02-01T00:00:00",
          "2022-03-01T00:00:00",
          "2022-04-01T00:00:00",
          "2022-05-01T00:00:00",
          "2022-06-01T00:00:00",
          "2022-07-01T00:00:00",
          "2022-08-01T00:00:00",
          "2022-09-01T00:00:00",
          "2022-10-01T00:00:00",
          "2022-11-01T00:00:00",
          "2022-12-01T00:00:00",
          "2023-01-01T00:00:00",
          "2023-02-01T00:00:00",
          "2023-03-01T00:00:00",
          "2023-04-01T00:00:00",
          "2023-05-01T00:00:00",
          "2023-06-01T00:00:00",
          "2023-07-01T00:00:00",
          "2023-08-01T00:00:00",
          "2023-09-01T00:00:00",
          "2023-10-01T00:00:00",
          "2023-11-01T00:00:00",
          "2023-12-01T00:00:00",
          "2024-01-01T00:00:00",
          "2024-02-01T00:00:00",
          "2024-03-01T00:00:00",
          "2024-04-01T00:00:00",
          "2024-05-01T00:00:00",
          "2024-06-01T00:00:00",
          "2024-07-01T00:00:00",
          "2024-08-01T00:00:00",
          "2024-09-01T00:00:00",
          "2024-10-01T00:00:00",
          "2024-11-01T00:00:00",
          "2024-12-01T00:00:00",
          "2025-01-01T00:00:00"
         ],
         "y": [
          2.959322905334331,
          3.000839879449637,
          3.092061801793419,
          2.972522080468129,
          2.989462883299471,
          2.7084476138207156,
          2.457992623092394,
          2.3817618432404557,
          2.4208926618180255,
          2.4466519499608403,
          2.47444654362014,
          2.6525991231848027,
          2.4190682889798296,
          2.391550430726198,
          2.3097449238192396,
          2.1042800369753776,
          1.8479489586708506,
          1.8692836637942059,
          1.9076008799898025,
          2.1176269674840675,
          2.020602967581486,
          2.0054625700522575,
          2.0610954060243847,
          1.7242673975466773,
          1.7149554617892904,
          1.4643743851581374,
          1.474217552255299,
          1.3020711798899485,
          1.769270563888662,
          1.7095297388878543,
          1.5233075399036222,
          0.7674226306051491,
          0.47986067365724316,
          0.603151955379164,
          1.040306070458239,
          0.21960784313705184,
          0.5319001834451519,
          0.6971504552247486,
          0.3150650858134885,
          0.588766446761712,
          0.7005804281112934,
          0.41421588932113573,
          0.7143251652330596,
          1.525922237894942,
          2.1149484631109257,
          2.5141825683318677,
          2.0399369223980073,
          3.196670748434163,
          3.0800689553962446,
          4.206211658547493,
          5.1299005427398665,
          5.386045744744125,
          5.45551333589822,
          6.1766080906359235,
          7.023124028875764,
          9.010661677889265,
          9.082701336214251,
          9.412113480775638,
          10.100901192296202,
          9.870187803890024,
          10.09562780766792,
          11.051566349867075,
          10.672012718702732,
          10.52837437309495,
          10.05152396037351,
          10.416396867733415,
          10.056877380557463,
          8.658235862567349,
          8.680682006283165,
          7.949684295220555,
          6.827214193026851,
          6.657030564843399,
          6.652176723436029,
          4.599877970503248,
          3.940991680739473,
          3.9932685351168535,
          3.9811146171882377,
          3.4114721796489134,
          3.228059284547815,
          2.3330700994392917,
          1.989977762206423,
          1.975310520029211,
          2.234444826399127,
          2.216283708676157,
          1.6803412198749281,
          2.280991485104781,
          2.6221267095441103,
          2.5029869481688873,
          2.982940500906606
         ]
        },
        {
         "mode": "lines",
         "name": "12-Month Prediction",
         "opacity": 0.5,
         "type": "scatter",
         "x": [
          "2017-09-01T00:00:00",
          "2017-10-01T00:00:00",
          "2017-11-01T00:00:00",
          "2017-12-01T00:00:00",
          "2018-01-01T00:00:00",
          "2018-02-01T00:00:00",
          "2018-03-01T00:00:00",
          "2018-04-01T00:00:00",
          "2018-05-01T00:00:00",
          "2018-06-01T00:00:00",
          "2018-07-01T00:00:00",
          "2018-08-01T00:00:00",
          "2018-09-01T00:00:00",
          "2018-10-01T00:00:00",
          "2018-11-01T00:00:00",
          "2018-12-01T00:00:00",
          "2019-01-01T00:00:00",
          "2019-02-01T00:00:00",
          "2019-03-01T00:00:00",
          "2019-04-01T00:00:00",
          "2019-05-01T00:00:00",
          "2019-06-01T00:00:00",
          "2019-07-01T00:00:00",
          "2019-08-01T00:00:00",
          "2019-09-01T00:00:00",
          "2019-10-01T00:00:00",
          "2019-11-01T00:00:00",
          "2019-12-01T00:00:00",
          "2020-01-01T00:00:00",
          "2020-02-01T00:00:00",
          "2020-03-01T00:00:00",
          "2020-04-01T00:00:00",
          "2020-05-01T00:00:00",
          "2020-06-01T00:00:00",
          "2020-07-01T00:00:00",
          "2020-08-01T00:00:00",
          "2020-09-01T00:00:00",
          "2020-10-01T00:00:00",
          "2020-11-01T00:00:00",
          "2020-12-01T00:00:00",
          "2021-01-01T00:00:00",
          "2021-02-01T00:00:00",
          "2021-03-01T00:00:00",
          "2021-04-01T00:00:00",
          "2021-05-01T00:00:00",
          "2021-06-01T00:00:00",
          "2021-07-01T00:00:00",
          "2021-08-01T00:00:00",
          "2021-09-01T00:00:00",
          "2021-10-01T00:00:00",
          "2021-11-01T00:00:00",
          "2021-12-01T00:00:00",
          "2022-01-01T00:00:00",
          "2022-02-01T00:00:00",
          "2022-03-01T00:00:00",
          "2022-04-01T00:00:00",
          "2022-05-01T00:00:00",
          "2022-06-01T00:00:00",
          "2022-07-01T00:00:00",
          "2022-08-01T00:00:00",
          "2022-09-01T00:00:00",
          "2022-10-01T00:00:00",
          "2022-11-01T00:00:00",
          "2022-12-01T00:00:00",
          "2023-01-01T00:00:00",
          "2023-02-01T00:00:00",
          "2023-03-01T00:00:00",
          "2023-04-01T00:00:00",
          "2023-05-01T00:00:00",
          "2023-06-01T00:00:00",
          "2023-07-01T00:00:00",
          "2023-08-01T00:00:00",
          "2023-09-01T00:00:00",
          "2023-10-01T00:00:00",
          "2023-11-01T00:00:00",
          "2023-12-01T00:00:00",
          "2024-01-01T00:00:00",
          "2024-02-01T00:00:00",
          "2024-03-01T00:00:00",
          "2024-04-01T00:00:00",
          "2024-05-01T00:00:00",
          "2024-06-01T00:00:00",
          "2024-07-01T00:00:00",
          "2024-08-01T00:00:00",
          "2024-09-01T00:00:00",
          "2024-10-01T00:00:00",
          "2024-11-01T00:00:00",
          "2024-12-01T00:00:00",
          "2025-01-01T00:00:00",
          "2025-02-28T00:00:00",
          "2025-03-31T00:00:00",
          "2025-04-30T00:00:00",
          "2025-05-31T00:00:00",
          "2025-06-30T00:00:00",
          "2025-07-31T00:00:00",
          "2025-08-31T00:00:00",
          "2025-09-30T00:00:00",
          "2025-10-31T00:00:00",
          "2025-11-30T00:00:00",
          "2025-12-31T00:00:00",
          "2026-01-31T00:00:00"
         ],
         "y": [
          0.976437699679545,
          0.9093356465546774,
          1.1650524173828625,
          1.5587625578042263,
          1.8151864910729114,
          2.2977103061252513,
          2.3162476787580886,
          2.7107111501289887,
          2.8748680567974407,
          2.643504531719438,
          2.6289884758005555,
          2.861305476815337,
          0.974386677372227,
          0.9072846242473593,
          1.1630013950755445,
          1.5567115354969083,
          1.8131354687655934,
          2.2956592838179333,
          2.3141966564507706,
          2.7086601278216706,
          2.8728170344901227,
          2.64145350941212,
          2.6269374534932375,
          2.859254454508019,
          0.9723356550649089,
          0.9052336019400413,
          1.1609503727682264,
          1.5546605131895903,
          1.8110844464582754,
          2.2936082615106153,
          2.3121456341434525,
          2.7066091055143526,
          2.8707660121828047,
          2.639402487104802,
          2.6248864311859195,
          2.857203432200701,
          0.9702846327575909,
          0.9031825796327233,
          1.1588993504609084,
          1.5526094908822723,
          1.8090334241509574,
          2.2915572392032972,
          2.3100946118361345,
          2.7045580832070346,
          2.8687149898754867,
          2.637351464797484,
          2.6228354088786014,
          2.855152409893383,
          0.9682336104502729,
          0.9011315573254053,
          1.1568483281535904,
          1.5505584685749543,
          1.8069824018436393,
          2.289506216895979,
          2.3080435895288165,
          2.7025070608997166,
          2.8666639675681687,
          2.635300442490166,
          2.6207843865712834,
          2.853101387586065,
          0.9661825881429549,
          0.8990805350180873,
          1.1547973058462724,
          1.5485074462676363,
          1.8049313795363213,
          2.287455194588661,
          2.3059925672214985,
          2.7004560385923986,
          2.8646129452608506,
          2.633249420182848,
          2.6187333642639654,
          2.851050365278747,
          0.9641315658356369,
          0.8970295127107693,
          1.1527462835389544,
          1.5464564239603182,
          1.8028803572290033,
          2.285404172281343,
          2.3039415449141805,
          2.6984050162850806,
          2.8625619229535326,
          2.63119839787553,
          2.6166823419566474,
          2.848999342971429,
          0.9620805435283188,
          0.8949784904034512,
          1.1506952612316363,
          1.5444054016530002,
          1.8008293349216853,
          2.283353149974025,
          2.3018905226068624,
          2.6963539939777625,
          2.8605109006462146,
          2.6291473755682118,
          2.6146313196493294,
          2.846948320664111,
          0.9600295212210008,
          0.8929274680961332,
          1.1486442389243183,
          1.5423543793456822,
          1.7987783126143673
         ]
        },
        {
         "mode": "lines",
         "name": "9-Month Prediction",
         "opacity": 0.5,
         "type": "scatter",
         "x": [
          "2017-09-01T00:00:00",
          "2017-10-01T00:00:00",
          "2017-11-01T00:00:00",
          "2017-12-01T00:00:00",
          "2018-01-01T00:00:00",
          "2018-02-01T00:00:00",
          "2018-03-01T00:00:00",
          "2018-04-01T00:00:00",
          "2018-05-01T00:00:00",
          "2018-06-01T00:00:00",
          "2018-07-01T00:00:00",
          "2018-08-01T00:00:00",
          "2018-09-01T00:00:00",
          "2018-10-01T00:00:00",
          "2018-11-01T00:00:00",
          "2018-12-01T00:00:00",
          "2019-01-01T00:00:00",
          "2019-02-01T00:00:00",
          "2019-03-01T00:00:00",
          "2019-04-01T00:00:00",
          "2019-05-01T00:00:00",
          "2019-06-01T00:00:00",
          "2019-07-01T00:00:00",
          "2019-08-01T00:00:00",
          "2019-09-01T00:00:00",
          "2019-10-01T00:00:00",
          "2019-11-01T00:00:00",
          "2019-12-01T00:00:00",
          "2020-01-01T00:00:00",
          "2020-02-01T00:00:00",
          "2020-03-01T00:00:00",
          "2020-04-01T00:00:00",
          "2020-05-01T00:00:00",
          "2020-06-01T00:00:00",
          "2020-07-01T00:00:00",
          "2020-08-01T00:00:00",
          "2020-09-01T00:00:00",
          "2020-10-01T00:00:00",
          "2020-11-01T00:00:00",
          "2020-12-01T00:00:00",
          "2021-01-01T00:00:00",
          "2021-02-01T00:00:00",
          "2021-03-01T00:00:00",
          "2021-04-01T00:00:00",
          "2021-05-01T00:00:00",
          "2021-06-01T00:00:00",
          "2021-07-01T00:00:00",
          "2021-08-01T00:00:00",
          "2021-09-01T00:00:00",
          "2021-10-01T00:00:00",
          "2021-11-01T00:00:00",
          "2021-12-01T00:00:00",
          "2022-01-01T00:00:00",
          "2022-02-01T00:00:00",
          "2022-03-01T00:00:00",
          "2022-04-01T00:00:00",
          "2022-05-01T00:00:00",
          "2022-06-01T00:00:00",
          "2022-07-01T00:00:00",
          "2022-08-01T00:00:00",
          "2022-09-01T00:00:00",
          "2022-10-01T00:00:00",
          "2022-11-01T00:00:00",
          "2022-12-01T00:00:00",
          "2023-01-01T00:00:00",
          "2023-02-01T00:00:00",
          "2023-03-01T00:00:00",
          "2023-04-01T00:00:00",
          "2023-05-01T00:00:00",
          "2023-06-01T00:00:00",
          "2023-07-01T00:00:00",
          "2023-08-01T00:00:00",
          "2023-09-01T00:00:00",
          "2023-10-01T00:00:00",
          "2023-11-01T00:00:00",
          "2023-12-01T00:00:00",
          "2024-01-01T00:00:00",
          "2024-02-01T00:00:00",
          "2024-03-01T00:00:00",
          "2024-04-01T00:00:00",
          "2024-05-01T00:00:00",
          "2024-06-01T00:00:00",
          "2024-07-01T00:00:00",
          "2024-08-01T00:00:00",
          "2024-09-01T00:00:00",
          "2024-10-01T00:00:00",
          "2024-11-01T00:00:00",
          "2024-12-01T00:00:00",
          "2025-01-01T00:00:00",
          "2025-02-28T00:00:00",
          "2025-03-31T00:00:00",
          "2025-04-30T00:00:00",
          "2025-05-31T00:00:00",
          "2025-06-30T00:00:00",
          "2025-07-31T00:00:00",
          "2025-08-31T00:00:00",
          "2025-09-30T00:00:00",
          "2025-10-31T00:00:00"
         ],
         "y": [
          0.976437699679545,
          0.9093356465546774,
          1.1650524173828625,
          1.5587625578042263,
          1.8151864910729114,
          2.2977103061252513,
          2.3162476787580886,
          2.7107111501289887,
          2.8748680567974407,
          2.643504531719438,
          2.6289884758005555,
          2.861305476815337,
          1.1514769757064867,
          1.2514297919078579,
          1.8582410498007726,
          1.9779909583632198,
          2.4849685765292477,
          2.8405027014898723,
          2.731581461310486,
          2.8478855837466908,
          2.9956703642198432,
          2.9196223986459144,
          3.061730100044636,
          3.0493540030905217,
          1.138932526411174,
          1.0757593262244753,
          1.2785079654349873,
          1.5370174125496605,
          1.8753673613754933,
          2.4763406303012068,
          2.6321937150163897,
          2.888612030967624,
          3.0269343686775727,
          2.5396915059063985,
          2.596453609059254,
          2.555781640333941,
          0.7775035349839936,
          0.5849152397858295,
          1.0029239624301762,
          1.4653339748397762,
          2.0819870186566316,
          2.4276673722855544,
          2.3556874452024674,
          2.527535044122177,
          2.4779275054314813,
          2.200307268910319,
          2.0873038438190954,
          2.363245279817366,
          0.4985100355292003,
          0.7568169165063621,
          1.112634729250718,
          1.3809583242028236,
          1.0646375417802185,
          1.3460457301782518,
          1.6064717629693608,
          2.4976719293295764,
          2.2304035882794153,
          1.9075083853939367,
          1.8044650416759842,
          2.1141984183060463,
          0.41821084395361935,
          0.15728123784952497,
          0.634735520931766,
          1.0379912531683724,
          1.7566705719298124,
          2.7384695136007675,
          2.830983004841855,
          2.3080729747274074,
          2.8213543180558553,
          2.3448995934055117,
          3.4284940240351593,
          3.5271999504594103,
          1.841952452120847,
          1.3936481814427917,
          1.6956303003473197,
          2.569852708192617,
          4.221252930555766,
          4.351814067728228,
          4.0939569488098,
          3.8131737807892865,
          3.8435704388075846,
          3.823363303951803,
          4.111908302238168,
          4.1375957793965465,
          2.2699894997259156,
          1.3527672897074365,
          2.194880400026672,
          2.558794605981887,
          2.2857608756411434,
          2.5506699342330057,
          2.2253828133987934,
          2.6109095667428663,
          2.5623458505948733,
          2.3833007317607424,
          1.847797036175618,
          1.547135496299417,
          -0.3805096003317705,
          0.5649509442200358
         ]
        },
        {
         "mode": "lines",
         "name": "6-Month Prediction",
         "opacity": 0.5,
         "type": "scatter",
         "x": [
          "2017-09-01T00:00:00",
          "2017-10-01T00:00:00",
          "2017-11-01T00:00:00",
          "2017-12-01T00:00:00",
          "2018-01-01T00:00:00",
          "2018-02-01T00:00:00",
          "2018-03-01T00:00:00",
          "2018-04-01T00:00:00",
          "2018-05-01T00:00:00",
          "2018-06-01T00:00:00",
          "2018-07-01T00:00:00",
          "2018-08-01T00:00:00",
          "2018-09-01T00:00:00",
          "2018-10-01T00:00:00",
          "2018-11-01T00:00:00",
          "2018-12-01T00:00:00",
          "2019-01-01T00:00:00",
          "2019-02-01T00:00:00",
          "2019-03-01T00:00:00",
          "2019-04-01T00:00:00",
          "2019-05-01T00:00:00",
          "2019-06-01T00:00:00",
          "2019-07-01T00:00:00",
          "2019-08-01T00:00:00",
          "2019-09-01T00:00:00",
          "2019-10-01T00:00:00",
          "2019-11-01T00:00:00",
          "2019-12-01T00:00:00",
          "2020-01-01T00:00:00",
          "2020-02-01T00:00:00",
          "2020-03-01T00:00:00",
          "2020-04-01T00:00:00",
          "2020-05-01T00:00:00",
          "2020-06-01T00:00:00",
          "2020-07-01T00:00:00",
          "2020-08-01T00:00:00",
          "2020-09-01T00:00:00",
          "2020-10-01T00:00:00",
          "2020-11-01T00:00:00",
          "2020-12-01T00:00:00",
          "2021-01-01T00:00:00",
          "2021-02-01T00:00:00",
          "2021-03-01T00:00:00",
          "2021-04-01T00:00:00",
          "2021-05-01T00:00:00",
          "2021-06-01T00:00:00",
          "2021-07-01T00:00:00",
          "2021-08-01T00:00:00",
          "2021-09-01T00:00:00",
          "2021-10-01T00:00:00",
          "2021-11-01T00:00:00",
          "2021-12-01T00:00:00",
          "2022-01-01T00:00:00",
          "2022-02-01T00:00:00",
          "2022-03-01T00:00:00",
          "2022-04-01T00:00:00",
          "2022-05-01T00:00:00",
          "2022-06-01T00:00:00",
          "2022-07-01T00:00:00",
          "2022-08-01T00:00:00",
          "2022-09-01T00:00:00",
          "2022-10-01T00:00:00",
          "2022-11-01T00:00:00",
          "2022-12-01T00:00:00",
          "2023-01-01T00:00:00",
          "2023-02-01T00:00:00",
          "2023-03-01T00:00:00",
          "2023-04-01T00:00:00",
          "2023-05-01T00:00:00",
          "2023-06-01T00:00:00",
          "2023-07-01T00:00:00",
          "2023-08-01T00:00:00",
          "2023-09-01T00:00:00",
          "2023-10-01T00:00:00",
          "2023-11-01T00:00:00",
          "2023-12-01T00:00:00",
          "2024-01-01T00:00:00",
          "2024-02-01T00:00:00",
          "2024-03-01T00:00:00",
          "2024-04-01T00:00:00",
          "2024-05-01T00:00:00",
          "2024-06-01T00:00:00",
          "2024-07-01T00:00:00",
          "2024-08-01T00:00:00",
          "2024-09-01T00:00:00",
          "2024-10-01T00:00:00",
          "2024-11-01T00:00:00",
          "2024-12-01T00:00:00",
          "2025-01-01T00:00:00",
          "2025-02-28T00:00:00",
          "2025-03-31T00:00:00",
          "2025-04-30T00:00:00",
          "2025-05-31T00:00:00",
          "2025-06-30T00:00:00",
          "2025-07-31T00:00:00"
         ],
         "y": [
          0.976437699679545,
          0.9093356465546774,
          1.1650524173828625,
          1.5587625578042263,
          1.8151864910729114,
          2.2977103061252513,
          2.3162476787580886,
          2.7107111501289887,
          2.8748680567974407,
          2.643504531719438,
          2.6289884758005555,
          2.861305476815337,
          1.8050939556500096,
          2.1005982028203167,
          2.3899006313109856,
          2.4481742824549384,
          2.517061259309999,
          3.176095685839061,
          2.8760872624677307,
          3.295577950844405,
          3.4607720466427367,
          2.9030643608144695,
          2.7058322740393144,
          2.508176224416064,
          1.2492304792656934,
          1.298266345244592,
          1.6284472119078328,
          1.9307966901161158,
          2.2062754881640765,
          2.8753100473786897,
          2.4786280079587617,
          2.8957600305968363,
          2.893037387373474,
          2.2603656842229602,
          1.896557974764352,
          1.9906879946777778,
          0.9464415357050535,
          1.2017108023146421,
          1.4494302618444554,
          1.7950205012401255,
          2.030394964500646,
          2.275473759753848,
          1.9620792367111872,
          2.2839348829062445,
          2.3286779877569144,
          1.7228348905084392,
          1.9685008467708098,
          1.9342882536466006,
          0.763164640168652,
          0.375398006274391,
          0.5187125540754299,
          0.813083605116052,
          1.2971942881905218,
          1.2430372086554793,
          1.3890776915519951,
          2.0715222269795,
          1.7774192868978438,
          1.3681474828671156,
          1.5248394172118522,
          1.2291720175908565,
          0.3125446863092032,
          1.0763223889704556,
          1.6297817118496467,
          2.1219436322117895,
          2.0581139738451557,
          3.2621360935906285,
          2.7357517611785815,
          3.7234009615612043,
          4.301700906903662,
          4.043248537234783,
          3.6274704657787793,
          4.177057818705427,
          3.3734827193993864,
          4.532568602537783,
          4.724690240424786,
          5.160302867568294,
          5.693774662366234,
          5.791171755577482,
          5.156443359098255,
          6.261948155235938,
          5.925647545461603,
          5.131247297354288,
          4.771582839435819,
          4.975400673085605,
          3.4089450340671354,
          2.634913345725486,
          3.0055644564653585,
          2.9861442087158743,
          2.283005876684935,
          2.7884481532064327,
          2.9193515539783617,
          1.9346003648704286,
          1.740202061741365,
          1.6886672649737142,
          1.5297539029927294
         ]
        },
        {
         "mode": "lines",
         "name": "3-Month Prediction",
         "opacity": 0.5,
         "type": "scatter",
         "x": [
          "2017-09-01T00:00:00",
          "2017-10-01T00:00:00",
          "2017-11-01T00:00:00",
          "2017-12-01T00:00:00",
          "2018-01-01T00:00:00",
          "2018-02-01T00:00:00",
          "2018-03-01T00:00:00",
          "2018-04-01T00:00:00",
          "2018-05-01T00:00:00",
          "2018-06-01T00:00:00",
          "2018-07-01T00:00:00",
          "2018-08-01T00:00:00",
          "2018-09-01T00:00:00",
          "2018-10-01T00:00:00",
          "2018-11-01T00:00:00",
          "2018-12-01T00:00:00",
          "2019-01-01T00:00:00",
          "2019-02-01T00:00:00",
          "2019-03-01T00:00:00",
          "2019-04-01T00:00:00",
          "2019-05-01T00:00:00",
          "2019-06-01T00:00:00",
          "2019-07-01T00:00:00",
          "2019-08-01T00:00:00",
          "2019-09-01T00:00:00",
          "2019-10-01T00:00:00",
          "2019-11-01T00:00:00",
          "2019-12-01T00:00:00",
          "2020-01-01T00:00:00",
          "2020-02-01T00:00:00",
          "2020-03-01T00:00:00",
          "2020-04-01T00:00:00",
          "2020-05-01T00:00:00",
          "2020-06-01T00:00:00",
          "2020-07-01T00:00:00",
          "2020-08-01T00:00:00",
          "2020-09-01T00:00:00",
          "2020-10-01T00:00:00",
          "2020-11-01T00:00:00",
          "2020-12-01T00:00:00",
          "2021-01-01T00:00:00",
          "2021-02-01T00:00:00",
          "2021-03-01T00:00:00",
          "2021-04-01T00:00:00",
          "2021-05-01T00:00:00",
          "2021-06-01T00:00:00",
          "2021-07-01T00:00:00",
          "2021-08-01T00:00:00",
          "2021-09-01T00:00:00",
          "2021-10-01T00:00:00",
          "2021-11-01T00:00:00",
          "2021-12-01T00:00:00",
          "2022-01-01T00:00:00",
          "2022-02-01T00:00:00",
          "2022-03-01T00:00:00",
          "2022-04-01T00:00:00",
          "2022-05-01T00:00:00",
          "2022-06-01T00:00:00",
          "2022-07-01T00:00:00",
          "2022-08-01T00:00:00",
          "2022-09-01T00:00:00",
          "2022-10-01T00:00:00",
          "2022-11-01T00:00:00",
          "2022-12-01T00:00:00",
          "2023-01-01T00:00:00",
          "2023-02-01T00:00:00",
          "2023-03-01T00:00:00",
          "2023-04-01T00:00:00",
          "2023-05-01T00:00:00",
          "2023-06-01T00:00:00",
          "2023-07-01T00:00:00",
          "2023-08-01T00:00:00",
          "2023-09-01T00:00:00",
          "2023-10-01T00:00:00",
          "2023-11-01T00:00:00",
          "2023-12-01T00:00:00",
          "2024-01-01T00:00:00",
          "2024-02-01T00:00:00",
          "2024-03-01T00:00:00",
          "2024-04-01T00:00:00",
          "2024-05-01T00:00:00",
          "2024-06-01T00:00:00",
          "2024-07-01T00:00:00",
          "2024-08-01T00:00:00",
          "2024-09-01T00:00:00",
          "2024-10-01T00:00:00",
          "2024-11-01T00:00:00",
          "2024-12-01T00:00:00",
          "2025-01-01T00:00:00",
          "2025-02-28T00:00:00",
          "2025-03-31T00:00:00",
          "2025-04-30T00:00:00"
         ],
         "y": [
          0.976437699679545,
          0.9093356465546774,
          1.1650524173828625,
          1.5587625578042263,
          1.8151864910729114,
          2.2977103061252513,
          2.3162476787580886,
          2.7107111501289887,
          2.8748680567974407,
          2.643504531719438,
          2.6289884758005555,
          2.861305476815337,
          2.487880590363412,
          2.2427743970989367,
          2.7590805554533295,
          2.893864578553632,
          3.214320894279331,
          3.5900313107563537,
          3.126170188193131,
          3.313299545268669,
          2.8566316657744317,
          2.437537795864404,
          2.086770097199601,
          2.3145423602674646,
          2.2537017823789327,
          2.1152885524885967,
          2.5365739598797306,
          2.3739913787390607,
          2.680025706735687,
          2.922090755493451,
          2.3954439429655094,
          2.3348440309592795,
          2.231165759464906,
          2.1142331618060464,
          1.9948761378410778,
          2.014009709320112,
          1.9130831434273468,
          1.8081051159937527,
          1.7255096770830103,
          1.7757653604668064,
          1.9378160274088967,
          2.264575901329847,
          1.7616849818900098,
          2.4528754676054914,
          2.186324909051654,
          1.7697235585103304,
          0.7132526100485288,
          0.6791628750200245,
          0.8068892025750376,
          1.1088291890479292,
          0.4792448707368009,
          0.8857476567761611,
          1.5230410040605395,
          1.4134589017944412,
          1.2369378060567668,
          1.6663103598699016,
          1.13616428930802,
          1.1918619640728867,
          1.7347052520763375,
          2.3303136633933006,
          2.443606174011037,
          1.721813861080321,
          3.059151833274474,
          2.970841454459313,
          4.227373191915781,
          5.2773766595362765,
          5.06117702298214,
          5.031447829236038,
          5.552467039857044,
          6.075016969551652,
          7.46115206115757,
          7.376025844018406,
          7.323391694116852,
          7.733536609023483,
          7.688616545817435,
          7.708630754923408,
          9.00568931570644,
          8.846466047791573,
          8.155807158820046,
          7.961725632982947,
          8.217100967103553,
          7.618260397603434,
          5.9370816698732245,
          6.203743129446319,
          5.688537526404318,
          4.441156276037944,
          4.640553957824151,
          5.027225630506631,
          3.380942594754827,
          3.156205327669465,
          3.2984890519881356,
          3.6332267282753694
         ]
        }
       ],
       "layout": {
        "height": 600,
        "legend": {
         "title": {
          "text": "Data Type"
         }
        },
        "plot_bgcolor": "white",
        "shapes": [
         {
          "line": {
           "color": "Black",
           "dash": "dash",
           "width": 1
          },
          "opacity": 0.5,
          "type": "line",
          "x0": "2025-01-01",
          "x1": "2025-01-01",
          "xref": "x",
          "y0": 0,
          "y1": 1,
          "yref": "paper"
         },
         {
          "line": {
           "color": "Black",
           "dash": "dash",
           "width": 1
          },
          "opacity": 0.5,
          "type": "line",
          "x0": "2026-01-01",
          "x1": "2026-01-01",
          "xref": "x",
          "y0": 0,
          "y1": 1,
          "yref": "paper"
         }
        ],
        "template": {
         "data": {
          "bar": [
           {
            "error_x": {
             "color": "#2a3f5f"
            },
            "error_y": {
             "color": "#2a3f5f"
            },
            "marker": {
             "line": {
              "color": "#E5ECF6",
              "width": 0.5
             },
             "pattern": {
              "fillmode": "overlay",
              "size": 10,
              "solidity": 0.2
             }
            },
            "type": "bar"
           }
          ],
          "barpolar": [
           {
            "marker": {
             "line": {
              "color": "#E5ECF6",
              "width": 0.5
             },
             "pattern": {
              "fillmode": "overlay",
              "size": 10,
              "solidity": 0.2
             }
            },
            "type": "barpolar"
           }
          ],
          "carpet": [
           {
            "aaxis": {
             "endlinecolor": "#2a3f5f",
             "gridcolor": "white",
             "linecolor": "white",
             "minorgridcolor": "white",
             "startlinecolor": "#2a3f5f"
            },
            "baxis": {
             "endlinecolor": "#2a3f5f",
             "gridcolor": "white",
             "linecolor": "white",
             "minorgridcolor": "white",
             "startlinecolor": "#2a3f5f"
            },
            "type": "carpet"
           }
          ],
          "choropleth": [
           {
            "colorbar": {
             "outlinewidth": 0,
             "ticks": ""
            },
            "type": "choropleth"
           }
          ],
          "contour": [
           {
            "colorbar": {
             "outlinewidth": 0,
             "ticks": ""
            },
            "colorscale": [
             [
              0,
              "#0d0887"
             ],
             [
              0.1111111111111111,
              "#46039f"
             ],
             [
              0.2222222222222222,
              "#7201a8"
             ],
             [
              0.3333333333333333,
              "#9c179e"
             ],
             [
              0.4444444444444444,
              "#bd3786"
             ],
             [
              0.5555555555555556,
              "#d8576b"
             ],
             [
              0.6666666666666666,
              "#ed7953"
             ],
             [
              0.7777777777777778,
              "#fb9f3a"
             ],
             [
              0.8888888888888888,
              "#fdca26"
             ],
             [
              1,
              "#f0f921"
             ]
            ],
            "type": "contour"
           }
          ],
          "contourcarpet": [
           {
            "colorbar": {
             "outlinewidth": 0,
             "ticks": ""
            },
            "type": "contourcarpet"
           }
          ],
          "heatmap": [
           {
            "colorbar": {
             "outlinewidth": 0,
             "ticks": ""
            },
            "colorscale": [
             [
              0,
              "#0d0887"
             ],
             [
              0.1111111111111111,
              "#46039f"
             ],
             [
              0.2222222222222222,
              "#7201a8"
             ],
             [
              0.3333333333333333,
              "#9c179e"
             ],
             [
              0.4444444444444444,
              "#bd3786"
             ],
             [
              0.5555555555555556,
              "#d8576b"
             ],
             [
              0.6666666666666666,
              "#ed7953"
             ],
             [
              0.7777777777777778,
              "#fb9f3a"
             ],
             [
              0.8888888888888888,
              "#fdca26"
             ],
             [
              1,
              "#f0f921"
             ]
            ],
            "type": "heatmap"
           }
          ],
          "heatmapgl": [
           {
            "colorbar": {
             "outlinewidth": 0,
             "ticks": ""
            },
            "colorscale": [
             [
              0,
              "#0d0887"
             ],
             [
              0.1111111111111111,
              "#46039f"
             ],
             [
              0.2222222222222222,
              "#7201a8"
             ],
             [
              0.3333333333333333,
              "#9c179e"
             ],
             [
              0.4444444444444444,
              "#bd3786"
             ],
             [
              0.5555555555555556,
              "#d8576b"
             ],
             [
              0.6666666666666666,
              "#ed7953"
             ],
             [
              0.7777777777777778,
              "#fb9f3a"
             ],
             [
              0.8888888888888888,
              "#fdca26"
             ],
             [
              1,
              "#f0f921"
             ]
            ],
            "type": "heatmapgl"
           }
          ],
          "histogram": [
           {
            "marker": {
             "pattern": {
              "fillmode": "overlay",
              "size": 10,
              "solidity": 0.2
             }
            },
            "type": "histogram"
           }
          ],
          "histogram2d": [
           {
            "colorbar": {
             "outlinewidth": 0,
             "ticks": ""
            },
            "colorscale": [
             [
              0,
              "#0d0887"
             ],
             [
              0.1111111111111111,
              "#46039f"
             ],
             [
              0.2222222222222222,
              "#7201a8"
             ],
             [
              0.3333333333333333,
              "#9c179e"
             ],
             [
              0.4444444444444444,
              "#bd3786"
             ],
             [
              0.5555555555555556,
              "#d8576b"
             ],
             [
              0.6666666666666666,
              "#ed7953"
             ],
             [
              0.7777777777777778,
              "#fb9f3a"
             ],
             [
              0.8888888888888888,
              "#fdca26"
             ],
             [
              1,
              "#f0f921"
             ]
            ],
            "type": "histogram2d"
           }
          ],
          "histogram2dcontour": [
           {
            "colorbar": {
             "outlinewidth": 0,
             "ticks": ""
            },
            "colorscale": [
             [
              0,
              "#0d0887"
             ],
             [
              0.1111111111111111,
              "#46039f"
             ],
             [
              0.2222222222222222,
              "#7201a8"
             ],
             [
              0.3333333333333333,
              "#9c179e"
             ],
             [
              0.4444444444444444,
              "#bd3786"
             ],
             [
              0.5555555555555556,
              "#d8576b"
             ],
             [
              0.6666666666666666,
              "#ed7953"
             ],
             [
              0.7777777777777778,
              "#fb9f3a"
             ],
             [
              0.8888888888888888,
              "#fdca26"
             ],
             [
              1,
              "#f0f921"
             ]
            ],
            "type": "histogram2dcontour"
           }
          ],
          "mesh3d": [
           {
            "colorbar": {
             "outlinewidth": 0,
             "ticks": ""
            },
            "type": "mesh3d"
           }
          ],
          "parcoords": [
           {
            "line": {
             "colorbar": {
              "outlinewidth": 0,
              "ticks": ""
             }
            },
            "type": "parcoords"
           }
          ],
          "pie": [
           {
            "automargin": true,
            "type": "pie"
           }
          ],
          "scatter": [
           {
            "fillpattern": {
             "fillmode": "overlay",
             "size": 10,
             "solidity": 0.2
            },
            "type": "scatter"
           }
          ],
          "scatter3d": [
           {
            "line": {
             "colorbar": {
              "outlinewidth": 0,
              "ticks": ""
             }
            },
            "marker": {
             "colorbar": {
              "outlinewidth": 0,
              "ticks": ""
             }
            },
            "type": "scatter3d"
           }
          ],
          "scattercarpet": [
           {
            "marker": {
             "colorbar": {
              "outlinewidth": 0,
              "ticks": ""
             }
            },
            "type": "scattercarpet"
           }
          ],
          "scattergeo": [
           {
            "marker": {
             "colorbar": {
              "outlinewidth": 0,
              "ticks": ""
             }
            },
            "type": "scattergeo"
           }
          ],
          "scattergl": [
           {
            "marker": {
             "colorbar": {
              "outlinewidth": 0,
              "ticks": ""
             }
            },
            "type": "scattergl"
           }
          ],
          "scattermapbox": [
           {
            "marker": {
             "colorbar": {
              "outlinewidth": 0,
              "ticks": ""
             }
            },
            "type": "scattermapbox"
           }
          ],
          "scatterpolar": [
           {
            "marker": {
             "colorbar": {
              "outlinewidth": 0,
              "ticks": ""
             }
            },
            "type": "scatterpolar"
           }
          ],
          "scatterpolargl": [
           {
            "marker": {
             "colorbar": {
              "outlinewidth": 0,
              "ticks": ""
             }
            },
            "type": "scatterpolargl"
           }
          ],
          "scatterternary": [
           {
            "marker": {
             "colorbar": {
              "outlinewidth": 0,
              "ticks": ""
             }
            },
            "type": "scatterternary"
           }
          ],
          "surface": [
           {
            "colorbar": {
             "outlinewidth": 0,
             "ticks": ""
            },
            "colorscale": [
             [
              0,
              "#0d0887"
             ],
             [
              0.1111111111111111,
              "#46039f"
             ],
             [
              0.2222222222222222,
              "#7201a8"
             ],
             [
              0.3333333333333333,
              "#9c179e"
             ],
             [
              0.4444444444444444,
              "#bd3786"
             ],
             [
              0.5555555555555556,
              "#d8576b"
             ],
             [
              0.6666666666666666,
              "#ed7953"
             ],
             [
              0.7777777777777778,
              "#fb9f3a"
             ],
             [
              0.8888888888888888,
              "#fdca26"
             ],
             [
              1,
              "#f0f921"
             ]
            ],
            "type": "surface"
           }
          ],
          "table": [
           {
            "cells": {
             "fill": {
              "color": "#EBF0F8"
             },
             "line": {
              "color": "white"
             }
            },
            "header": {
             "fill": {
              "color": "#C8D4E3"
             },
             "line": {
              "color": "white"
             }
            },
            "type": "table"
           }
          ]
         },
         "layout": {
          "annotationdefaults": {
           "arrowcolor": "#2a3f5f",
           "arrowhead": 0,
           "arrowwidth": 1
          },
          "autotypenumbers": "strict",
          "coloraxis": {
           "colorbar": {
            "outlinewidth": 0,
            "ticks": ""
           }
          },
          "colorscale": {
           "diverging": [
            [
             0,
             "#8e0152"
            ],
            [
             0.1,
             "#c51b7d"
            ],
            [
             0.2,
             "#de77ae"
            ],
            [
             0.3,
             "#f1b6da"
            ],
            [
             0.4,
             "#fde0ef"
            ],
            [
             0.5,
             "#f7f7f7"
            ],
            [
             0.6,
             "#e6f5d0"
            ],
            [
             0.7,
             "#b8e186"
            ],
            [
             0.8,
             "#7fbc41"
            ],
            [
             0.9,
             "#4d9221"
            ],
            [
             1,
             "#276419"
            ]
           ],
           "sequential": [
            [
             0,
             "#0d0887"
            ],
            [
             0.1111111111111111,
             "#46039f"
            ],
            [
             0.2222222222222222,
             "#7201a8"
            ],
            [
             0.3333333333333333,
             "#9c179e"
            ],
            [
             0.4444444444444444,
             "#bd3786"
            ],
            [
             0.5555555555555556,
             "#d8576b"
            ],
            [
             0.6666666666666666,
             "#ed7953"
            ],
            [
             0.7777777777777778,
             "#fb9f3a"
            ],
            [
             0.8888888888888888,
             "#fdca26"
            ],
            [
             1,
             "#f0f921"
            ]
           ],
           "sequentialminus": [
            [
             0,
             "#0d0887"
            ],
            [
             0.1111111111111111,
             "#46039f"
            ],
            [
             0.2222222222222222,
             "#7201a8"
            ],
            [
             0.3333333333333333,
             "#9c179e"
            ],
            [
             0.4444444444444444,
             "#bd3786"
            ],
            [
             0.5555555555555556,
             "#d8576b"
            ],
            [
             0.6666666666666666,
             "#ed7953"
            ],
            [
             0.7777777777777778,
             "#fb9f3a"
            ],
            [
             0.8888888888888888,
             "#fdca26"
            ],
            [
             1,
             "#f0f921"
            ]
           ]
          },
          "colorway": [
           "#636efa",
           "#EF553B",
           "#00cc96",
           "#ab63fa",
           "#FFA15A",
           "#19d3f3",
           "#FF6692",
           "#B6E880",
           "#FF97FF",
           "#FECB52"
          ],
          "font": {
           "color": "#2a3f5f"
          },
          "geo": {
           "bgcolor": "white",
           "lakecolor": "white",
           "landcolor": "#E5ECF6",
           "showlakes": true,
           "showland": true,
           "subunitcolor": "white"
          },
          "hoverlabel": {
           "align": "left"
          },
          "hovermode": "closest",
          "mapbox": {
           "style": "light"
          },
          "paper_bgcolor": "white",
          "plot_bgcolor": "#E5ECF6",
          "polar": {
           "angularaxis": {
            "gridcolor": "white",
            "linecolor": "white",
            "ticks": ""
           },
           "bgcolor": "#E5ECF6",
           "radialaxis": {
            "gridcolor": "white",
            "linecolor": "white",
            "ticks": ""
           }
          },
          "scene": {
           "xaxis": {
            "backgroundcolor": "#E5ECF6",
            "gridcolor": "white",
            "gridwidth": 2,
            "linecolor": "white",
            "showbackground": true,
            "ticks": "",
            "zerolinecolor": "white"
           },
           "yaxis": {
            "backgroundcolor": "#E5ECF6",
            "gridcolor": "white",
            "gridwidth": 2,
            "linecolor": "white",
            "showbackground": true,
            "ticks": "",
            "zerolinecolor": "white"
           },
           "zaxis": {
            "backgroundcolor": "#E5ECF6",
            "gridcolor": "white",
            "gridwidth": 2,
            "linecolor": "white",
            "showbackground": true,
            "ticks": "",
            "zerolinecolor": "white"
           }
          },
          "shapedefaults": {
           "line": {
            "color": "#2a3f5f"
           }
          },
          "ternary": {
           "aaxis": {
            "gridcolor": "white",
            "linecolor": "white",
            "ticks": ""
           },
           "baxis": {
            "gridcolor": "white",
            "linecolor": "white",
            "ticks": ""
           },
           "bgcolor": "#E5ECF6",
           "caxis": {
            "gridcolor": "white",
            "linecolor": "white",
            "ticks": ""
           }
          },
          "title": {
           "x": 0.05
          },
          "xaxis": {
           "automargin": true,
           "gridcolor": "white",
           "linecolor": "white",
           "ticks": "",
           "title": {
            "standoff": 15
           },
           "zerolinecolor": "white",
           "zerolinewidth": 2
          },
          "yaxis": {
           "automargin": true,
           "gridcolor": "white",
           "linecolor": "white",
           "ticks": "",
           "title": {
            "standoff": 15
           },
           "zerolinecolor": "white",
           "zerolinewidth": 2
          }
         }
        },
        "title": {
         "text": "Annual CPI Inflation Rate with Predictions (12-Month, 9-Month, 6-Month, and 3-Month)"
        },
        "width": 1200,
        "xaxis": {
         "showgrid": true,
         "tickangle": 45,
         "title": {
          "text": "Date"
         }
        },
        "yaxis": {
         "showgrid": true,
         "title": {
          "text": "Annual CPI Change"
         }
        }
       }
      }
     },
     "metadata": {},
     "output_type": "display_data"
    }
   ],
   "source": [
    "\n",
    "extended_test_data_12['Recovered_CPI_Annual_Change_12'] = predictions_inflation_12_reversed\n",
    "extended_test_data_9['Recovered_CPI_Annual_Change_9'] = predictions_inflation_9_reversed\n",
    "extended_test_data_6['Recovered_CPI_Annual_Change_6'] = predictions_inflation_6_reversed\n",
    "extended_test_data_3['Recovered_CPI_Annual_Change_3'] = predictions_inflation_3_reversed\n",
    "\n",
    "\n",
    "plot_data = pd.concat([\n",
    "    visualization_data[['Date_CPI', 'CPI_Annual_Change']].rename(columns={'CPI_Annual_Change': 'Annual_Change'}),\n",
    "    extended_test_data_12[['Date_CPI', 'Recovered_CPI_Annual_Change_12']].rename(columns={'Recovered_CPI_Annual_Change_12': 'Annual_Change'}),\n",
    "    extended_test_data_9[['Date_CPI', 'Recovered_CPI_Annual_Change_9']].rename(columns={'Recovered_CPI_Annual_Change_9': 'Annual_Change'}),\n",
    "    extended_test_data_6[['Date_CPI', 'Recovered_CPI_Annual_Change_6']].rename(columns={'Recovered_CPI_Annual_Change_6': 'Annual_Change'}),\n",
    "    extended_test_data_3[['Date_CPI', 'Recovered_CPI_Annual_Change_3']].rename(columns={'Recovered_CPI_Annual_Change_3': 'Annual_Change'})\n",
    "], keys=['Actual', '12-Month Prediction', '9-Month Prediction', '6-Month Prediction', '3-Month Prediction']).reset_index(level=0).rename(columns={'level_0': 'Type'})\n",
    "\n",
    "\n",
    "fig = go.Figure()\n",
    "\n",
    "\n",
    "actual_data = plot_data[plot_data['Type'] == 'Actual']\n",
    "fig.add_trace(go.Scatter(x=actual_data['Date_CPI'], y=actual_data['Annual_Change'], mode='lines', name='Actual'))\n",
    "\n",
    "\n",
    "for prediction_type in ['12-Month Prediction', '9-Month Prediction', '6-Month Prediction', '3-Month Prediction']:\n",
    "    prediction_data = plot_data[plot_data['Type'] == prediction_type]\n",
    "    fig.add_trace(go.Scatter(x=prediction_data['Date_CPI'], y=prediction_data['Annual_Change'], mode='lines', name=prediction_type, opacity=0.5))\n",
    "\n",
    "\n",
    "fig.add_shape(\n",
    "    type=\"line\",\n",
    "    x0=\"2025-01-01\", y0=0, x1=\"2025-01-01\", y1=1,\n",
    "    xref='x', yref='paper', opacity=0.5,\n",
    "    line=dict(color=\"Black\", width=1, dash=\"dash\")\n",
    ")\n",
    "fig.add_shape(\n",
    "    type=\"line\",\n",
    "    x0=\"2026-01-01\", y0=0, x1=\"2026-01-01\", y1=1,\n",
    "    xref='x', yref='paper', opacity=0.5,\n",
    "    line=dict(color=\"Black\", width=1, dash=\"dash\")\n",
    ")\n",
    "\n",
    "fig.update_layout(\n",
    "    height=600,\n",
    "    width=1200,\n",
    "    title_text=\"Annual CPI Inflation Rate with Predictions (12-Month, 9-Month, 6-Month, and 3-Month)\",\n",
    "    xaxis_title=\"Date\",\n",
    "    yaxis_title=\"Annual CPI Change\",\n",
    "    legend_title=\"Data Type\",\n",
    "    plot_bgcolor='white'  \n",
    ")\n",
    "fig.update_xaxes(tickangle=45, showgrid=True)\n",
    "fig.update_yaxes(showgrid=True)\n",
    "\n",
    "\n",
    "fig.show()"
   ]
  },
  {
   "cell_type": "markdown",
   "metadata": {},
   "source": [
    "The final plot constitutes an output summary of our trials, representing the last prediction point each of the best selectd models generate for their respective time window (12,9,6 and 3)."
   ]
  },
  {
   "cell_type": "code",
   "execution_count": null,
   "metadata": {},
   "outputs": [
    {
     "data": {
      "application/vnd.plotly.v1+json": {
       "config": {
        "plotlyServerURL": "https://plot.ly"
       },
       "data": [
        {
         "mode": "lines",
         "name": "Actual",
         "type": "scatter",
         "x": [
          "2017-09-01T00:00:00",
          "2017-10-01T00:00:00",
          "2017-11-01T00:00:00",
          "2017-12-01T00:00:00",
          "2018-01-01T00:00:00",
          "2018-02-01T00:00:00",
          "2018-03-01T00:00:00",
          "2018-04-01T00:00:00",
          "2018-05-01T00:00:00",
          "2018-06-01T00:00:00",
          "2018-07-01T00:00:00",
          "2018-08-01T00:00:00",
          "2018-09-01T00:00:00",
          "2018-10-01T00:00:00",
          "2018-11-01T00:00:00",
          "2018-12-01T00:00:00",
          "2019-01-01T00:00:00",
          "2019-02-01T00:00:00",
          "2019-03-01T00:00:00",
          "2019-04-01T00:00:00",
          "2019-05-01T00:00:00",
          "2019-06-01T00:00:00",
          "2019-07-01T00:00:00",
          "2019-08-01T00:00:00",
          "2019-09-01T00:00:00",
          "2019-10-01T00:00:00",
          "2019-11-01T00:00:00",
          "2019-12-01T00:00:00",
          "2020-01-01T00:00:00",
          "2020-02-01T00:00:00",
          "2020-03-01T00:00:00",
          "2020-04-01T00:00:00",
          "2020-05-01T00:00:00",
          "2020-06-01T00:00:00",
          "2020-07-01T00:00:00",
          "2020-08-01T00:00:00",
          "2020-09-01T00:00:00",
          "2020-10-01T00:00:00",
          "2020-11-01T00:00:00",
          "2020-12-01T00:00:00",
          "2021-01-01T00:00:00",
          "2021-02-01T00:00:00",
          "2021-03-01T00:00:00",
          "2021-04-01T00:00:00",
          "2021-05-01T00:00:00",
          "2021-06-01T00:00:00",
          "2021-07-01T00:00:00",
          "2021-08-01T00:00:00",
          "2021-09-01T00:00:00",
          "2021-10-01T00:00:00",
          "2021-11-01T00:00:00",
          "2021-12-01T00:00:00",
          "2022-01-01T00:00:00",
          "2022-02-01T00:00:00",
          "2022-03-01T00:00:00",
          "2022-04-01T00:00:00",
          "2022-05-01T00:00:00",
          "2022-06-01T00:00:00",
          "2022-07-01T00:00:00",
          "2022-08-01T00:00:00",
          "2022-09-01T00:00:00",
          "2022-10-01T00:00:00",
          "2022-11-01T00:00:00",
          "2022-12-01T00:00:00",
          "2023-01-01T00:00:00",
          "2023-02-01T00:00:00",
          "2023-03-01T00:00:00",
          "2023-04-01T00:00:00",
          "2023-05-01T00:00:00",
          "2023-06-01T00:00:00",
          "2023-07-01T00:00:00",
          "2023-08-01T00:00:00",
          "2023-09-01T00:00:00",
          "2023-10-01T00:00:00",
          "2023-11-01T00:00:00",
          "2023-12-01T00:00:00",
          "2024-01-01T00:00:00",
          "2024-02-01T00:00:00",
          "2024-03-01T00:00:00",
          "2024-04-01T00:00:00",
          "2024-05-01T00:00:00",
          "2024-06-01T00:00:00",
          "2024-07-01T00:00:00",
          "2024-08-01T00:00:00",
          "2024-09-01T00:00:00",
          "2024-10-01T00:00:00",
          "2024-11-01T00:00:00",
          "2024-12-01T00:00:00",
          "2025-01-01T00:00:00"
         ],
         "y": [
          2.959322905334331,
          3.000839879449637,
          3.092061801793419,
          2.972522080468129,
          2.989462883299471,
          2.7084476138207156,
          2.457992623092394,
          2.3817618432404557,
          2.4208926618180255,
          2.4466519499608403,
          2.47444654362014,
          2.6525991231848027,
          2.4190682889798296,
          2.391550430726198,
          2.3097449238192396,
          2.1042800369753776,
          1.8479489586708506,
          1.8692836637942059,
          1.9076008799898025,
          2.1176269674840675,
          2.020602967581486,
          2.0054625700522575,
          2.0610954060243847,
          1.7242673975466773,
          1.7149554617892904,
          1.4643743851581374,
          1.474217552255299,
          1.3020711798899485,
          1.769270563888662,
          1.7095297388878543,
          1.5233075399036222,
          0.7674226306051491,
          0.47986067365724316,
          0.603151955379164,
          1.040306070458239,
          0.21960784313705184,
          0.5319001834451519,
          0.6971504552247486,
          0.3150650858134885,
          0.588766446761712,
          0.7005804281112934,
          0.41421588932113573,
          0.7143251652330596,
          1.525922237894942,
          2.1149484631109257,
          2.5141825683318677,
          2.0399369223980073,
          3.196670748434163,
          3.0800689553962446,
          4.206211658547493,
          5.1299005427398665,
          5.386045744744125,
          5.45551333589822,
          6.1766080906359235,
          7.023124028875764,
          9.010661677889265,
          9.082701336214251,
          9.412113480775638,
          10.100901192296202,
          9.870187803890024,
          10.09562780766792,
          11.051566349867075,
          10.672012718702732,
          10.52837437309495,
          10.05152396037351,
          10.416396867733415,
          10.056877380557463,
          8.658235862567349,
          8.680682006283165,
          7.949684295220555,
          6.827214193026851,
          6.657030564843399,
          6.652176723436029,
          4.599877970503248,
          3.940991680739473,
          3.9932685351168535,
          3.9811146171882377,
          3.4114721796489134,
          3.228059284547815,
          2.3330700994392917,
          1.989977762206423,
          1.975310520029211,
          2.234444826399127,
          2.216283708676157,
          1.6803412198749281,
          2.280991485104781,
          2.6221267095441103,
          2.5029869481688873,
          2.982940500906606
         ]
        },
        {
         "line": {
          "width": 0
         },
         "mode": "lines",
         "name": "Upper Bound",
         "showlegend": false,
         "type": "scatter",
         "x": [
          "2025-01-01T00:00:00",
          "2025-04-30T00:00:00",
          "2025-07-31T00:00:00",
          "2025-10-31T00:00:00",
          "2026-01-31T00:00:00"
         ],
         "y": [
          2.982940500906606,
          4.868198896366428,
          3.0729912583059877,
          2.3287336094833244,
          3.7053218211199033
         ]
        },
        {
         "fill": "tonexty",
         "fillcolor": "rgba(255, 0, 0, 0.1)",
         "line": {
          "width": 0
         },
         "mode": "lines",
         "name": "Confidence Interval",
         "showlegend": false,
         "type": "scatter",
         "x": [
          "2025-01-01T00:00:00",
          "2025-04-30T00:00:00",
          "2025-07-31T00:00:00",
          "2025-10-31T00:00:00",
          "2026-01-31T00:00:00"
         ],
         "y": [
          2.982940500906606,
          2.398254560184311,
          -0.013483452320528944,
          -1.1988317210432529,
          -0.10776519589116895
         ]
        },
        {
         "error_y": {
          "array": [
           0,
           1.2349721680910586,
           1.5432373553132583,
           1.7637826652632886,
           1.9065435085055362
          ],
          "color": "lightgrey",
          "type": "data",
          "visible": true
         },
         "line": {
          "color": "red",
          "dash": "dash"
         },
         "marker": {
          "color": "red",
          "size": 10
         },
         "mode": "lines+markers+text",
         "name": "Prediction Points",
         "text": [
          "Jan",
          "Apr",
          "Jul",
          "Oct",
          "Jan"
         ],
         "textposition": "top center",
         "type": "scatter",
         "x": [
          "2025-01-01T00:00:00",
          "2025-04-30T00:00:00",
          "2025-07-31T00:00:00",
          "2025-10-31T00:00:00",
          "2026-01-31T00:00:00"
         ],
         "y": [
          2.982940500906606,
          3.6332267282753694,
          1.5297539029927294,
          0.5649509442200358,
          1.7987783126143673
         ]
        }
       ],
       "layout": {
        "height": 600,
        "legend": {
         "title": {
          "text": "Data Type"
         }
        },
        "plot_bgcolor": "white",
        "shapes": [
         {
          "line": {
           "color": "Black",
           "dash": "dash",
           "width": 1
          },
          "opacity": 0.5,
          "type": "line",
          "x0": "2025-01-01",
          "x1": "2025-01-01",
          "xref": "x",
          "y0": 0,
          "y1": 1,
          "yref": "paper"
         },
         {
          "line": {
           "color": "Black",
           "dash": "dash",
           "width": 1
          },
          "opacity": 0.5,
          "type": "line",
          "x0": "2026-01-01",
          "x1": "2026-01-01",
          "xref": "x",
          "y0": 0,
          "y1": 1,
          "yref": "paper"
         }
        ],
        "template": {
         "data": {
          "bar": [
           {
            "error_x": {
             "color": "#2a3f5f"
            },
            "error_y": {
             "color": "#2a3f5f"
            },
            "marker": {
             "line": {
              "color": "#E5ECF6",
              "width": 0.5
             },
             "pattern": {
              "fillmode": "overlay",
              "size": 10,
              "solidity": 0.2
             }
            },
            "type": "bar"
           }
          ],
          "barpolar": [
           {
            "marker": {
             "line": {
              "color": "#E5ECF6",
              "width": 0.5
             },
             "pattern": {
              "fillmode": "overlay",
              "size": 10,
              "solidity": 0.2
             }
            },
            "type": "barpolar"
           }
          ],
          "carpet": [
           {
            "aaxis": {
             "endlinecolor": "#2a3f5f",
             "gridcolor": "white",
             "linecolor": "white",
             "minorgridcolor": "white",
             "startlinecolor": "#2a3f5f"
            },
            "baxis": {
             "endlinecolor": "#2a3f5f",
             "gridcolor": "white",
             "linecolor": "white",
             "minorgridcolor": "white",
             "startlinecolor": "#2a3f5f"
            },
            "type": "carpet"
           }
          ],
          "choropleth": [
           {
            "colorbar": {
             "outlinewidth": 0,
             "ticks": ""
            },
            "type": "choropleth"
           }
          ],
          "contour": [
           {
            "colorbar": {
             "outlinewidth": 0,
             "ticks": ""
            },
            "colorscale": [
             [
              0,
              "#0d0887"
             ],
             [
              0.1111111111111111,
              "#46039f"
             ],
             [
              0.2222222222222222,
              "#7201a8"
             ],
             [
              0.3333333333333333,
              "#9c179e"
             ],
             [
              0.4444444444444444,
              "#bd3786"
             ],
             [
              0.5555555555555556,
              "#d8576b"
             ],
             [
              0.6666666666666666,
              "#ed7953"
             ],
             [
              0.7777777777777778,
              "#fb9f3a"
             ],
             [
              0.8888888888888888,
              "#fdca26"
             ],
             [
              1,
              "#f0f921"
             ]
            ],
            "type": "contour"
           }
          ],
          "contourcarpet": [
           {
            "colorbar": {
             "outlinewidth": 0,
             "ticks": ""
            },
            "type": "contourcarpet"
           }
          ],
          "heatmap": [
           {
            "colorbar": {
             "outlinewidth": 0,
             "ticks": ""
            },
            "colorscale": [
             [
              0,
              "#0d0887"
             ],
             [
              0.1111111111111111,
              "#46039f"
             ],
             [
              0.2222222222222222,
              "#7201a8"
             ],
             [
              0.3333333333333333,
              "#9c179e"
             ],
             [
              0.4444444444444444,
              "#bd3786"
             ],
             [
              0.5555555555555556,
              "#d8576b"
             ],
             [
              0.6666666666666666,
              "#ed7953"
             ],
             [
              0.7777777777777778,
              "#fb9f3a"
             ],
             [
              0.8888888888888888,
              "#fdca26"
             ],
             [
              1,
              "#f0f921"
             ]
            ],
            "type": "heatmap"
           }
          ],
          "heatmapgl": [
           {
            "colorbar": {
             "outlinewidth": 0,
             "ticks": ""
            },
            "colorscale": [
             [
              0,
              "#0d0887"
             ],
             [
              0.1111111111111111,
              "#46039f"
             ],
             [
              0.2222222222222222,
              "#7201a8"
             ],
             [
              0.3333333333333333,
              "#9c179e"
             ],
             [
              0.4444444444444444,
              "#bd3786"
             ],
             [
              0.5555555555555556,
              "#d8576b"
             ],
             [
              0.6666666666666666,
              "#ed7953"
             ],
             [
              0.7777777777777778,
              "#fb9f3a"
             ],
             [
              0.8888888888888888,
              "#fdca26"
             ],
             [
              1,
              "#f0f921"
             ]
            ],
            "type": "heatmapgl"
           }
          ],
          "histogram": [
           {
            "marker": {
             "pattern": {
              "fillmode": "overlay",
              "size": 10,
              "solidity": 0.2
             }
            },
            "type": "histogram"
           }
          ],
          "histogram2d": [
           {
            "colorbar": {
             "outlinewidth": 0,
             "ticks": ""
            },
            "colorscale": [
             [
              0,
              "#0d0887"
             ],
             [
              0.1111111111111111,
              "#46039f"
             ],
             [
              0.2222222222222222,
              "#7201a8"
             ],
             [
              0.3333333333333333,
              "#9c179e"
             ],
             [
              0.4444444444444444,
              "#bd3786"
             ],
             [
              0.5555555555555556,
              "#d8576b"
             ],
             [
              0.6666666666666666,
              "#ed7953"
             ],
             [
              0.7777777777777778,
              "#fb9f3a"
             ],
             [
              0.8888888888888888,
              "#fdca26"
             ],
             [
              1,
              "#f0f921"
             ]
            ],
            "type": "histogram2d"
           }
          ],
          "histogram2dcontour": [
           {
            "colorbar": {
             "outlinewidth": 0,
             "ticks": ""
            },
            "colorscale": [
             [
              0,
              "#0d0887"
             ],
             [
              0.1111111111111111,
              "#46039f"
             ],
             [
              0.2222222222222222,
              "#7201a8"
             ],
             [
              0.3333333333333333,
              "#9c179e"
             ],
             [
              0.4444444444444444,
              "#bd3786"
             ],
             [
              0.5555555555555556,
              "#d8576b"
             ],
             [
              0.6666666666666666,
              "#ed7953"
             ],
             [
              0.7777777777777778,
              "#fb9f3a"
             ],
             [
              0.8888888888888888,
              "#fdca26"
             ],
             [
              1,
              "#f0f921"
             ]
            ],
            "type": "histogram2dcontour"
           }
          ],
          "mesh3d": [
           {
            "colorbar": {
             "outlinewidth": 0,
             "ticks": ""
            },
            "type": "mesh3d"
           }
          ],
          "parcoords": [
           {
            "line": {
             "colorbar": {
              "outlinewidth": 0,
              "ticks": ""
             }
            },
            "type": "parcoords"
           }
          ],
          "pie": [
           {
            "automargin": true,
            "type": "pie"
           }
          ],
          "scatter": [
           {
            "fillpattern": {
             "fillmode": "overlay",
             "size": 10,
             "solidity": 0.2
            },
            "type": "scatter"
           }
          ],
          "scatter3d": [
           {
            "line": {
             "colorbar": {
              "outlinewidth": 0,
              "ticks": ""
             }
            },
            "marker": {
             "colorbar": {
              "outlinewidth": 0,
              "ticks": ""
             }
            },
            "type": "scatter3d"
           }
          ],
          "scattercarpet": [
           {
            "marker": {
             "colorbar": {
              "outlinewidth": 0,
              "ticks": ""
             }
            },
            "type": "scattercarpet"
           }
          ],
          "scattergeo": [
           {
            "marker": {
             "colorbar": {
              "outlinewidth": 0,
              "ticks": ""
             }
            },
            "type": "scattergeo"
           }
          ],
          "scattergl": [
           {
            "marker": {
             "colorbar": {
              "outlinewidth": 0,
              "ticks": ""
             }
            },
            "type": "scattergl"
           }
          ],
          "scattermapbox": [
           {
            "marker": {
             "colorbar": {
              "outlinewidth": 0,
              "ticks": ""
             }
            },
            "type": "scattermapbox"
           }
          ],
          "scatterpolar": [
           {
            "marker": {
             "colorbar": {
              "outlinewidth": 0,
              "ticks": ""
             }
            },
            "type": "scatterpolar"
           }
          ],
          "scatterpolargl": [
           {
            "marker": {
             "colorbar": {
              "outlinewidth": 0,
              "ticks": ""
             }
            },
            "type": "scatterpolargl"
           }
          ],
          "scatterternary": [
           {
            "marker": {
             "colorbar": {
              "outlinewidth": 0,
              "ticks": ""
             }
            },
            "type": "scatterternary"
           }
          ],
          "surface": [
           {
            "colorbar": {
             "outlinewidth": 0,
             "ticks": ""
            },
            "colorscale": [
             [
              0,
              "#0d0887"
             ],
             [
              0.1111111111111111,
              "#46039f"
             ],
             [
              0.2222222222222222,
              "#7201a8"
             ],
             [
              0.3333333333333333,
              "#9c179e"
             ],
             [
              0.4444444444444444,
              "#bd3786"
             ],
             [
              0.5555555555555556,
              "#d8576b"
             ],
             [
              0.6666666666666666,
              "#ed7953"
             ],
             [
              0.7777777777777778,
              "#fb9f3a"
             ],
             [
              0.8888888888888888,
              "#fdca26"
             ],
             [
              1,
              "#f0f921"
             ]
            ],
            "type": "surface"
           }
          ],
          "table": [
           {
            "cells": {
             "fill": {
              "color": "#EBF0F8"
             },
             "line": {
              "color": "white"
             }
            },
            "header": {
             "fill": {
              "color": "#C8D4E3"
             },
             "line": {
              "color": "white"
             }
            },
            "type": "table"
           }
          ]
         },
         "layout": {
          "annotationdefaults": {
           "arrowcolor": "#2a3f5f",
           "arrowhead": 0,
           "arrowwidth": 1
          },
          "autotypenumbers": "strict",
          "coloraxis": {
           "colorbar": {
            "outlinewidth": 0,
            "ticks": ""
           }
          },
          "colorscale": {
           "diverging": [
            [
             0,
             "#8e0152"
            ],
            [
             0.1,
             "#c51b7d"
            ],
            [
             0.2,
             "#de77ae"
            ],
            [
             0.3,
             "#f1b6da"
            ],
            [
             0.4,
             "#fde0ef"
            ],
            [
             0.5,
             "#f7f7f7"
            ],
            [
             0.6,
             "#e6f5d0"
            ],
            [
             0.7,
             "#b8e186"
            ],
            [
             0.8,
             "#7fbc41"
            ],
            [
             0.9,
             "#4d9221"
            ],
            [
             1,
             "#276419"
            ]
           ],
           "sequential": [
            [
             0,
             "#0d0887"
            ],
            [
             0.1111111111111111,
             "#46039f"
            ],
            [
             0.2222222222222222,
             "#7201a8"
            ],
            [
             0.3333333333333333,
             "#9c179e"
            ],
            [
             0.4444444444444444,
             "#bd3786"
            ],
            [
             0.5555555555555556,
             "#d8576b"
            ],
            [
             0.6666666666666666,
             "#ed7953"
            ],
            [
             0.7777777777777778,
             "#fb9f3a"
            ],
            [
             0.8888888888888888,
             "#fdca26"
            ],
            [
             1,
             "#f0f921"
            ]
           ],
           "sequentialminus": [
            [
             0,
             "#0d0887"
            ],
            [
             0.1111111111111111,
             "#46039f"
            ],
            [
             0.2222222222222222,
             "#7201a8"
            ],
            [
             0.3333333333333333,
             "#9c179e"
            ],
            [
             0.4444444444444444,
             "#bd3786"
            ],
            [
             0.5555555555555556,
             "#d8576b"
            ],
            [
             0.6666666666666666,
             "#ed7953"
            ],
            [
             0.7777777777777778,
             "#fb9f3a"
            ],
            [
             0.8888888888888888,
             "#fdca26"
            ],
            [
             1,
             "#f0f921"
            ]
           ]
          },
          "colorway": [
           "#636efa",
           "#EF553B",
           "#00cc96",
           "#ab63fa",
           "#FFA15A",
           "#19d3f3",
           "#FF6692",
           "#B6E880",
           "#FF97FF",
           "#FECB52"
          ],
          "font": {
           "color": "#2a3f5f"
          },
          "geo": {
           "bgcolor": "white",
           "lakecolor": "white",
           "landcolor": "#E5ECF6",
           "showlakes": true,
           "showland": true,
           "subunitcolor": "white"
          },
          "hoverlabel": {
           "align": "left"
          },
          "hovermode": "closest",
          "mapbox": {
           "style": "light"
          },
          "paper_bgcolor": "white",
          "plot_bgcolor": "#E5ECF6",
          "polar": {
           "angularaxis": {
            "gridcolor": "white",
            "linecolor": "white",
            "ticks": ""
           },
           "bgcolor": "#E5ECF6",
           "radialaxis": {
            "gridcolor": "white",
            "linecolor": "white",
            "ticks": ""
           }
          },
          "scene": {
           "xaxis": {
            "backgroundcolor": "#E5ECF6",
            "gridcolor": "white",
            "gridwidth": 2,
            "linecolor": "white",
            "showbackground": true,
            "ticks": "",
            "zerolinecolor": "white"
           },
           "yaxis": {
            "backgroundcolor": "#E5ECF6",
            "gridcolor": "white",
            "gridwidth": 2,
            "linecolor": "white",
            "showbackground": true,
            "ticks": "",
            "zerolinecolor": "white"
           },
           "zaxis": {
            "backgroundcolor": "#E5ECF6",
            "gridcolor": "white",
            "gridwidth": 2,
            "linecolor": "white",
            "showbackground": true,
            "ticks": "",
            "zerolinecolor": "white"
           }
          },
          "shapedefaults": {
           "line": {
            "color": "#2a3f5f"
           }
          },
          "ternary": {
           "aaxis": {
            "gridcolor": "white",
            "linecolor": "white",
            "ticks": ""
           },
           "baxis": {
            "gridcolor": "white",
            "linecolor": "white",
            "ticks": ""
           },
           "bgcolor": "#E5ECF6",
           "caxis": {
            "gridcolor": "white",
            "linecolor": "white",
            "ticks": ""
           }
          },
          "title": {
           "x": 0.05
          },
          "xaxis": {
           "automargin": true,
           "gridcolor": "white",
           "linecolor": "white",
           "ticks": "",
           "title": {
            "standoff": 15
           },
           "zerolinecolor": "white",
           "zerolinewidth": 2
          },
          "yaxis": {
           "automargin": true,
           "gridcolor": "white",
           "linecolor": "white",
           "ticks": "",
           "title": {
            "standoff": 15
           },
           "zerolinecolor": "white",
           "zerolinewidth": 2
          }
         }
        },
        "title": {
         "text": "Annual CPI Inflation Rate Summary"
        },
        "width": 1200,
        "xaxis": {
         "showgrid": true,
         "tickangle": 45,
         "title": {
          "text": "Date"
         }
        },
        "yaxis": {
         "showgrid": true,
         "title": {
          "text": "Annual CPI Change"
         }
        }
       }
      }
     },
     "metadata": {},
     "output_type": "display_data"
    }
   ],
   "source": [
    "\n",
    "extended_test_data_12['Recovered_CPI_Annual_Change_12'] = predictions_inflation_12_reversed\n",
    "extended_test_data_9['Recovered_CPI_Annual_Change_9'] = predictions_inflation_9_reversed\n",
    "extended_test_data_6['Recovered_CPI_Annual_Change_6'] = predictions_inflation_6_reversed\n",
    "extended_test_data_3['Recovered_CPI_Annual_Change_3'] = predictions_inflation_3_reversed\n",
    "\n",
    "# Extract specific points for the 3rd, 6th, 9th, and 12th month predictions\n",
    "prediction_points = {\n",
    "    'last_actual': visualization_data[visualization_data['Date_CPI'] == '2025-01-01T00:00:00.000000000']['CPI_Annual_Change'].values[0],\n",
    "    '3-Month Prediction': extended_test_data_3[extended_test_data_3['Date_CPI'] == '2025-04-30T00:00:00.000000000']['Recovered_CPI_Annual_Change_3'].values[0],\n",
    "    '6-Month Prediction': extended_test_data_6[extended_test_data_6['Date_CPI'] == '2025-07-31T00:00:00.000000000']['Recovered_CPI_Annual_Change_6'].values[0],\n",
    "    '9-Month Prediction': extended_test_data_9[extended_test_data_9['Date_CPI'] == '2025-10-31T00:00:00.000000000']['Recovered_CPI_Annual_Change_9'].values[0],\n",
    "    '12-Month Prediction': extended_test_data_12[extended_test_data_12['Date_CPI'] == '2026-01-31T00:00:00.000000000']['Recovered_CPI_Annual_Change_12'].values[0]\n",
    "}\n",
    "\n",
    "\n",
    "# Create a new DataFrame for these points with RMSE values\n",
    "prediction_points_df = pd.DataFrame({\n",
    "    'Date_CPI': pd.to_datetime(['2025-01-01', '2025-04-30', '2025-07-31', '2025-10-31', '2026-01-31']),\n",
    "    'Annual_Change': list(prediction_points.values()),\n",
    "    'RMSE': [0] + [best_model_rmse_test_3, best_model_rmse_test_6, best_model_rmse_test_9, best_model_rmse_test_12]\n",
    "})\n",
    "\n",
    "# Calculate upper and lower bounds\n",
    "prediction_points_df['Upper_Bound'] = prediction_points_df['Annual_Change'] + prediction_points_df['RMSE']\n",
    "prediction_points_df['Lower_Bound'] = prediction_points_df['Annual_Change'] - prediction_points_df['RMSE']\n",
    "\n",
    "fig = go.Figure()\n",
    "\n",
    "# Add actual data trace\n",
    "actual_data = visualization_data[['Date_CPI', 'CPI_Annual_Change']].rename(columns={'CPI_Annual_Change': 'Annual_Change'})\n",
    "actual_data['Date_CPI'] = pd.to_datetime(actual_data['Date_CPI'])\n",
    "fig.add_trace(go.Scatter(x=actual_data['Date_CPI'], y=actual_data['Annual_Change'], mode='lines', name='Actual'))\n",
    "\n",
    "\n",
    "fig.add_trace(go.Scatter(\n",
    "    x=prediction_points_df['Date_CPI'],\n",
    "    y=prediction_points_df['Upper_Bound'],\n",
    "    mode='lines',\n",
    "    line=dict(width=0),\n",
    "    name='Upper Bound',\n",
    "    showlegend=False\n",
    "))\n",
    "\n",
    "\n",
    "fig.add_trace(go.Scatter(\n",
    "    x=prediction_points_df['Date_CPI'],\n",
    "    y=prediction_points_df['Lower_Bound'],\n",
    "    mode='lines',\n",
    "    line=dict(width=0),\n",
    "    fill='tonexty',\n",
    "    fillcolor='rgba(255, 0, 0, 0.1)',\n",
    "    name='Confidence Interval',\n",
    "    showlegend=False\n",
    "))\n",
    "\n",
    "\n",
    "fig.add_trace(go.Scatter(\n",
    "    x=prediction_points_df['Date_CPI'],\n",
    "    y=prediction_points_df['Annual_Change'],\n",
    "    mode='lines+markers+text',\n",
    "    name='Prediction Points',\n",
    "    line=dict(color='red', dash='dash'),\n",
    "    marker=dict(size=10, color='red'),\n",
    "    text=prediction_points_df['Date_CPI'].dt.strftime('%b'),\n",
    "    textposition='top center',\n",
    "    error_y=dict(\n",
    "        type='data',\n",
    "        array=prediction_points_df['RMSE'],\n",
    "        visible=True,\n",
    "        color='lightgrey', \n",
    "    )\n",
    "))\n",
    "\n",
    "fig.add_shape(\n",
    "    type=\"line\",\n",
    "    x0=\"2025-01-01\", y0=0, x1=\"2025-01-01\", y1=1,\n",
    "    xref='x', yref='paper', opacity=0.5,\n",
    "    line=dict(color=\"Black\", width=1, dash=\"dash\")\n",
    ")\n",
    "fig.add_shape(\n",
    "    type=\"line\",\n",
    "    x0=\"2026-01-01\", y0=0, x1=\"2026-01-01\", y1=1,\n",
    "    xref='x', yref='paper', opacity=0.5,\n",
    "    line=dict(color=\"Black\", width=1, dash=\"dash\")\n",
    ")\n",
    "\n",
    "fig.update_layout(\n",
    "    height=600,\n",
    "    width=1200,\n",
    "    title_text=\"Annual CPI Inflation Rate Summary\",\n",
    "    xaxis_title=\"Date\",\n",
    "    yaxis_title=\"Annual CPI Change\",\n",
    "    legend_title=\"Data Type\",\n",
    "    plot_bgcolor='white'\n",
    ")\n",
    "\n",
    "fig.update_xaxes(tickangle=45, showgrid=True)\n",
    "fig.update_yaxes(showgrid=True)\n",
    "\n",
    "fig.show()"
   ]
  }
 ],
 "metadata": {
  "kernelspec": {
   "display_name": "client_demo",
   "language": "python",
   "name": "python3"
  },
  "language_info": {
   "codemirror_mode": {
    "name": "ipython",
    "version": 3
   },
   "file_extension": ".py",
   "mimetype": "text/x-python",
   "name": "python",
   "nbconvert_exporter": "python",
   "pygments_lexer": "ipython3",
   "version": "3.10.18"
  }
 },
 "nbformat": 4,
 "nbformat_minor": 2
}
