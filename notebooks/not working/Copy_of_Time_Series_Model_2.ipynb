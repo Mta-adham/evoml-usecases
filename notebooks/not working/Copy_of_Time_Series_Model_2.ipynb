{
  "cells": [
    {
      "cell_type": "markdown",
      "metadata": {
        "id": "P1kH93Lm0kiX"
      },
      "source": [
        "# Multivariate Time Series - Multi-class Classification"
      ]
    },
    {
      "cell_type": "markdown",
      "metadata": {
        "id": "yhxWceiv0tAs"
      },
      "source": [
        "## Import Modules"
      ]
    },
    {
      "cell_type": "code",
      "execution_count": null,
      "metadata": {
        "colab": {
          "base_uri": "https://localhost:8080/",
          "height": 374
        },
        "id": "drADZ6AWnHI_",
        "outputId": "f387977d-3a42-42fc-bf33-c1893d60f41a"
      },
      "outputs": [
        {
          "ename": "ModuleNotFoundError",
          "evalue": "ignored",
          "output_type": "error",
          "traceback": [
            "\u001b[0;31m---------------------------------------------------------------------------\u001b[0m",
            "\u001b[0;31mModuleNotFoundError\u001b[0m                       Traceback (most recent call last)",
            "\u001b[0;32m<ipython-input-1-168a27d6dacc>\u001b[0m in \u001b[0;36m<module>\u001b[0;34m()\u001b[0m\n\u001b[1;32m      6\u001b[0m \u001b[0;31m# 3rd Party\u001b[0m\u001b[0;34m\u001b[0m\u001b[0;34m\u001b[0m\u001b[0;34m\u001b[0m\u001b[0m\n\u001b[1;32m      7\u001b[0m \u001b[0;32mfrom\u001b[0m \u001b[0msklearn\u001b[0m\u001b[0;34m.\u001b[0m\u001b[0mpreprocessing\u001b[0m \u001b[0;32mimport\u001b[0m \u001b[0mStandardScaler\u001b[0m\u001b[0;34m\u001b[0m\u001b[0;34m\u001b[0m\u001b[0m\n\u001b[0;32m----> 8\u001b[0;31m \u001b[0;32mfrom\u001b[0m \u001b[0msktime\u001b[0m\u001b[0;34m.\u001b[0m\u001b[0mtransformations\u001b[0m\u001b[0;34m.\u001b[0m\u001b[0mpanel\u001b[0m\u001b[0;34m.\u001b[0m\u001b[0mreduce\u001b[0m \u001b[0;32mimport\u001b[0m \u001b[0mTabularizer\u001b[0m\u001b[0;34m\u001b[0m\u001b[0;34m\u001b[0m\u001b[0m\n\u001b[0m\u001b[1;32m      9\u001b[0m \u001b[0;32mfrom\u001b[0m \u001b[0msklearn\u001b[0m\u001b[0;34m.\u001b[0m\u001b[0mpipeline\u001b[0m \u001b[0;32mimport\u001b[0m \u001b[0mmake_pipeline\u001b[0m\u001b[0;34m\u001b[0m\u001b[0;34m\u001b[0m\u001b[0m\n\u001b[1;32m     10\u001b[0m \u001b[0;32mfrom\u001b[0m \u001b[0msklearn\u001b[0m\u001b[0;34m.\u001b[0m\u001b[0mlinear_model\u001b[0m \u001b[0;32mimport\u001b[0m \u001b[0mLogisticRegression\u001b[0m\u001b[0;34m,\u001b[0m \u001b[0mRidgeClassifierCV\u001b[0m\u001b[0;34m\u001b[0m\u001b[0;34m\u001b[0m\u001b[0m\n",
            "\u001b[0;31mModuleNotFoundError\u001b[0m: No module named 'sktime'",
            "",
            "\u001b[0;31m---------------------------------------------------------------------------\u001b[0;32m\nNOTE: If your import is failing due to a missing package, you can\nmanually install dependencies using either !pip or !apt.\n\nTo view examples of installing some common dependencies, click the\n\"Open Examples\" button below.\n\u001b[0;31m---------------------------------------------------------------------------\u001b[0m\n"
          ]
        }
      ],
      "source": [
        "# Standard Library\n",
        "import matplotlib.pyplot as plt\n",
        "import numpy as np\n",
        "import pandas as pd\n",
        "\n",
        "# 3rd Party\n",
        "from sklearn.preprocessing import StandardScaler \n",
        "from sktime.transformations.panel.reduce import Tabularizer\n",
        "from sklearn.pipeline import make_pipeline\n",
        "from sklearn.linear_model import LogisticRegression, RidgeClassifierCV\n",
        "from sklearn.neighbors import KNeighborsClassifier \n",
        "from sktime.classification.distance_based import KNeighborsTimeSeriesClassifier\n",
        "from sktime.transformations.panel.rocket import Rocket\n",
        "from sktime.datasets import load_basic_motions"
      ]
    },
    {
      "cell_type": "markdown",
      "metadata": {
        "id": "n82fB8g20-6k"
      },
      "source": [
        "## Data Collection"
      ]
    },
    {
      "cell_type": "code",
      "execution_count": null,
      "metadata": {
        "colab": {
          "base_uri": "https://localhost:8080/"
        },
        "id": "Ho4-6rQfnJZH",
        "outputId": "4d9bd334-1b6b-47aa-ffc6-abd2276e8e22"
      },
      "outputs": [
        {
          "name": "stderr",
          "output_type": "stream",
          "text": [
            "/usr/local/lib/python3.7/dist-packages/sktime/utils/data_io.py:66: FutureWarning: This function has moved to datasets/_data_io, this version will be removed in V0.10\n",
            "  FutureWarning,\n"
          ]
        }
      ],
      "source": [
        "# Upload dataset into training and testing\n",
        "X_train_sktime, y_train = load_arrow_head(split=\"train\", return_X_y=True)\n",
        "X_test_sktime, y_test = load_arrow_head(split=\"test\", return_X_y=True)"
      ]
    },
    {
      "cell_type": "code",
      "execution_count": null,
      "metadata": {
        "colab": {
          "base_uri": "https://localhost:8080/",
          "height": 1000
        },
        "id": "pcDGtReBor_M",
        "outputId": "4112b5f1-fd1c-4265-d9bc-9ca305700285"
      },
      "outputs": [
        {
          "data": {
            "text/html": [
              "<div>\n",
              "<style scoped>\n",
              "    .dataframe tbody tr th:only-of-type {\n",
              "        vertical-align: middle;\n",
              "    }\n",
              "\n",
              "    .dataframe tbody tr th {\n",
              "        vertical-align: top;\n",
              "    }\n",
              "\n",
              "    .dataframe thead th {\n",
              "        text-align: right;\n",
              "    }\n",
              "</style>\n",
              "<table border=\"1\" class=\"dataframe\">\n",
              "  <thead>\n",
              "    <tr style=\"text-align: right;\">\n",
              "      <th></th>\n",
              "      <th>dim_0</th>\n",
              "      <th>0</th>\n",
              "    </tr>\n",
              "  </thead>\n",
              "  <tbody>\n",
              "    <tr>\n",
              "      <th>0</th>\n",
              "      <td>0     -1.9630\n",
              "1     -1.9578\n",
              "2     -1.9561\n",
              "3   ...</td>\n",
              "      <td>0</td>\n",
              "    </tr>\n",
              "    <tr>\n",
              "      <th>1</th>\n",
              "      <td>0     -1.7746\n",
              "1     -1.7740\n",
              "2     -1.7766\n",
              "3   ...</td>\n",
              "      <td>1</td>\n",
              "    </tr>\n",
              "    <tr>\n",
              "      <th>2</th>\n",
              "      <td>0     -1.8660\n",
              "1     -1.8420\n",
              "2     -1.8350\n",
              "3   ...</td>\n",
              "      <td>2</td>\n",
              "    </tr>\n",
              "    <tr>\n",
              "      <th>3</th>\n",
              "      <td>0     -2.0738\n",
              "1     -2.0733\n",
              "2     -2.0446\n",
              "3   ...</td>\n",
              "      <td>0</td>\n",
              "    </tr>\n",
              "    <tr>\n",
              "      <th>4</th>\n",
              "      <td>0     -1.7463\n",
              "1     -1.7413\n",
              "2     -1.7227\n",
              "3   ...</td>\n",
              "      <td>1</td>\n",
              "    </tr>\n",
              "    <tr>\n",
              "      <th>5</th>\n",
              "      <td>0     -1.9828\n",
              "1     -1.9789\n",
              "2     -1.9373\n",
              "3   ...</td>\n",
              "      <td>2</td>\n",
              "    </tr>\n",
              "    <tr>\n",
              "      <th>6</th>\n",
              "      <td>0     -2.0830\n",
              "1     -2.0921\n",
              "2     -2.0495\n",
              "3   ...</td>\n",
              "      <td>0</td>\n",
              "    </tr>\n",
              "    <tr>\n",
              "      <th>7</th>\n",
              "      <td>0     -1.6336\n",
              "1     -1.6432\n",
              "2     -1.6137\n",
              "3   ...</td>\n",
              "      <td>1</td>\n",
              "    </tr>\n",
              "    <tr>\n",
              "      <th>8</th>\n",
              "      <td>0     -1.7170\n",
              "1     -1.7281\n",
              "2     -1.6833\n",
              "3   ...</td>\n",
              "      <td>2</td>\n",
              "    </tr>\n",
              "    <tr>\n",
              "      <th>9</th>\n",
              "      <td>0     -2.2453\n",
              "1     -2.2239\n",
              "2     -2.1719\n",
              "3   ...</td>\n",
              "      <td>0</td>\n",
              "    </tr>\n",
              "    <tr>\n",
              "      <th>10</th>\n",
              "      <td>0     -1.8442\n",
              "1     -1.8399\n",
              "2     -1.8257\n",
              "3   ...</td>\n",
              "      <td>1</td>\n",
              "    </tr>\n",
              "    <tr>\n",
              "      <th>11</th>\n",
              "      <td>0     -1.8337\n",
              "1     -1.8277\n",
              "2     -1.7764\n",
              "3   ...</td>\n",
              "      <td>2</td>\n",
              "    </tr>\n",
              "    <tr>\n",
              "      <th>12</th>\n",
              "      <td>0     -2.1056\n",
              "1     -2.1215\n",
              "2     -2.0359\n",
              "3   ...</td>\n",
              "      <td>0</td>\n",
              "    </tr>\n",
              "    <tr>\n",
              "      <th>13</th>\n",
              "      <td>0     -1.9005\n",
              "1     -1.8827\n",
              "2     -1.8685\n",
              "3   ...</td>\n",
              "      <td>1</td>\n",
              "    </tr>\n",
              "    <tr>\n",
              "      <th>14</th>\n",
              "      <td>0     -2.1888\n",
              "1     -2.1855\n",
              "2     -2.1765\n",
              "3   ...</td>\n",
              "      <td>2</td>\n",
              "    </tr>\n",
              "    <tr>\n",
              "      <th>15</th>\n",
              "      <td>0     -2.1645\n",
              "1     -2.1785\n",
              "2     -2.0660\n",
              "3   ...</td>\n",
              "      <td>0</td>\n",
              "    </tr>\n",
              "    <tr>\n",
              "      <th>16</th>\n",
              "      <td>0     -2.0537\n",
              "1     -2.0369\n",
              "2     -2.0330\n",
              "3   ...</td>\n",
              "      <td>1</td>\n",
              "    </tr>\n",
              "    <tr>\n",
              "      <th>17</th>\n",
              "      <td>0     -1.6537\n",
              "1     -1.6510\n",
              "2     -1.6319\n",
              "3   ...</td>\n",
              "      <td>2</td>\n",
              "    </tr>\n",
              "    <tr>\n",
              "      <th>18</th>\n",
              "      <td>0     -2.1138\n",
              "1     -2.0918\n",
              "2     -2.0488\n",
              "3   ...</td>\n",
              "      <td>0</td>\n",
              "    </tr>\n",
              "    <tr>\n",
              "      <th>19</th>\n",
              "      <td>0     -1.8822\n",
              "1     -1.8806\n",
              "2     -1.8658\n",
              "3   ...</td>\n",
              "      <td>1</td>\n",
              "    </tr>\n",
              "    <tr>\n",
              "      <th>20</th>\n",
              "      <td>0     -1.9226\n",
              "1     -1.9080\n",
              "2     -1.8801\n",
              "3   ...</td>\n",
              "      <td>2</td>\n",
              "    </tr>\n",
              "    <tr>\n",
              "      <th>21</th>\n",
              "      <td>0     -1.9888\n",
              "1     -2.0247\n",
              "2     -1.9262\n",
              "3   ...</td>\n",
              "      <td>0</td>\n",
              "    </tr>\n",
              "    <tr>\n",
              "      <th>22</th>\n",
              "      <td>0     -1.7545\n",
              "1     -1.7779\n",
              "2     -1.7514\n",
              "3   ...</td>\n",
              "      <td>1</td>\n",
              "    </tr>\n",
              "    <tr>\n",
              "      <th>23</th>\n",
              "      <td>0     -2.1597\n",
              "1     -2.1756\n",
              "2     -2.1656\n",
              "3   ...</td>\n",
              "      <td>2</td>\n",
              "    </tr>\n",
              "    <tr>\n",
              "      <th>24</th>\n",
              "      <td>0     -2.1448\n",
              "1     -2.1654\n",
              "2     -2.1562\n",
              "3   ...</td>\n",
              "      <td>0</td>\n",
              "    </tr>\n",
              "    <tr>\n",
              "      <th>25</th>\n",
              "      <td>0     -1.6320\n",
              "1     -1.6301\n",
              "2     -1.6075\n",
              "3   ...</td>\n",
              "      <td>1</td>\n",
              "    </tr>\n",
              "    <tr>\n",
              "      <th>26</th>\n",
              "      <td>0     -2.2551\n",
              "1     -2.2337\n",
              "2     -2.2292\n",
              "3   ...</td>\n",
              "      <td>2</td>\n",
              "    </tr>\n",
              "    <tr>\n",
              "      <th>27</th>\n",
              "      <td>0     -1.8289\n",
              "1     -1.8415\n",
              "2     -1.8063\n",
              "3   ...</td>\n",
              "      <td>0</td>\n",
              "    </tr>\n",
              "    <tr>\n",
              "      <th>28</th>\n",
              "      <td>0     -2.0043\n",
              "1     -1.9856\n",
              "2     -1.9533\n",
              "3   ...</td>\n",
              "      <td>1</td>\n",
              "    </tr>\n",
              "    <tr>\n",
              "      <th>29</th>\n",
              "      <td>0     -1.8293\n",
              "1     -1.8324\n",
              "2     -1.8226\n",
              "3   ...</td>\n",
              "      <td>2</td>\n",
              "    </tr>\n",
              "    <tr>\n",
              "      <th>30</th>\n",
              "      <td>0     -2.1310\n",
              "1     -2.1095\n",
              "2     -2.0842\n",
              "3   ...</td>\n",
              "      <td>0</td>\n",
              "    </tr>\n",
              "    <tr>\n",
              "      <th>31</th>\n",
              "      <td>0     -1.8976\n",
              "1     -1.8961\n",
              "2     -1.8432\n",
              "3   ...</td>\n",
              "      <td>1</td>\n",
              "    </tr>\n",
              "    <tr>\n",
              "      <th>32</th>\n",
              "      <td>0     -1.6737\n",
              "1     -1.6715\n",
              "2     -1.6602\n",
              "3   ...</td>\n",
              "      <td>2</td>\n",
              "    </tr>\n",
              "    <tr>\n",
              "      <th>33</th>\n",
              "      <td>0     -2.1308\n",
              "1     -2.1044\n",
              "2     -2.0748\n",
              "3   ...</td>\n",
              "      <td>0</td>\n",
              "    </tr>\n",
              "    <tr>\n",
              "      <th>34</th>\n",
              "      <td>0     -1.8803\n",
              "1     -1.8627\n",
              "2     -1.8497\n",
              "3   ...</td>\n",
              "      <td>1</td>\n",
              "    </tr>\n",
              "    <tr>\n",
              "      <th>35</th>\n",
              "      <td>0     -1.8010\n",
              "1     -1.7989\n",
              "2     -1.7784\n",
              "3   ...</td>\n",
              "      <td>2</td>\n",
              "    </tr>\n",
              "  </tbody>\n",
              "</table>\n",
              "</div>"
            ],
            "text/plain": [
              "                                                dim_0  0\n",
              "0   0     -1.9630\n",
              "1     -1.9578\n",
              "2     -1.9561\n",
              "3   ...  0\n",
              "1   0     -1.7746\n",
              "1     -1.7740\n",
              "2     -1.7766\n",
              "3   ...  1\n",
              "2   0     -1.8660\n",
              "1     -1.8420\n",
              "2     -1.8350\n",
              "3   ...  2\n",
              "3   0     -2.0738\n",
              "1     -2.0733\n",
              "2     -2.0446\n",
              "3   ...  0\n",
              "4   0     -1.7463\n",
              "1     -1.7413\n",
              "2     -1.7227\n",
              "3   ...  1\n",
              "5   0     -1.9828\n",
              "1     -1.9789\n",
              "2     -1.9373\n",
              "3   ...  2\n",
              "6   0     -2.0830\n",
              "1     -2.0921\n",
              "2     -2.0495\n",
              "3   ...  0\n",
              "7   0     -1.6336\n",
              "1     -1.6432\n",
              "2     -1.6137\n",
              "3   ...  1\n",
              "8   0     -1.7170\n",
              "1     -1.7281\n",
              "2     -1.6833\n",
              "3   ...  2\n",
              "9   0     -2.2453\n",
              "1     -2.2239\n",
              "2     -2.1719\n",
              "3   ...  0\n",
              "10  0     -1.8442\n",
              "1     -1.8399\n",
              "2     -1.8257\n",
              "3   ...  1\n",
              "11  0     -1.8337\n",
              "1     -1.8277\n",
              "2     -1.7764\n",
              "3   ...  2\n",
              "12  0     -2.1056\n",
              "1     -2.1215\n",
              "2     -2.0359\n",
              "3   ...  0\n",
              "13  0     -1.9005\n",
              "1     -1.8827\n",
              "2     -1.8685\n",
              "3   ...  1\n",
              "14  0     -2.1888\n",
              "1     -2.1855\n",
              "2     -2.1765\n",
              "3   ...  2\n",
              "15  0     -2.1645\n",
              "1     -2.1785\n",
              "2     -2.0660\n",
              "3   ...  0\n",
              "16  0     -2.0537\n",
              "1     -2.0369\n",
              "2     -2.0330\n",
              "3   ...  1\n",
              "17  0     -1.6537\n",
              "1     -1.6510\n",
              "2     -1.6319\n",
              "3   ...  2\n",
              "18  0     -2.1138\n",
              "1     -2.0918\n",
              "2     -2.0488\n",
              "3   ...  0\n",
              "19  0     -1.8822\n",
              "1     -1.8806\n",
              "2     -1.8658\n",
              "3   ...  1\n",
              "20  0     -1.9226\n",
              "1     -1.9080\n",
              "2     -1.8801\n",
              "3   ...  2\n",
              "21  0     -1.9888\n",
              "1     -2.0247\n",
              "2     -1.9262\n",
              "3   ...  0\n",
              "22  0     -1.7545\n",
              "1     -1.7779\n",
              "2     -1.7514\n",
              "3   ...  1\n",
              "23  0     -2.1597\n",
              "1     -2.1756\n",
              "2     -2.1656\n",
              "3   ...  2\n",
              "24  0     -2.1448\n",
              "1     -2.1654\n",
              "2     -2.1562\n",
              "3   ...  0\n",
              "25  0     -1.6320\n",
              "1     -1.6301\n",
              "2     -1.6075\n",
              "3   ...  1\n",
              "26  0     -2.2551\n",
              "1     -2.2337\n",
              "2     -2.2292\n",
              "3   ...  2\n",
              "27  0     -1.8289\n",
              "1     -1.8415\n",
              "2     -1.8063\n",
              "3   ...  0\n",
              "28  0     -2.0043\n",
              "1     -1.9856\n",
              "2     -1.9533\n",
              "3   ...  1\n",
              "29  0     -1.8293\n",
              "1     -1.8324\n",
              "2     -1.8226\n",
              "3   ...  2\n",
              "30  0     -2.1310\n",
              "1     -2.1095\n",
              "2     -2.0842\n",
              "3   ...  0\n",
              "31  0     -1.8976\n",
              "1     -1.8961\n",
              "2     -1.8432\n",
              "3   ...  1\n",
              "32  0     -1.6737\n",
              "1     -1.6715\n",
              "2     -1.6602\n",
              "3   ...  2\n",
              "33  0     -2.1308\n",
              "1     -2.1044\n",
              "2     -2.0748\n",
              "3   ...  0\n",
              "34  0     -1.8803\n",
              "1     -1.8627\n",
              "2     -1.8497\n",
              "3   ...  1\n",
              "35  0     -1.8010\n",
              "1     -1.7989\n",
              "2     -1.7784\n",
              "3   ...  2"
            ]
          },
          "execution_count": 15,
          "metadata": {},
          "output_type": "execute_result"
        }
      ],
      "source": [
        "# Display train data\n",
        "pd.concat((X_train, pd.Series(y_train)), axis=1)"
      ]
    },
    {
      "cell_type": "code",
      "execution_count": null,
      "metadata": {
        "colab": {
          "base_uri": "https://localhost:8080/",
          "height": 423
        },
        "id": "0phyDub1tVG6",
        "outputId": "4f643d1e-556d-48f7-e83c-e1c75bf711dc"
      },
      "outputs": [
        {
          "data": {
            "text/html": [
              "<div>\n",
              "<style scoped>\n",
              "    .dataframe tbody tr th:only-of-type {\n",
              "        vertical-align: middle;\n",
              "    }\n",
              "\n",
              "    .dataframe tbody tr th {\n",
              "        vertical-align: top;\n",
              "    }\n",
              "\n",
              "    .dataframe thead th {\n",
              "        text-align: right;\n",
              "    }\n",
              "</style>\n",
              "<table border=\"1\" class=\"dataframe\">\n",
              "  <thead>\n",
              "    <tr style=\"text-align: right;\">\n",
              "      <th></th>\n",
              "      <th>dim_0</th>\n",
              "      <th>0</th>\n",
              "    </tr>\n",
              "  </thead>\n",
              "  <tbody>\n",
              "    <tr>\n",
              "      <th>0</th>\n",
              "      <td>0     -1.9078\n",
              "1     -1.9049\n",
              "2     -1.8886\n",
              "3   ...</td>\n",
              "      <td>0</td>\n",
              "    </tr>\n",
              "    <tr>\n",
              "      <th>1</th>\n",
              "      <td>0     -1.8299\n",
              "1     -1.8085\n",
              "2     -1.7958\n",
              "3   ...</td>\n",
              "      <td>0</td>\n",
              "    </tr>\n",
              "    <tr>\n",
              "      <th>2</th>\n",
              "      <td>0     -1.8016\n",
              "1     -1.7757\n",
              "2     -1.7285\n",
              "3   ...</td>\n",
              "      <td>0</td>\n",
              "    </tr>\n",
              "    <tr>\n",
              "      <th>3</th>\n",
              "      <td>0     -1.8857\n",
              "1     -1.8552\n",
              "2     -1.8452\n",
              "3   ...</td>\n",
              "      <td>0</td>\n",
              "    </tr>\n",
              "    <tr>\n",
              "      <th>4</th>\n",
              "      <td>0     -1.9591\n",
              "1     -1.9749\n",
              "2     -1.9714\n",
              "3   ...</td>\n",
              "      <td>0</td>\n",
              "    </tr>\n",
              "    <tr>\n",
              "      <th>...</th>\n",
              "      <td>...</td>\n",
              "      <td>...</td>\n",
              "    </tr>\n",
              "    <tr>\n",
              "      <th>170</th>\n",
              "      <td>0     -1.6251\n",
              "1     -1.6230\n",
              "2     -1.6261\n",
              "3   ...</td>\n",
              "      <td>2</td>\n",
              "    </tr>\n",
              "    <tr>\n",
              "      <th>171</th>\n",
              "      <td>0     -1.6578\n",
              "1     -1.6647\n",
              "2     -1.6326\n",
              "3   ...</td>\n",
              "      <td>2</td>\n",
              "    </tr>\n",
              "    <tr>\n",
              "      <th>172</th>\n",
              "      <td>0     -1.6033\n",
              "1     -1.5874\n",
              "2     -1.5774\n",
              "3   ...</td>\n",
              "      <td>2</td>\n",
              "    </tr>\n",
              "    <tr>\n",
              "      <th>173</th>\n",
              "      <td>0     -1.7390\n",
              "1     -1.7415\n",
              "2     -1.7329\n",
              "3   ...</td>\n",
              "      <td>2</td>\n",
              "    </tr>\n",
              "    <tr>\n",
              "      <th>174</th>\n",
              "      <td>0     -1.6307\n",
              "1     -1.6299\n",
              "2     -1.6206\n",
              "3   ...</td>\n",
              "      <td>2</td>\n",
              "    </tr>\n",
              "  </tbody>\n",
              "</table>\n",
              "<p>175 rows × 2 columns</p>\n",
              "</div>"
            ],
            "text/plain": [
              "                                                 dim_0  0\n",
              "0    0     -1.9078\n",
              "1     -1.9049\n",
              "2     -1.8886\n",
              "3   ...  0\n",
              "1    0     -1.8299\n",
              "1     -1.8085\n",
              "2     -1.7958\n",
              "3   ...  0\n",
              "2    0     -1.8016\n",
              "1     -1.7757\n",
              "2     -1.7285\n",
              "3   ...  0\n",
              "3    0     -1.8857\n",
              "1     -1.8552\n",
              "2     -1.8452\n",
              "3   ...  0\n",
              "4    0     -1.9591\n",
              "1     -1.9749\n",
              "2     -1.9714\n",
              "3   ...  0\n",
              "..                                                 ... ..\n",
              "170  0     -1.6251\n",
              "1     -1.6230\n",
              "2     -1.6261\n",
              "3   ...  2\n",
              "171  0     -1.6578\n",
              "1     -1.6647\n",
              "2     -1.6326\n",
              "3   ...  2\n",
              "172  0     -1.6033\n",
              "1     -1.5874\n",
              "2     -1.5774\n",
              "3   ...  2\n",
              "173  0     -1.7390\n",
              "1     -1.7415\n",
              "2     -1.7329\n",
              "3   ...  2\n",
              "174  0     -1.6307\n",
              "1     -1.6299\n",
              "2     -1.6206\n",
              "3   ...  2\n",
              "\n",
              "[175 rows x 2 columns]"
            ]
          },
          "execution_count": 16,
          "metadata": {},
          "output_type": "execute_result"
        }
      ],
      "source": [
        "# Display test data\n",
        "pd.concat((X_test, pd.Series(y_test)), axis=1)"
      ]
    },
    {
      "cell_type": "markdown",
      "metadata": {
        "id": "PIL4PjOC_KiK"
      },
      "source": [
        "In this case, we have the option on how to split the training and test data. If we did not, we would have to use specific methods to create these datasets.  "
      ]
    },
    {
      "cell_type": "markdown",
      "metadata": {
        "id": "Alh05Y941m5a"
      },
      "source": [
        "## Data Processing"
      ]
    },
    {
      "cell_type": "code",
      "execution_count": null,
      "metadata": {
        "id": "-GK_1oB6puP6"
      },
      "outputs": [],
      "source": [
        " # Create entire feature dataset\n",
        " data = pd.concat((X_train, X_test), axis=0).reset_index(drop=True)"
      ]
    },
    {
      "cell_type": "code",
      "execution_count": null,
      "metadata": {
        "colab": {
          "base_uri": "https://localhost:8080/"
        },
        "id": "BjjBXfCCqU6q",
        "outputId": "a3e7d6e9-b517-43d2-a125-2ce4ed76c429"
      },
      "outputs": [
        {
          "name": "stdout",
          "output_type": "stream",
          "text": [
            "Time series length of each sample is: 251\n"
          ]
        }
      ],
      "source": [
        "time_series_length = len(data.loc[0][0])\n",
        "print(\"Time series length of each sample is:\", time_series_length)"
      ]
    },
    {
      "cell_type": "code",
      "execution_count": null,
      "metadata": {
        "colab": {
          "base_uri": "https://localhost:8080/"
        },
        "id": "HsZeI9TDn6d1",
        "outputId": "40bbb1dd-1902-4d5e-f6ed-9328ce90dd45"
      },
      "outputs": [
        {
          "name": "stdout",
          "output_type": "stream",
          "text": [
            "['0' '1' '2'] [12 12 12]\n"
          ]
        }
      ],
      "source": [
        "# Obtain target classes and their respective total count in training set\n",
        "labels_train, counts_train = np.unique(y_train, return_counts=True)\n",
        "print(labels_train, counts_train)"
      ]
    },
    {
      "cell_type": "code",
      "execution_count": null,
      "metadata": {
        "colab": {
          "base_uri": "https://localhost:8080/"
        },
        "id": "4LR7B3Rbzs9N",
        "outputId": "a8c5a00b-eca4-49bc-890f-6fa7bcf84db7"
      },
      "outputs": [
        {
          "name": "stdout",
          "output_type": "stream",
          "text": [
            "['0' '1' '2'] [69 53 53]\n"
          ]
        }
      ],
      "source": [
        "# Obtain target classes and their respective total count in training set\n",
        "labels_test, counts_test = np.unique(y_test, return_counts=True)\n",
        "print(labels_test, counts_test)"
      ]
    },
    {
      "cell_type": "markdown",
      "metadata": {
        "id": "Z-wexfwB4Idc"
      },
      "source": [
        "There is an equal class split in the training data but a slight imbalance in the test data. Overall, this is not a massive issue and thus does not require the need for imbalanced data techniques. "
      ]
    },
    {
      "cell_type": "markdown",
      "metadata": {
        "id": "6Bv9z5LEqqBx"
      },
      "source": [
        "## Data Modelling (without feature generation or feature selection)"
      ]
    },
    {
      "cell_type": "markdown",
      "metadata": {
        "id": "2Jfd0XSZ8KKA"
      },
      "source": [
        "### Splitting dataset"
      ]
    },
    {
      "cell_type": "markdown",
      "metadata": {
        "id": "ion0pRnE_0JW"
      },
      "source": [
        "When dealing with time series classification modelling, we need a training and test data. We can also create validation data to check the overall performance of our algorithm. In this situation, the dataset has already been split into training and test data, otherwise we would have to use a specific splitting method."
      ]
    },
    {
      "cell_type": "code",
      "execution_count": null,
      "metadata": {
        "id": "sjwsP4D6UX0-"
      },
      "outputs": [],
      "source": [
        "def time_wrap(model, X_train, y_train, X_test, y_test):\n",
        "  from time import time\n",
        "  t1 = time()\n",
        "  model.fit(X_train, y_train)\n",
        "  score = model.score(X_test, y_test)\n",
        "  t2 = time()\n",
        "  elapsed = t2 - t1\n",
        "  print('Elapsed time is %f seconds.' % elapsed)\n",
        "  print(f'Accuracy score: {score}')"
      ]
    },
    {
      "cell_type": "markdown",
      "metadata": {
        "id": "_z7Kg-tdZCV9"
      },
      "source": [
        "In these problems, we can either us sklearn or other open-source libraries e.g. sktime, tslearn, pyts etc... For sklearn, and other libraries, we treat each observation/time-series as a separate feature and thus ignore they are ordered in time. A tabular algorithm cannot make use of the fact that features are ordered in time, i.e. if we changed the order of the features, the fitted model and predictions wouldn’t change. Sometimes this works well, sometimes it doesn’t."
      ]
    },
    {
      "cell_type": "markdown",
      "metadata": {
        "id": "Lc22nWGYESBH"
      },
      "source": [
        "### Logistic Regression (sklearn)"
      ]
    },
    {
      "cell_type": "code",
      "execution_count": null,
      "metadata": {
        "colab": {
          "base_uri": "https://localhost:8080/"
        },
        "id": "1V2joCsaEU3o",
        "outputId": "da09ceff-62ca-40c2-f950-be4ceeafbcfe"
      },
      "outputs": [
        {
          "name": "stdout",
          "output_type": "stream",
          "text": [
            "Elapsed time is 0.070166 seconds.\n",
            "Accuracy score: 0.7942857142857143\n"
          ]
        }
      ],
      "source": [
        "# Tabularised algorithm\n",
        "lr = make_pipeline(Tabularizer(), LogisticRegression(multi_class='ovr', max_iter=300)) \n",
        "time_wrap(lr, X_train_sktime, y_train, X_test_sktime, y_test)"
      ]
    },
    {
      "cell_type": "markdown",
      "metadata": {
        "id": "lHdBIUoXqw1c"
      },
      "source": [
        "### KNN with Euclidean metric (sklearn)"
      ]
    },
    {
      "cell_type": "code",
      "execution_count": null,
      "metadata": {
        "colab": {
          "base_uri": "https://localhost:8080/"
        },
        "id": "BIreMMzSpPHS",
        "outputId": "d731040b-152f-4215-84e9-c21b827c4d4c"
      },
      "outputs": [
        {
          "name": "stdout",
          "output_type": "stream",
          "text": [
            "Elapsed time is 0.037786 seconds.\n",
            "Accuracy score: 0.8\n"
          ]
        }
      ],
      "source": [
        "# Tabularised algorithm\n",
        "knn_sklearn_euclidean = make_pipeline(Tabularizer(), KNeighborsClassifier(n_neighbors=1, metric='euclidean')) \n",
        "time_wrap(knn_sklearn_euclidean, X_train_sktime, y_train, X_test_sktime, y_test)"
      ]
    },
    {
      "cell_type": "markdown",
      "metadata": {
        "id": "aUuIu7J-q0tN"
      },
      "source": [
        "### KNN with Dynamic Time Warping (sktime)"
      ]
    },
    {
      "cell_type": "code",
      "execution_count": null,
      "metadata": {
        "id": "27LegxiwEgf1"
      },
      "outputs": [],
      "source": [
        "# Non-tabularised algorithm (same as sklearn)\n",
        "# knn_sktime_dtw = KNeighborsTimeSeriesClassifier(n_neighbors=1, distance=\"dtw\")\n",
        "# knn_sktime_dtw.fit(X_train_sktime, y_train)\n",
        "# time_wrap(knn_sktime_dtw, X_test, y_test)"
      ]
    },
    {
      "cell_type": "markdown",
      "metadata": {
        "id": "XtT-hnI1eQ_n"
      },
      "source": [
        "**Note:** Due to large test size, this takes too long (30+ minutes), so we do not run it but rather show the pipeline."
      ]
    },
    {
      "cell_type": "markdown",
      "metadata": {
        "id": "_JKT_AVXfKKU"
      },
      "source": [
        "### Rocket"
      ]
    },
    {
      "cell_type": "code",
      "execution_count": null,
      "metadata": {
        "colab": {
          "base_uri": "https://localhost:8080/",
          "height": 363
        },
        "id": "oQtajlywfNlf",
        "outputId": "76f8edc4-b57e-44bb-a5fa-f939d8f0135b"
      },
      "outputs": [
        {
          "ename": "KeyboardInterrupt",
          "evalue": "ignored",
          "output_type": "error",
          "traceback": [
            "\u001b[0;31m---------------------------------------------------------------------------\u001b[0m",
            "\u001b[0;31mKeyboardInterrupt\u001b[0m                         Traceback (most recent call last)",
            "\u001b[0;32m<ipython-input-68-ae6bdcd0cb82>\u001b[0m in \u001b[0;36m<module>\u001b[0;34m()\u001b[0m\n\u001b[1;32m      5\u001b[0m \u001b[0mridge_clf\u001b[0m \u001b[0;34m=\u001b[0m \u001b[0mRidgeClassifierCV\u001b[0m\u001b[0;34m(\u001b[0m\u001b[0malphas\u001b[0m\u001b[0;34m=\u001b[0m\u001b[0mnp\u001b[0m\u001b[0;34m.\u001b[0m\u001b[0mlogspace\u001b[0m\u001b[0;34m(\u001b[0m\u001b[0;34m-\u001b[0m\u001b[0;36m3\u001b[0m\u001b[0;34m,\u001b[0m \u001b[0;36m3\u001b[0m\u001b[0;34m,\u001b[0m \u001b[0;36m10\u001b[0m\u001b[0;34m)\u001b[0m\u001b[0;34m,\u001b[0m \u001b[0mnormalize\u001b[0m\u001b[0;34m=\u001b[0m\u001b[0;32mTrue\u001b[0m\u001b[0;34m)\u001b[0m\u001b[0;34m\u001b[0m\u001b[0;34m\u001b[0m\u001b[0m\n\u001b[1;32m      6\u001b[0m \u001b[0mridge_clf\u001b[0m\u001b[0;34m.\u001b[0m\u001b[0mfit\u001b[0m\u001b[0;34m(\u001b[0m\u001b[0mX_train_transform\u001b[0m\u001b[0;34m,\u001b[0m \u001b[0my_train\u001b[0m\u001b[0;34m.\u001b[0m\u001b[0mastype\u001b[0m\u001b[0;34m(\u001b[0m\u001b[0mstr\u001b[0m\u001b[0;34m)\u001b[0m\u001b[0;34m)\u001b[0m\u001b[0;34m\u001b[0m\u001b[0;34m\u001b[0m\u001b[0m\n\u001b[0;32m----> 7\u001b[0;31m \u001b[0mX_test_transform\u001b[0m \u001b[0;34m=\u001b[0m \u001b[0mrocket\u001b[0m\u001b[0;34m.\u001b[0m\u001b[0mtransform\u001b[0m\u001b[0;34m(\u001b[0m\u001b[0mX_test_sktime\u001b[0m\u001b[0;34m)\u001b[0m\u001b[0;34m\u001b[0m\u001b[0;34m\u001b[0m\u001b[0m\n\u001b[0m\u001b[1;32m      8\u001b[0m \u001b[0mtime_wrap\u001b[0m\u001b[0;34m(\u001b[0m\u001b[0mridge_clf\u001b[0m\u001b[0;34m.\u001b[0m\u001b[0mscore\u001b[0m\u001b[0;34m(\u001b[0m\u001b[0mX_test_transform\u001b[0m\u001b[0;34m,\u001b[0m \u001b[0my_test\u001b[0m\u001b[0;34m.\u001b[0m\u001b[0mastype\u001b[0m\u001b[0;34m(\u001b[0m\u001b[0mstr\u001b[0m\u001b[0;34m)\u001b[0m\u001b[0;34m)\u001b[0m\u001b[0;34m)\u001b[0m\u001b[0;34m\u001b[0m\u001b[0;34m\u001b[0m\u001b[0m\n",
            "\u001b[0;32m/usr/local/lib/python3.7/dist-packages/sktime/transformations/panel/rocket/_rocket.py\u001b[0m in \u001b[0;36mtransform\u001b[0;34m(self, X, y)\u001b[0m\n\u001b[1;32m     93\u001b[0m             \u001b[0mn_jobs\u001b[0m \u001b[0;34m=\u001b[0m \u001b[0mself\u001b[0m\u001b[0;34m.\u001b[0m\u001b[0mn_jobs\u001b[0m\u001b[0;34m\u001b[0m\u001b[0;34m\u001b[0m\u001b[0m\n\u001b[1;32m     94\u001b[0m         \u001b[0mset_num_threads\u001b[0m\u001b[0;34m(\u001b[0m\u001b[0mn_jobs\u001b[0m\u001b[0;34m)\u001b[0m\u001b[0;34m\u001b[0m\u001b[0;34m\u001b[0m\u001b[0m\n\u001b[0;32m---> 95\u001b[0;31m         \u001b[0mt\u001b[0m \u001b[0;34m=\u001b[0m \u001b[0mpd\u001b[0m\u001b[0;34m.\u001b[0m\u001b[0mDataFrame\u001b[0m\u001b[0;34m(\u001b[0m\u001b[0m_apply_kernels\u001b[0m\u001b[0;34m(\u001b[0m\u001b[0m_X\u001b[0m\u001b[0;34m,\u001b[0m \u001b[0mself\u001b[0m\u001b[0;34m.\u001b[0m\u001b[0mkernels\u001b[0m\u001b[0;34m)\u001b[0m\u001b[0;34m)\u001b[0m\u001b[0;34m\u001b[0m\u001b[0;34m\u001b[0m\u001b[0m\n\u001b[0m\u001b[1;32m     96\u001b[0m         \u001b[0mset_num_threads\u001b[0m\u001b[0;34m(\u001b[0m\u001b[0mprev_threads\u001b[0m\u001b[0;34m)\u001b[0m\u001b[0;34m\u001b[0m\u001b[0;34m\u001b[0m\u001b[0m\n\u001b[1;32m     97\u001b[0m         \u001b[0;32mreturn\u001b[0m \u001b[0mt\u001b[0m\u001b[0;34m\u001b[0m\u001b[0;34m\u001b[0m\u001b[0m\n",
            "\u001b[0;32m/usr/local/lib/python3.7/dist-packages/numba/core/serialize.py\u001b[0m in \u001b[0;36m_numba_unpickle\u001b[0;34m(address, bytedata, hashed)\u001b[0m\n\u001b[1;32m     27\u001b[0m \u001b[0;34m\u001b[0m\u001b[0m\n\u001b[1;32m     28\u001b[0m \u001b[0;34m\u001b[0m\u001b[0m\n\u001b[0;32m---> 29\u001b[0;31m \u001b[0;32mdef\u001b[0m \u001b[0m_numba_unpickle\u001b[0m\u001b[0;34m(\u001b[0m\u001b[0maddress\u001b[0m\u001b[0;34m,\u001b[0m \u001b[0mbytedata\u001b[0m\u001b[0;34m,\u001b[0m \u001b[0mhashed\u001b[0m\u001b[0;34m)\u001b[0m\u001b[0;34m:\u001b[0m\u001b[0;34m\u001b[0m\u001b[0;34m\u001b[0m\u001b[0m\n\u001b[0m\u001b[1;32m     30\u001b[0m     \"\"\"Used by `numba_unpickle` from _helperlib.c\n\u001b[1;32m     31\u001b[0m \u001b[0;34m\u001b[0m\u001b[0m\n",
            "\u001b[0;31mKeyboardInterrupt\u001b[0m: "
          ]
        }
      ],
      "source": [
        "# Non-tabularised algorithm\n",
        "rocket = Rocket()\n",
        "rocket.fit(X_train_sktime)\n",
        "X_train_sktime_transform = rocket.transform(X_train_sktime)\n",
        "X_test_sktime_transform = rocket.transform(X_test_sktime)\n",
        "ridge_clf = make_pipeline(StandardScalar(), RidgeClassifierCV(alphas=np.logspace(-3, 3, 10))\n",
        "time_wrap(ridge_clf, X_train_sktime_transform, y_train, X_test_transform, y_test)"
      ]
    },
    {
      "cell_type": "markdown",
      "metadata": {
        "id": "_5sbY5Baq4Od"
      },
      "source": [
        "**That's it! If you would like to know more about time series classification using K-Nearest Neighbours (with Dynamic Time Warping), check our the follow-up links on the confluence page. Additionally, you can approach Sid, Chrystalla or Paul on general Time Series information.**"
      ]
    }
  ],
  "metadata": {
    "colab": {
      "collapsed_sections": [],
      "name": "Copy of Time_Series_Model_2.ipynb",
      "provenance": []
    },
    "kernelspec": {
      "display_name": "Python 3",
      "name": "python3"
    },
    "language_info": {
      "name": "python"
    }
  },
  "nbformat": 4,
  "nbformat_minor": 0
}
