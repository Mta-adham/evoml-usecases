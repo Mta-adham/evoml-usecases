{
 "cells": [
  {
   "cell_type": "markdown",
   "metadata": {},
   "source": [
    "# Consumer price index forecasting\n",
    "\n",
    "## Overview \n",
    "This Notebook presents a pipeline for forecasting the Consumer Price index (CPI), a key measure of inflation, over the next year. It generates predictions for the Year-on-Year CPI at 12,9,6 and 3-month intervals, with corresponding visualizations to illustrate projected trends.\n",
    "\n",
    "\n",
    "Clients could use the generated predictions as an analytical insight on inflation trends, and/or when making informed decisions on setting interest rates.\n",
    "\n",
    "The dataset used could be sourced from the [UK Office for National Statistics (ONS)] (https://www.ons.gov.uk/economy/inflationandpriceindices/datasets/consumerpriceinflation) Feel free to experiment with other datasets providing inflation measures, should they fit a desired statistical objective.\n",
    "\n",
    "## Setup \n",
    "### Dependencies \n",
    "\n",
    "This work uses the following library versions: \n",
    "\n",
    "* turintech-evoml-client\n",
    "* pandas \n",
    "* matplotlib \n",
    "* plotly \n",
    "* nbformat (if using xls data)\n",
    "* python-dotenv (for loading environment variables)\n",
    "###Credentials\n",
    "\n",
    "You will also require:\n",
    "* A URL for an instance of the evoML platform (e.g. https://evoml.ai)\n",
    "* Your evoML username and password\n",
    "\n",
    "**Environment Setup:**\n",
    "Create a `.env` file in the project root directory with your credentials:\n",
    "```\n",
    "EVOML_USERNAME=your_username_here\n",
    "EVOML_PASSWORD=your_password_here\n",
    "```\n",
    "\n",
    "The notebook will automatically load these credentials from the `.env` file."
   ]
  },
  {
   "cell_type": "code",
   "execution_count": 23,
   "metadata": {},
   "outputs": [
    {
     "data": {
      "text/plain": [
       "True"
      ]
     },
     "execution_count": 23,
     "metadata": {},
     "output_type": "execute_result"
    }
   ],
   "source": [
    "import pandas as pd \n",
    "import numpy as np\n",
    "import matplotlib.pyplot as plt\n",
    "from typing import Final\n",
    "import evoml_client as ec \n",
    "from evoml_client.trial_conf_models import BudgetMode, SplitMethodOptions\n",
    "import plotly.express as px\n",
    "import plotly.graph_objects as go \n",
    "from plotly.subplots import make_subplots\n",
    "import nbformat as nbf\n",
    "import math\n",
    "from dataclasses import dataclass\n",
    "import os\n",
    "from dotenv import load_dotenv\n",
    "\n",
    "# Load environment variables from .env file\n",
    "load_dotenv()\n",
    "\n",
    "API_URL: Final[str] = \"https://evoml.ai\"\n",
    "EVOML_USERNAME: Final[str] = os.getenv(\"EVOML_USERNAME\", \"\")\n",
    "EVOML_PASSWORD: Final[str] = os.getenv(\"EVOML_PASSWORD\", \"\")\n",
    "\n",
    "# Connect to evoML platform\n",
    "ec.init(base_url=API_URL, username=EVOML_USERNAME, password=EVOML_PASSWORD)"
   ]
  },
  {
   "cell_type": "markdown",
   "metadata": {},
   "source": [
    "### Data loading and manipulation\n",
    "We first retrieve the downloaded data and select the relevant sheet name (Table 57, in this case) to extract the CPI summary of all items for the time period between between 1988 and 2025. \n",
    "\n",
    "We then further convert the date column into a datetime format and we create a dataframe with our time column and dependent variable only. "
   ]
  },
  {
   "cell_type": "code",
   "execution_count": 24,
   "metadata": {},
   "outputs": [
    {
     "data": {
      "text/html": [
       "<div>\n",
       "<style scoped>\n",
       "    .dataframe tbody tr th:only-of-type {\n",
       "        vertical-align: middle;\n",
       "    }\n",
       "\n",
       "    .dataframe tbody tr th {\n",
       "        vertical-align: top;\n",
       "    }\n",
       "\n",
       "    .dataframe thead th {\n",
       "        text-align: right;\n",
       "    }\n",
       "</style>\n",
       "<table border=\"1\" class=\"dataframe\">\n",
       "  <thead>\n",
       "    <tr style=\"text-align: right;\">\n",
       "      <th></th>\n",
       "      <th>index date</th>\n",
       "      <th>Date_CPI</th>\n",
       "      <th>CPI ALL ITEMS</th>\n",
       "      <th>FOOD AND NON-ALCOHOLIC BEVERAGES</th>\n",
       "      <th>FOOD</th>\n",
       "      <th>BREAD &amp; CEREALS</th>\n",
       "      <th>MEAT</th>\n",
       "      <th>FISH</th>\n",
       "      <th>MILK, CHEESE &amp; EGGS</th>\n",
       "      <th>OILS &amp; FATS</th>\n",
       "      <th>...</th>\n",
       "      <th>Durables</th>\n",
       "      <th>Semi-Durables</th>\n",
       "      <th>Non-Durables</th>\n",
       "      <th>Energy, Food, Alcohol &amp; Tobacco</th>\n",
       "      <th>Energy &amp; Non-processed Food</th>\n",
       "      <th>Energy &amp; Seasonal Food</th>\n",
       "      <th>Education, Health &amp; Social Protection</th>\n",
       "      <th>CPI excluding tobacco</th>\n",
       "      <th>Industrial Goods</th>\n",
       "      <th>Miscellaneous and Other Services</th>\n",
       "    </tr>\n",
       "  </thead>\n",
       "  <tbody>\n",
       "    <tr>\n",
       "      <th>0</th>\n",
       "      <td>198801.0</td>\n",
       "      <td>1988-01</td>\n",
       "      <td>48.395</td>\n",
       "      <td>48.004</td>\n",
       "      <td>48.226</td>\n",
       "      <td>50.053</td>\n",
       "      <td>53.741</td>\n",
       "      <td>43.321</td>\n",
       "      <td>48.488</td>\n",
       "      <td>45.461</td>\n",
       "      <td>...</td>\n",
       "      <td>114.318</td>\n",
       "      <td>138.376</td>\n",
       "      <td>48.751</td>\n",
       "      <td>36.743</td>\n",
       "      <td>37.009</td>\n",
       "      <td>33.856</td>\n",
       "      <td>22.302</td>\n",
       "      <td>50.142</td>\n",
       "      <td>79.030</td>\n",
       "      <td>26.499</td>\n",
       "    </tr>\n",
       "    <tr>\n",
       "      <th>1</th>\n",
       "      <td>198802.0</td>\n",
       "      <td>1988-02</td>\n",
       "      <td>48.551</td>\n",
       "      <td>48.275</td>\n",
       "      <td>48.481</td>\n",
       "      <td>50.353</td>\n",
       "      <td>53.386</td>\n",
       "      <td>43.670</td>\n",
       "      <td>48.523</td>\n",
       "      <td>45.921</td>\n",
       "      <td>...</td>\n",
       "      <td>114.255</td>\n",
       "      <td>139.398</td>\n",
       "      <td>49.000</td>\n",
       "      <td>36.824</td>\n",
       "      <td>37.043</td>\n",
       "      <td>33.966</td>\n",
       "      <td>22.318</td>\n",
       "      <td>50.308</td>\n",
       "      <td>79.181</td>\n",
       "      <td>26.639</td>\n",
       "    </tr>\n",
       "    <tr>\n",
       "      <th>2</th>\n",
       "      <td>198803.0</td>\n",
       "      <td>1988-03</td>\n",
       "      <td>48.717</td>\n",
       "      <td>48.424</td>\n",
       "      <td>48.622</td>\n",
       "      <td>50.311</td>\n",
       "      <td>53.721</td>\n",
       "      <td>43.130</td>\n",
       "      <td>48.551</td>\n",
       "      <td>46.108</td>\n",
       "      <td>...</td>\n",
       "      <td>115.203</td>\n",
       "      <td>140.239</td>\n",
       "      <td>49.140</td>\n",
       "      <td>36.892</td>\n",
       "      <td>37.102</td>\n",
       "      <td>33.971</td>\n",
       "      <td>22.432</td>\n",
       "      <td>50.487</td>\n",
       "      <td>79.543</td>\n",
       "      <td>26.692</td>\n",
       "    </tr>\n",
       "    <tr>\n",
       "      <th>3</th>\n",
       "      <td>198804.0</td>\n",
       "      <td>1988-04</td>\n",
       "      <td>49.280</td>\n",
       "      <td>48.693</td>\n",
       "      <td>48.874</td>\n",
       "      <td>50.548</td>\n",
       "      <td>53.736</td>\n",
       "      <td>43.151</td>\n",
       "      <td>48.861</td>\n",
       "      <td>46.249</td>\n",
       "      <td>...</td>\n",
       "      <td>116.535</td>\n",
       "      <td>140.521</td>\n",
       "      <td>49.430</td>\n",
       "      <td>37.260</td>\n",
       "      <td>37.490</td>\n",
       "      <td>34.433</td>\n",
       "      <td>22.486</td>\n",
       "      <td>51.061</td>\n",
       "      <td>80.210</td>\n",
       "      <td>26.825</td>\n",
       "    </tr>\n",
       "    <tr>\n",
       "      <th>4</th>\n",
       "      <td>198805.0</td>\n",
       "      <td>1988-05</td>\n",
       "      <td>49.529</td>\n",
       "      <td>48.820</td>\n",
       "      <td>48.954</td>\n",
       "      <td>50.970</td>\n",
       "      <td>54.186</td>\n",
       "      <td>42.799</td>\n",
       "      <td>48.770</td>\n",
       "      <td>46.346</td>\n",
       "      <td>...</td>\n",
       "      <td>117.061</td>\n",
       "      <td>141.845</td>\n",
       "      <td>49.698</td>\n",
       "      <td>37.430</td>\n",
       "      <td>37.661</td>\n",
       "      <td>34.550</td>\n",
       "      <td>22.519</td>\n",
       "      <td>51.322</td>\n",
       "      <td>80.779</td>\n",
       "      <td>26.943</td>\n",
       "    </tr>\n",
       "    <tr>\n",
       "      <th>...</th>\n",
       "      <td>...</td>\n",
       "      <td>...</td>\n",
       "      <td>...</td>\n",
       "      <td>...</td>\n",
       "      <td>...</td>\n",
       "      <td>...</td>\n",
       "      <td>...</td>\n",
       "      <td>...</td>\n",
       "      <td>...</td>\n",
       "      <td>...</td>\n",
       "      <td>...</td>\n",
       "      <td>...</td>\n",
       "      <td>...</td>\n",
       "      <td>...</td>\n",
       "      <td>...</td>\n",
       "      <td>...</td>\n",
       "      <td>...</td>\n",
       "      <td>...</td>\n",
       "      <td>...</td>\n",
       "      <td>...</td>\n",
       "      <td>...</td>\n",
       "    </tr>\n",
       "    <tr>\n",
       "      <th>440</th>\n",
       "      <td>202409.0</td>\n",
       "      <td>2024-09</td>\n",
       "      <td>134.215</td>\n",
       "      <td>136.316</td>\n",
       "      <td>135.870</td>\n",
       "      <td>136.038</td>\n",
       "      <td>127.820</td>\n",
       "      <td>134.181</td>\n",
       "      <td>141.606</td>\n",
       "      <td>187.465</td>\n",
       "      <td>...</td>\n",
       "      <td>119.984</td>\n",
       "      <td>119.601</td>\n",
       "      <td>128.414</td>\n",
       "      <td>141.418</td>\n",
       "      <td>139.258</td>\n",
       "      <td>141.645</td>\n",
       "      <td>137.524</td>\n",
       "      <td>133.394</td>\n",
       "      <td>125.297</td>\n",
       "      <td>126.755</td>\n",
       "    </tr>\n",
       "    <tr>\n",
       "      <th>441</th>\n",
       "      <td>202410.0</td>\n",
       "      <td>2024-10</td>\n",
       "      <td>135.015</td>\n",
       "      <td>136.512</td>\n",
       "      <td>135.998</td>\n",
       "      <td>136.106</td>\n",
       "      <td>127.829</td>\n",
       "      <td>132.271</td>\n",
       "      <td>141.526</td>\n",
       "      <td>187.015</td>\n",
       "      <td>...</td>\n",
       "      <td>119.799</td>\n",
       "      <td>120.918</td>\n",
       "      <td>128.732</td>\n",
       "      <td>143.142</td>\n",
       "      <td>142.478</td>\n",
       "      <td>145.641</td>\n",
       "      <td>139.775</td>\n",
       "      <td>134.204</td>\n",
       "      <td>126.592</td>\n",
       "      <td>128.422</td>\n",
       "    </tr>\n",
       "    <tr>\n",
       "      <th>442</th>\n",
       "      <td>202411.0</td>\n",
       "      <td>2024-11</td>\n",
       "      <td>135.140</td>\n",
       "      <td>137.142</td>\n",
       "      <td>136.733</td>\n",
       "      <td>137.349</td>\n",
       "      <td>127.089</td>\n",
       "      <td>133.411</td>\n",
       "      <td>143.485</td>\n",
       "      <td>190.346</td>\n",
       "      <td>...</td>\n",
       "      <td>119.652</td>\n",
       "      <td>121.445</td>\n",
       "      <td>128.667</td>\n",
       "      <td>143.978</td>\n",
       "      <td>142.712</td>\n",
       "      <td>146.113</td>\n",
       "      <td>139.874</td>\n",
       "      <td>134.246</td>\n",
       "      <td>126.773</td>\n",
       "      <td>128.574</td>\n",
       "    </tr>\n",
       "    <tr>\n",
       "      <th>443</th>\n",
       "      <td>202412.0</td>\n",
       "      <td>2024-12</td>\n",
       "      <td>135.552</td>\n",
       "      <td>137.801</td>\n",
       "      <td>137.451</td>\n",
       "      <td>138.316</td>\n",
       "      <td>127.241</td>\n",
       "      <td>132.359</td>\n",
       "      <td>143.690</td>\n",
       "      <td>193.049</td>\n",
       "      <td>...</td>\n",
       "      <td>120.423</td>\n",
       "      <td>121.054</td>\n",
       "      <td>129.353</td>\n",
       "      <td>144.551</td>\n",
       "      <td>143.436</td>\n",
       "      <td>146.975</td>\n",
       "      <td>140.202</td>\n",
       "      <td>134.644</td>\n",
       "      <td>127.166</td>\n",
       "      <td>128.771</td>\n",
       "    </tr>\n",
       "    <tr>\n",
       "      <th>444</th>\n",
       "      <td>202501.0</td>\n",
       "      <td>2025-01</td>\n",
       "      <td>135.403</td>\n",
       "      <td>138.997</td>\n",
       "      <td>138.443</td>\n",
       "      <td>138.878</td>\n",
       "      <td>129.320</td>\n",
       "      <td>132.846</td>\n",
       "      <td>144.162</td>\n",
       "      <td>190.974</td>\n",
       "      <td>...</td>\n",
       "      <td>119.633</td>\n",
       "      <td>118.811</td>\n",
       "      <td>129.568</td>\n",
       "      <td>146.168</td>\n",
       "      <td>144.790</td>\n",
       "      <td>148.151</td>\n",
       "      <td>142.149</td>\n",
       "      <td>134.467</td>\n",
       "      <td>126.445</td>\n",
       "      <td>130.283</td>\n",
       "    </tr>\n",
       "  </tbody>\n",
       "</table>\n",
       "<p>445 rows × 176 columns</p>\n",
       "</div>"
      ],
      "text/plain": [
       "     index date    Date_CPI  CPI ALL ITEMS  FOOD AND NON-ALCOHOLIC BEVERAGES  \\\n",
       "0         198801.0  1988-01         48.395                            48.004   \n",
       "1         198802.0  1988-02         48.551                            48.275   \n",
       "2         198803.0  1988-03         48.717                            48.424   \n",
       "3         198804.0  1988-04         49.280                            48.693   \n",
       "4         198805.0  1988-05         49.529                            48.820   \n",
       "..             ...      ...            ...                               ...   \n",
       "440       202409.0  2024-09        134.215                           136.316   \n",
       "441       202410.0  2024-10        135.015                           136.512   \n",
       "442       202411.0  2024-11        135.140                           137.142   \n",
       "443       202412.0  2024-12        135.552                           137.801   \n",
       "444       202501.0  2025-01        135.403                           138.997   \n",
       "\n",
       "        FOOD  BREAD & CEREALS     MEAT     FISH  MILK, CHEESE & EGGS  \\\n",
       "0     48.226           50.053   53.741   43.321               48.488   \n",
       "1     48.481           50.353   53.386   43.670               48.523   \n",
       "2     48.622           50.311   53.721   43.130               48.551   \n",
       "3     48.874           50.548   53.736   43.151               48.861   \n",
       "4     48.954           50.970   54.186   42.799               48.770   \n",
       "..       ...              ...      ...      ...                  ...   \n",
       "440  135.870          136.038  127.820  134.181              141.606   \n",
       "441  135.998          136.106  127.829  132.271              141.526   \n",
       "442  136.733          137.349  127.089  133.411              143.485   \n",
       "443  137.451          138.316  127.241  132.359              143.690   \n",
       "444  138.443          138.878  129.320  132.846              144.162   \n",
       "\n",
       "     OILS & FATS  ...  Durables  Semi-Durables  Non-Durables  \\\n",
       "0         45.461  ...   114.318        138.376        48.751   \n",
       "1         45.921  ...   114.255        139.398        49.000   \n",
       "2         46.108  ...   115.203        140.239        49.140   \n",
       "3         46.249  ...   116.535        140.521        49.430   \n",
       "4         46.346  ...   117.061        141.845        49.698   \n",
       "..           ...  ...       ...            ...           ...   \n",
       "440      187.465  ...   119.984        119.601       128.414   \n",
       "441      187.015  ...   119.799        120.918       128.732   \n",
       "442      190.346  ...   119.652        121.445       128.667   \n",
       "443      193.049  ...   120.423        121.054       129.353   \n",
       "444      190.974  ...   119.633        118.811       129.568   \n",
       "\n",
       "     Energy, Food, Alcohol & Tobacco  Energy & Non-processed Food  \\\n",
       "0                             36.743                       37.009   \n",
       "1                             36.824                       37.043   \n",
       "2                             36.892                       37.102   \n",
       "3                             37.260                       37.490   \n",
       "4                             37.430                       37.661   \n",
       "..                               ...                          ...   \n",
       "440                          141.418                      139.258   \n",
       "441                          143.142                      142.478   \n",
       "442                          143.978                      142.712   \n",
       "443                          144.551                      143.436   \n",
       "444                          146.168                      144.790   \n",
       "\n",
       "     Energy & Seasonal Food  Education, Health & Social Protection  \\\n",
       "0                    33.856                                 22.302   \n",
       "1                    33.966                                 22.318   \n",
       "2                    33.971                                 22.432   \n",
       "3                    34.433                                 22.486   \n",
       "4                    34.550                                 22.519   \n",
       "..                      ...                                    ...   \n",
       "440                 141.645                                137.524   \n",
       "441                 145.641                                139.775   \n",
       "442                 146.113                                139.874   \n",
       "443                 146.975                                140.202   \n",
       "444                 148.151                                142.149   \n",
       "\n",
       "     CPI excluding tobacco  Industrial Goods  Miscellaneous and Other Services  \n",
       "0                   50.142            79.030                            26.499  \n",
       "1                   50.308            79.181                            26.639  \n",
       "2                   50.487            79.543                            26.692  \n",
       "3                   51.061            80.210                            26.825  \n",
       "4                   51.322            80.779                            26.943  \n",
       "..                     ...               ...                               ...  \n",
       "440                133.394           125.297                           126.755  \n",
       "441                134.204           126.592                           128.422  \n",
       "442                134.246           126.773                           128.574  \n",
       "443                134.644           127.166                           128.771  \n",
       "444                134.467           126.445                           130.283  \n",
       "\n",
       "[445 rows x 176 columns]"
      ]
     },
     "execution_count": 24,
     "metadata": {},
     "output_type": "execute_result"
    }
   ],
   "source": [
    "xls = pd.ExcelFile(\"../data/consumer-price-inflation-ONS.xlsx\", engine=\"openpyxl\")\n",
    "CPI_UK = pd.read_excel(\"../data/consumer-price-inflation-ONS.xlsx\", sheet_name=\"Table 57\", skiprows=6, engine=\"openpyxl\")\n",
    "#print(CPI_UK['name'].tail(15)) #The last 14 rows of data are not relevant to the analysis\n",
    "CPI_UK = CPI_UK.drop(CPI_UK.tail(14).index)\n",
    "CPI_UK.shape\n",
    "CPI_UK.to_csv(\"CPI_UK.csv\", index=False)\n",
    "\n",
    "#Time column manipulation:\n",
    "CPI_UK['name'] = pd.to_datetime(CPI_UK['name'])\n",
    "CPI_UK['name'] = CPI_UK['name'].dt.strftime('%Y-%m') # Removing the 00:00:00 timestamp from the date\n",
    "CPI_UK.rename(columns={\"name\": \"Date_CPI\"}, inplace=True)\n",
    "\n",
    "#Creating the final dataframe for analysis: \n",
    "CPI_UK = CPI_UK.copy()\n",
    "CPI_UK_single = CPI_UK[['Date_CPI', 'CPI ALL ITEMS']]\n",
    "\n",
    "CPI_UK"
   ]
  },
  {
   "cell_type": "markdown",
   "metadata": {},
   "source": [
    "### Data Acquisition and Preprocessing\n",
    "We first retrieve the downloaded data and select the relevant sheet name (Table 57, in this case) to extract the CPI summary of all items for the time period between 1988 and 2025."
   ]
  },
  {
   "cell_type": "code",
   "execution_count": 25,
   "metadata": {},
   "outputs": [],
   "source": [
    "# Reading the data \n",
    "xls = pd.ExcelFile(\"../data/consumer-price-inflation-ONS.xlsx\", engine=\"openpyxl\")\n",
    "CPI_UK = pd.read_excel(\"../data/consumer-price-inflation-ONS.xlsx\", sheet_name=\"Table 57\", skiprows=6, engine=\"openpyxl\")\n",
    "\n",
    "# Dropping columns \n",
    "#print(CPI_UK['name'].tail(15)) #The last 14 rows of data are not relevant to the analysis\n",
    "CPI_UK = CPI_UK.drop(CPI_UK.tail(14).index)\n",
    "\n",
    "# Converting the time column to datetime format \n",
    "CPI_UK['name'] = pd.to_datetime(CPI_UK['name'])\n",
    "CPI_UK['name'] = CPI_UK['name'].dt.strftime('%Y-%m') #Removing the 00:00:00 timestamp from the date\n",
    "CPI_UK.rename(columns={\"name\": \"Date_CPI\"}, inplace=True)\n",
    "\n",
    "# Creating the df for exploratory analysis \n",
    "CPI_UK = CPI_UK.copy()\n",
    "cpi_df = CPI_UK[['Date_CPI', 'CPI ALL ITEMS']]"
   ]
  },
  {
   "cell_type": "markdown",
   "metadata": {},
   "source": [
    "### Dependent variable manipulation \n",
    "In order to retrieve a valuable estimate of inflation, we:\n",
    "1. Compute the 12-month rolling inflation rate from the Consumer Price index, which can be expressed with the following equation: \n",
    "$$\n",
    " \\frac{CPI_t - CPI_{t-1}}{CPI_{t-1}} \\times 100 \n",
    "$$\n",
    "\n",
    "In order to avoid null values, we add a small offset to the product (epislon value). \n",
    "\n",
    "2. In order to ensure stationarity, we apply seasonal differecing to further detrend the data by removing annual seasonality. \n",
    "$$\n",
    "\\Delta_{12} \\pi_t = \\pi_t - \\pi_{t-12}\n",
    "$$\n",
    "We visualize both results and prepare the final dataframe for analysis. \n"
   ]
  },
  {
   "cell_type": "code",
   "execution_count": 26,
   "metadata": {},
   "outputs": [
    {
     "name": "stdout",
     "output_type": "stream",
     "text": [
      "  Date_CPI  CPI ALL ITEMS  CPI_Annual_Change  Delta_CPI_Annual_Change\n",
      "0  1990-01         53.637           5.657441                 0.760241\n",
      "1  1990-02         53.954           5.877274                 0.917541\n",
      "2  1990-03         54.217           5.979514                 0.968943\n",
      "3  1990-04         55.211           6.439051                 1.181340\n",
      "4  1990-05         55.735           6.837525                 1.509333\n"
     ]
    },
    {
     "name": "stderr",
     "output_type": "stream",
     "text": [
      "/tmp/ipykernel_574210/1763339918.py:5: SettingWithCopyWarning:\n",
      "\n",
      "\n",
      "A value is trying to be set on a copy of a slice from a DataFrame.\n",
      "Try using .loc[row_indexer,col_indexer] = value instead\n",
      "\n",
      "See the caveats in the documentation: https://pandas.pydata.org/pandas-docs/stable/user_guide/indexing.html#returning-a-view-versus-a-copy\n",
      "\n"
     ]
    }
   ],
   "source": [
    "\n",
    "# Small epsilon to avoid division by zero\n",
    "epsilon = 1e-10\n",
    "\n",
    "# 1. Compute 12-month rolling inflation rate\n",
    "cpi_df['CPI_Annual_Change'] = (\n",
    "    (cpi_df['CPI ALL ITEMS'] - cpi_df['CPI ALL ITEMS'].shift(12)) / \n",
    "    (cpi_df['CPI ALL ITEMS'].shift(12) + epsilon) * 100\n",
    ")\n",
    "# First shift creates NaN values for first 12 months (Jan-Dec 1988)\n",
    "# Remove initial NaN values\n",
    "cpi_df = cpi_df.dropna().reset_index(drop=True).copy()\n",
    "\n",
    "# 2. Apply seasonal differencing for stationarity\n",
    "# This creates another 12 months of NaN values (Jan-Dec 1989)\n",
    "cpi_df['Delta_CPI_Annual_Change'] = cpi_df['CPI_Annual_Change'].diff(12)\n",
    "\n",
    "# Remove additional NaN values from differencing\n",
    "cpi_df = cpi_df.dropna().reset_index(drop=True).copy()\n",
    "\n",
    "print(cpi_df.head())\n"
   ]
  },
  {
   "cell_type": "markdown",
   "metadata": {},
   "source": [
    "### Dataset Preparation"
   ]
  },
  {
   "cell_type": "code",
   "execution_count": 27,
   "metadata": {},
   "outputs": [
    {
     "name": "stdout",
     "output_type": "stream",
     "text": [
      "  Date_CPI  Delta_CPI_Annual_Change\n",
      "0  1990-01                 0.760241\n",
      "1  1990-02                 0.917541\n",
      "2  1990-03                 0.968943\n",
      "3  1990-04                 1.181340\n",
      "4  1990-05                 1.509333\n"
     ]
    }
   ],
   "source": [
    "# Create dataset for modeling\n",
    "modeling_df = cpi_df[['Date_CPI', 'Delta_CPI_Annual_Change']].copy()\n",
    "\n",
    "print(modeling_df.head())"
   ]
  },
  {
   "cell_type": "markdown",
   "metadata": {},
   "source": [
    "### Exploratory Data Analysis\n",
    "Here, we visualise the results of our target variable manipulation - we compare the Year-on-year inflation rate with its seasonally differenced counterpart."
   ]
  },
  {
   "cell_type": "code",
   "execution_count": 28,
   "metadata": {},
   "outputs": [
    {
     "data": {
      "application/vnd.plotly.v1+json": {
       "config": {
        "plotlyServerURL": "https://plot.ly"
       },
       "data": [
        {
         "line": {
          "color": "blue",
          "width": 2
         },
         "marker": {
          "size": 4
         },
         "mode": "lines+markers",
         "name": "Annual CPI Change (%)",
         "type": "scatter",
         "x": [
          "1990-01",
          "1990-02",
          "1990-03",
          "1990-04",
          "1990-05",
          "1990-06",
          "1990-07",
          "1990-08",
          "1990-09",
          "1990-10",
          "1990-11",
          "1990-12",
          "1991-01",
          "1991-02",
          "1991-03",
          "1991-04",
          "1991-05",
          "1991-06",
          "1991-07",
          "1991-08",
          "1991-09",
          "1991-10",
          "1991-11",
          "1991-12",
          "1992-01",
          "1992-02",
          "1992-03",
          "1992-04",
          "1992-05",
          "1992-06",
          "1992-07",
          "1992-08",
          "1992-09",
          "1992-10",
          "1992-11",
          "1992-12",
          "1993-01",
          "1993-02",
          "1993-03",
          "1993-04",
          "1993-05",
          "1993-06",
          "1993-07",
          "1993-08",
          "1993-09",
          "1993-10",
          "1993-11",
          "1993-12",
          "1994-01",
          "1994-02",
          "1994-03",
          "1994-04",
          "1994-05",
          "1994-06",
          "1994-07",
          "1994-08",
          "1994-09",
          "1994-10",
          "1994-11",
          "1994-12",
          "1995-01",
          "1995-02",
          "1995-03",
          "1995-04",
          "1995-05",
          "1995-06",
          "1995-07",
          "1995-08",
          "1995-09",
          "1995-10",
          "1995-11",
          "1995-12",
          "1996-01",
          "1996-02",
          "1996-03",
          "1996-04",
          "1996-05",
          "1996-06",
          "1996-07",
          "1996-08",
          "1996-09",
          "1996-10",
          "1996-11",
          "1996-12",
          "1997-01",
          "1997-02",
          "1997-03",
          "1997-04",
          "1997-05",
          "1997-06",
          "1997-07",
          "1997-08",
          "1997-09",
          "1997-10",
          "1997-11",
          "1997-12",
          "1998-01",
          "1998-02",
          "1998-03",
          "1998-04",
          "1998-05",
          "1998-06",
          "1998-07",
          "1998-08",
          "1998-09",
          "1998-10",
          "1998-11",
          "1998-12",
          "1999-01",
          "1999-02",
          "1999-03",
          "1999-04",
          "1999-05",
          "1999-06",
          "1999-07",
          "1999-08",
          "1999-09",
          "1999-10",
          "1999-11",
          "1999-12",
          "2000-01",
          "2000-02",
          "2000-03",
          "2000-04",
          "2000-05",
          "2000-06",
          "2000-07",
          "2000-08",
          "2000-09",
          "2000-10",
          "2000-11",
          "2000-12",
          "2001-01",
          "2001-02",
          "2001-03",
          "2001-04",
          "2001-05",
          "2001-06",
          "2001-07",
          "2001-08",
          "2001-09",
          "2001-10",
          "2001-11",
          "2001-12",
          "2002-01",
          "2002-02",
          "2002-03",
          "2002-04",
          "2002-05",
          "2002-06",
          "2002-07",
          "2002-08",
          "2002-09",
          "2002-10",
          "2002-11",
          "2002-12",
          "2003-01",
          "2003-02",
          "2003-03",
          "2003-04",
          "2003-05",
          "2003-06",
          "2003-07",
          "2003-08",
          "2003-09",
          "2003-10",
          "2003-11",
          "2003-12",
          "2004-01",
          "2004-02",
          "2004-03",
          "2004-04",
          "2004-05",
          "2004-06",
          "2004-07",
          "2004-08",
          "2004-09",
          "2004-10",
          "2004-11",
          "2004-12",
          "2005-01",
          "2005-02",
          "2005-03",
          "2005-04",
          "2005-05",
          "2005-06",
          "2005-07",
          "2005-08",
          "2005-09",
          "2005-10",
          "2005-11",
          "2005-12",
          "2006-01",
          "2006-02",
          "2006-03",
          "2006-04",
          "2006-05",
          "2006-06",
          "2006-07",
          "2006-08",
          "2006-09",
          "2006-10",
          "2006-11",
          "2006-12",
          "2007-01",
          "2007-02",
          "2007-03",
          "2007-04",
          "2007-05",
          "2007-06",
          "2007-07",
          "2007-08",
          "2007-09",
          "2007-10",
          "2007-11",
          "2007-12",
          "2008-01",
          "2008-02",
          "2008-03",
          "2008-04",
          "2008-05",
          "2008-06",
          "2008-07",
          "2008-08",
          "2008-09",
          "2008-10",
          "2008-11",
          "2008-12",
          "2009-01",
          "2009-02",
          "2009-03",
          "2009-04",
          "2009-05",
          "2009-06",
          "2009-07",
          "2009-08",
          "2009-09",
          "2009-10",
          "2009-11",
          "2009-12",
          "2010-01",
          "2010-02",
          "2010-03",
          "2010-04",
          "2010-05",
          "2010-06",
          "2010-07",
          "2010-08",
          "2010-09",
          "2010-10",
          "2010-11",
          "2010-12",
          "2011-01",
          "2011-02",
          "2011-03",
          "2011-04",
          "2011-05",
          "2011-06",
          "2011-07",
          "2011-08",
          "2011-09",
          "2011-10",
          "2011-11",
          "2011-12",
          "2012-01",
          "2012-02",
          "2012-03",
          "2012-04",
          "2012-05",
          "2012-06",
          "2012-07",
          "2012-08",
          "2012-09",
          "2012-10",
          "2012-11",
          "2012-12",
          "2013-01",
          "2013-02",
          "2013-03",
          "2013-04",
          "2013-05",
          "2013-06",
          "2013-07",
          "2013-08",
          "2013-09",
          "2013-10",
          "2013-11",
          "2013-12",
          "2014-01",
          "2014-02",
          "2014-03",
          "2014-04",
          "2014-05",
          "2014-06",
          "2014-07",
          "2014-08",
          "2014-09",
          "2014-10",
          "2014-11",
          "2014-12",
          "2015-01",
          "2015-02",
          "2015-03",
          "2015-04",
          "2015-05",
          "2015-06",
          "2015-07",
          "2015-08",
          "2015-09",
          "2015-10",
          "2015-11",
          "2015-12",
          "2016-01",
          "2016-02",
          "2016-03",
          "2016-04",
          "2016-05",
          "2016-06",
          "2016-07",
          "2016-08",
          "2016-09",
          "2016-10",
          "2016-11",
          "2016-12",
          "2017-01",
          "2017-02",
          "2017-03",
          "2017-04",
          "2017-05",
          "2017-06",
          "2017-07",
          "2017-08",
          "2017-09",
          "2017-10",
          "2017-11",
          "2017-12",
          "2018-01",
          "2018-02",
          "2018-03",
          "2018-04",
          "2018-05",
          "2018-06",
          "2018-07",
          "2018-08",
          "2018-09",
          "2018-10",
          "2018-11",
          "2018-12",
          "2019-01",
          "2019-02",
          "2019-03",
          "2019-04",
          "2019-05",
          "2019-06",
          "2019-07",
          "2019-08",
          "2019-09",
          "2019-10",
          "2019-11",
          "2019-12",
          "2020-01",
          "2020-02",
          "2020-03",
          "2020-04",
          "2020-05",
          "2020-06",
          "2020-07",
          "2020-08",
          "2020-09",
          "2020-10",
          "2020-11",
          "2020-12",
          "2021-01",
          "2021-02",
          "2021-03",
          "2021-04",
          "2021-05",
          "2021-06",
          "2021-07",
          "2021-08",
          "2021-09",
          "2021-10",
          "2021-11",
          "2021-12",
          "2022-01",
          "2022-02",
          "2022-03",
          "2022-04",
          "2022-05",
          "2022-06",
          "2022-07",
          "2022-08",
          "2022-09",
          "2022-10",
          "2022-11",
          "2022-12",
          "2023-01",
          "2023-02",
          "2023-03",
          "2023-04",
          "2023-05",
          "2023-06",
          "2023-07",
          "2023-08",
          "2023-09",
          "2023-10",
          "2023-11",
          "2023-12",
          "2024-01",
          "2024-02",
          "2024-03",
          "2024-04",
          "2024-05",
          "2024-06",
          "2024-07",
          "2024-08",
          "2024-09",
          "2024-10",
          "2024-11",
          "2024-12",
          "2025-01"
         ],
         "y": {
          "bdata": "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",
          "dtype": "f8"
         }
        },
        {
         "line": {
          "color": "red",
          "width": 2
         },
         "marker": {
          "size": 4
         },
         "mode": "lines+markers",
         "name": "Seasonally Differenced CPI Change",
         "type": "scatter",
         "x": [
          "1990-01",
          "1990-02",
          "1990-03",
          "1990-04",
          "1990-05",
          "1990-06",
          "1990-07",
          "1990-08",
          "1990-09",
          "1990-10",
          "1990-11",
          "1990-12",
          "1991-01",
          "1991-02",
          "1991-03",
          "1991-04",
          "1991-05",
          "1991-06",
          "1991-07",
          "1991-08",
          "1991-09",
          "1991-10",
          "1991-11",
          "1991-12",
          "1992-01",
          "1992-02",
          "1992-03",
          "1992-04",
          "1992-05",
          "1992-06",
          "1992-07",
          "1992-08",
          "1992-09",
          "1992-10",
          "1992-11",
          "1992-12",
          "1993-01",
          "1993-02",
          "1993-03",
          "1993-04",
          "1993-05",
          "1993-06",
          "1993-07",
          "1993-08",
          "1993-09",
          "1993-10",
          "1993-11",
          "1993-12",
          "1994-01",
          "1994-02",
          "1994-03",
          "1994-04",
          "1994-05",
          "1994-06",
          "1994-07",
          "1994-08",
          "1994-09",
          "1994-10",
          "1994-11",
          "1994-12",
          "1995-01",
          "1995-02",
          "1995-03",
          "1995-04",
          "1995-05",
          "1995-06",
          "1995-07",
          "1995-08",
          "1995-09",
          "1995-10",
          "1995-11",
          "1995-12",
          "1996-01",
          "1996-02",
          "1996-03",
          "1996-04",
          "1996-05",
          "1996-06",
          "1996-07",
          "1996-08",
          "1996-09",
          "1996-10",
          "1996-11",
          "1996-12",
          "1997-01",
          "1997-02",
          "1997-03",
          "1997-04",
          "1997-05",
          "1997-06",
          "1997-07",
          "1997-08",
          "1997-09",
          "1997-10",
          "1997-11",
          "1997-12",
          "1998-01",
          "1998-02",
          "1998-03",
          "1998-04",
          "1998-05",
          "1998-06",
          "1998-07",
          "1998-08",
          "1998-09",
          "1998-10",
          "1998-11",
          "1998-12",
          "1999-01",
          "1999-02",
          "1999-03",
          "1999-04",
          "1999-05",
          "1999-06",
          "1999-07",
          "1999-08",
          "1999-09",
          "1999-10",
          "1999-11",
          "1999-12",
          "2000-01",
          "2000-02",
          "2000-03",
          "2000-04",
          "2000-05",
          "2000-06",
          "2000-07",
          "2000-08",
          "2000-09",
          "2000-10",
          "2000-11",
          "2000-12",
          "2001-01",
          "2001-02",
          "2001-03",
          "2001-04",
          "2001-05",
          "2001-06",
          "2001-07",
          "2001-08",
          "2001-09",
          "2001-10",
          "2001-11",
          "2001-12",
          "2002-01",
          "2002-02",
          "2002-03",
          "2002-04",
          "2002-05",
          "2002-06",
          "2002-07",
          "2002-08",
          "2002-09",
          "2002-10",
          "2002-11",
          "2002-12",
          "2003-01",
          "2003-02",
          "2003-03",
          "2003-04",
          "2003-05",
          "2003-06",
          "2003-07",
          "2003-08",
          "2003-09",
          "2003-10",
          "2003-11",
          "2003-12",
          "2004-01",
          "2004-02",
          "2004-03",
          "2004-04",
          "2004-05",
          "2004-06",
          "2004-07",
          "2004-08",
          "2004-09",
          "2004-10",
          "2004-11",
          "2004-12",
          "2005-01",
          "2005-02",
          "2005-03",
          "2005-04",
          "2005-05",
          "2005-06",
          "2005-07",
          "2005-08",
          "2005-09",
          "2005-10",
          "2005-11",
          "2005-12",
          "2006-01",
          "2006-02",
          "2006-03",
          "2006-04",
          "2006-05",
          "2006-06",
          "2006-07",
          "2006-08",
          "2006-09",
          "2006-10",
          "2006-11",
          "2006-12",
          "2007-01",
          "2007-02",
          "2007-03",
          "2007-04",
          "2007-05",
          "2007-06",
          "2007-07",
          "2007-08",
          "2007-09",
          "2007-10",
          "2007-11",
          "2007-12",
          "2008-01",
          "2008-02",
          "2008-03",
          "2008-04",
          "2008-05",
          "2008-06",
          "2008-07",
          "2008-08",
          "2008-09",
          "2008-10",
          "2008-11",
          "2008-12",
          "2009-01",
          "2009-02",
          "2009-03",
          "2009-04",
          "2009-05",
          "2009-06",
          "2009-07",
          "2009-08",
          "2009-09",
          "2009-10",
          "2009-11",
          "2009-12",
          "2010-01",
          "2010-02",
          "2010-03",
          "2010-04",
          "2010-05",
          "2010-06",
          "2010-07",
          "2010-08",
          "2010-09",
          "2010-10",
          "2010-11",
          "2010-12",
          "2011-01",
          "2011-02",
          "2011-03",
          "2011-04",
          "2011-05",
          "2011-06",
          "2011-07",
          "2011-08",
          "2011-09",
          "2011-10",
          "2011-11",
          "2011-12",
          "2012-01",
          "2012-02",
          "2012-03",
          "2012-04",
          "2012-05",
          "2012-06",
          "2012-07",
          "2012-08",
          "2012-09",
          "2012-10",
          "2012-11",
          "2012-12",
          "2013-01",
          "2013-02",
          "2013-03",
          "2013-04",
          "2013-05",
          "2013-06",
          "2013-07",
          "2013-08",
          "2013-09",
          "2013-10",
          "2013-11",
          "2013-12",
          "2014-01",
          "2014-02",
          "2014-03",
          "2014-04",
          "2014-05",
          "2014-06",
          "2014-07",
          "2014-08",
          "2014-09",
          "2014-10",
          "2014-11",
          "2014-12",
          "2015-01",
          "2015-02",
          "2015-03",
          "2015-04",
          "2015-05",
          "2015-06",
          "2015-07",
          "2015-08",
          "2015-09",
          "2015-10",
          "2015-11",
          "2015-12",
          "2016-01",
          "2016-02",
          "2016-03",
          "2016-04",
          "2016-05",
          "2016-06",
          "2016-07",
          "2016-08",
          "2016-09",
          "2016-10",
          "2016-11",
          "2016-12",
          "2017-01",
          "2017-02",
          "2017-03",
          "2017-04",
          "2017-05",
          "2017-06",
          "2017-07",
          "2017-08",
          "2017-09",
          "2017-10",
          "2017-11",
          "2017-12",
          "2018-01",
          "2018-02",
          "2018-03",
          "2018-04",
          "2018-05",
          "2018-06",
          "2018-07",
          "2018-08",
          "2018-09",
          "2018-10",
          "2018-11",
          "2018-12",
          "2019-01",
          "2019-02",
          "2019-03",
          "2019-04",
          "2019-05",
          "2019-06",
          "2019-07",
          "2019-08",
          "2019-09",
          "2019-10",
          "2019-11",
          "2019-12",
          "2020-01",
          "2020-02",
          "2020-03",
          "2020-04",
          "2020-05",
          "2020-06",
          "2020-07",
          "2020-08",
          "2020-09",
          "2020-10",
          "2020-11",
          "2020-12",
          "2021-01",
          "2021-02",
          "2021-03",
          "2021-04",
          "2021-05",
          "2021-06",
          "2021-07",
          "2021-08",
          "2021-09",
          "2021-10",
          "2021-11",
          "2021-12",
          "2022-01",
          "2022-02",
          "2022-03",
          "2022-04",
          "2022-05",
          "2022-06",
          "2022-07",
          "2022-08",
          "2022-09",
          "2022-10",
          "2022-11",
          "2022-12",
          "2023-01",
          "2023-02",
          "2023-03",
          "2023-04",
          "2023-05",
          "2023-06",
          "2023-07",
          "2023-08",
          "2023-09",
          "2023-10",
          "2023-11",
          "2023-12",
          "2024-01",
          "2024-02",
          "2024-03",
          "2024-04",
          "2024-05",
          "2024-06",
          "2024-07",
          "2024-08",
          "2024-09",
          "2024-10",
          "2024-11",
          "2024-12",
          "2025-01"
         ],
         "y": {
          "bdata": "8GIx/eRT6D/IoECSflztP+AedCSVAe8/pKWAcMTm8j9UZWS7Oib4P1gLUBQHzvk/CJN2Dt3t+T+k0XWm5sUFQEKmqm+EhQdAJGl4rhI0BUAitUEIkjECQORqTMOD6QBAIO/jCbZb9j9ctJ1irjzyP1BagMlI++s/fIAN2xIKAEDUCSS+33n1P+wmV+cye/g/3AP814bK9z8ACyX8IHDGP+gQ7CufV/C/zFwoDuMa9r946BpwyXTnv0B7wjc3fNq/gMa4sFXTtb8AK6B37sTCv4BftWSUssk/hGErws/bDcCkpAktDbcOwIDfZWcFQxLAEJ8GyWK7EsDc3Rq8CccTwOJHwPwWhxDAWD0nRjX6DsACbO+FqQ8SwORMHVSTnBLAKWLx0DXpEsBe4zPbWeMRwMF1bP+yRxLA7GnaI+rCAcCE52KHMCn9v0KFQMaoqva/QNtTSSTh778A/eb3flWgvwD5D6sok7U/MLY9NVXc0r/4BeU9U9bQv8BepO0bDMK/sBn84GBt2z9AXz5GSi++P5AKSSr2CdC/kFy5vsOR3r8Y5UeIJNvhv5iuPoL2q9i/8E6322vy678bRNt00JTwv0FsjYdKUfi/YCTke8wd8b+gnaEqpo3cvxjFzeWhUNe/UHR0l9zA0L9QwQJRtZnAvyhut1eRXtc/uMl+6ZJ40T+Adu30gXXgP2DcdHF0suE/eK/zbIZb7j8WhAR7yQrnP91HYRCF7PY/9D87+laJ9T/oSw59n3/tP5RA9Nh4CO0/gG78XeL3zT/Aqng/dj/SP0BTMA12H6O/wNvTYtv2zD8wcNfJhV/Ev1DFl/qQeNC/wCjDigLo3b9QS4Xg3/nVv+heMg4crea/mKBIjIbP1r9QLa248EnIv5y8mtGgQuW/MEzxzR+l378otStGtzfov/LsNvO7Leu/ij6aWZiO7r8MReq1wS/ov6jPHOb6mOS/eOd77g9qyr8EAeIrAgzSv3SXBBYqaNu/kC/ndcJ447+IQt+4nOfkv0gRjnIgfOK/CNHYar515b8EvIhFQTXVv6AnHvOKfK2/1AC5lKVw0D+4mBjqi7vePwBY29c6SU8/Hi7TBmKs4b/GTjttYszkv5gJ13LQJtu/Tmo0ldwL4b+Uf55TO0jivyjE+RfqysO/kMgLPnZJuz/QfiD528TGvwBz8zq904w/EDxWJCV40b/g6AFIVnnnv2j/AxR3yNS/aKXafaPHwb/g2JDDvwq/v3DcxIg/a86/BKElMOkd0L9o7Dcf25vFv/DkA1Wno9u/CfkRe88u6b9yDG2/Avzdv7gRFSx2gvC/ngkOVZhj7798C1fPu5bov5rtVnDQ9+G/yNGXKHdA2799bwzhjYvjv5AFqdyoBsu/QJAO2a4Ivr/wU7VnDgi+vwhkde+TXdS/UDfZ/FDvrj/IH/smB5y+v8B3nsAZWdE/ciKWsp1j4z8d9wOlsvvxPxwLz7pgqe0/uDiK85lK4j8w4qrfgbvzP2yQPV4Ff9c/OIIVmC9Oyz9IXjpGcBDRv7DDkhUxM9A/0PEnJvy66D9ivP8YFh/lP18eywdcFOQ/MB4hth7/yT+mQjDwJ7Hqv9okcCZglPG/iKA//VoI1r8m8X30prPqv/DSOYvIgtW/ON2m/w5QxD8Q1VROT/TnP2SZmm+8SOM/VFes+R/c0r+wdHOgbLO5PwDgpp7pV1E/sO77oxhWsz+AxaA+Zl3bP5YvbgYjVt8/2CkJs7Epyj+g9pzkoF/ZP9TzX1od9ds/ABj7cUfZir/wOohoSETLv4jRTeo3Dtm/YNzqNYvmtj8oRVSZO7nSv0gutMMag9u/sH6yWJb3079AsJkWFFTLP/iO73tPdd4/gE3lpc2LuD9AOAUM1oO4vyCk7iT7S9a/ACp7gV1+wr9AVH/kZJi/P8TGfoS3ydk/CCoDIaIiyT9ITQfI6HnXP7oSh1e2uuk/Kvsogw306T84dZOAc4ncP5DPmAf8lNs/aKXm1Zzo7T8ofZG3h93xP+HuIRRfFPY/4AnWvUw18j9sCStAm+PlP6jH8uo0W88/3JlCI+3H1D+43u5AqXnYP4AULlMmrrm/AEEWZ6K+tT84iePAduPUPzDBsKOmtd4/gD+RvH8EnT+ABkY7g3KxP4ByCIezDKm/4Ne8RgRssj+8hc4e++zhP324E4DZFPE/hOI0kr+R6D+MszMj+mnoP0N8U8d5E/Q/NCakadSl5z8g92gXRn7QPwCJp/WxCbO/PhxGVh934L8iOsk/Rqjmv7gLk1d46OS/SIqhJYHk1L+Q0VVeLGvjv6RPabqk3+y/sBkDP9/v4L/QQ6RSduPTv2QwzVBEUeO/kN9iDJq8yT+8H6b1kvvqPxbqFWAyb/Y/CPfjPHOmBECOVNPJ8IUHQOQ/0jqsnwtAjlIou1jcAkB6OxRXpHP/P4CIbMgI9u4/SOx8FGYJ6j+oGcP7gkflP3BITnZz7Nk/8BnA7WoL5r9K7WDiS1byv/xyQ9+COADAoPqMWx9EBcCpbGgd/dwIwGB4R/4UehDAyJNdWd+DB8COQ9YK2zMBwABkt0/GF8S/oBzB4ueH3j9QhQWuCtfHv3CUW89QjOA/yt+bl00y9z/Kmn5psSTzP7xq/6TMTfc/rzJypOpw9D/0bS9UzUf4P2ppx9iLzP8/RNoAvLpv+j97PZ/VLZ31PxCb95MD6uk/cEGej+1w3z8gGbeWAyj2P/joOOcp7eQ/yIF60Mnp5z+YIK0bPfvwP1R4X4L0cO4/emDBH4QF9j+e2OV4Wi32P8g13N7/yABAkOwWJh0Z/T9KLOeZrhL4Pyirgq6vl98/uP3zZ0gJ2b9Q5q4LF0ntv7znd4yqeeK/7i5uhf7w9r8uPsZA4eD6v2DR9rDjB/y/Dprq3fjs/b9a2zvUfj0AwBgqgEe4zgfAOmr/gUaBAsAqWY1OPM4AwDzfaHIZUfi/kOr8ExmR678oGSwt397kv0D4inVcIuS/dEeEl9Dx478gQpCSVOSyvwBRgnMrFN4/4KyoxaE1yj9Azo2MBzjLPziCnD2DD94/aCRHsKWi3r/cy4xHp4Piv7DmS9EDmOS/8J9QTmJo6r9iGdrE2/Hwvx77QJQNm/O/wjer5Xq95L9O6bzGNErzv/7cL6XfX/C/RW8kJd288r/Pseq9O0Lyv4XBAk0GIPe/zAlfiIXY7L9Ow8sORtDxv0z73SGeyPe/0edIcY+2+b8xV9bO7BX7vyAVCtAN2/m/lUkrvWJM/r9QnxfQgCD2v+zWYRZp9/6/FNqPDewq978CH5HoTKf4v184jfTmnfW/NMoPTatl9r+UBWFoLYbrv9xpAN/9HNa/IO3EnxUjhz9WvGcs2zTQP606wHn9O94/ZPMku/Md2j+5oD43HgvJP5MY6OhhAeA/L/KuohWs2j/5BlD1PDTkPz0lz6QInvE/FiG6I3dR8D8gyRscC97wP8dPwxpotvU/saGwVyha+D8ChdLSSBsAQLGQP4Juqf0/Mq343W9jA0B4dYZLt4sEQHuwskJOdwFAg6b6kzyHAEDsTAkAjcYBQBMnYNbluf8/2tU9kma7AEAPDtLKB9X+PyMAJE7CnvY/QD/RCtbJ8j+YJPMhhUnaP/ADJcayJMI/EDPIZIEN1b9wBKjQ7g3dv+CmZCR3Msm/IKtJsAfIw79QwKfJ47bKv/QtmAzESeG/0BQClkx/47/oQMBnvQjpv9QIuomjyOu/J1bjGqRD8r++Eitbbtrqv2qmEyXPnOG/WNRG95Xn0L9o/mqqWJ7Zv0gxg2FyPNy/GD5vVFh02r9Ojy685LTtv2ZHr58XiOa/fi4rGW2r7b969fjlo7zqv2TKt+ixq+m/UMR9bEQktL+YsXAN0XLEv3Ro7xdDmNi/RP/c3G+a9b+Ofz9k4ab4v2usTUHdb/a/bsvFMidV8L822pzlFRP4v3CSHV/L7fK/U7j4MhmN6L8BIOd044vyv+LEm3Jk0+a/qovr01oZ8b9kHt8Dm7n0v/oDSAEv4+m/BdXq96BF6D8UrlzQUSn6P0+WBNaUk/4/8Owk1/n87z8yFkNbBtEHQFa/IU+mYgRA/3cfro4SDEDketw5ZEITQABz+vtpMBNA5HnWIQ0FE0BnfY2KsAwXQK2M8cQ1PBlAim0niV/wHUD0WvKb+t4bQMENfDN7lxtA4d9ytTYfIECw7Hl0rrEaQDqu5qjuDxxAffMCqaRhG0B6GEp0HysWQJA0kJi+kRRAd8Lwm1BiEkCEU24wi/UQQIbTLHogRQhAoLjEASWO1r+AfJpIr7rZv8jMSiUcZve/MJ45z4IwCsAk41TIi7QJwLY2ARUwjAvATWcFZofOGcDv9WrHkOwawPMO6MjyIxrAHEEJYxlIGMBREDn6CgUcwBjH4rC1UBvA0qf5QPhMGcBxEi75R8MawIYbKj3C5RfAZPLO7v5eEsBmNtQkU8MRwOaLo9go4xPA42GPWxSNAsAs/PEnEhr1vyRcXIEx2Pe//JUk2Arx778=",
          "dtype": "f8"
         }
        }
       ],
       "layout": {
        "height": 400,
        "hovermode": "x unified",
        "showlegend": true,
        "template": {
         "data": {
          "bar": [
           {
            "error_x": {
             "color": "#2a3f5f"
            },
            "error_y": {
             "color": "#2a3f5f"
            },
            "marker": {
             "line": {
              "color": "#E5ECF6",
              "width": 0.5
             },
             "pattern": {
              "fillmode": "overlay",
              "size": 10,
              "solidity": 0.2
             }
            },
            "type": "bar"
           }
          ],
          "barpolar": [
           {
            "marker": {
             "line": {
              "color": "#E5ECF6",
              "width": 0.5
             },
             "pattern": {
              "fillmode": "overlay",
              "size": 10,
              "solidity": 0.2
             }
            },
            "type": "barpolar"
           }
          ],
          "carpet": [
           {
            "aaxis": {
             "endlinecolor": "#2a3f5f",
             "gridcolor": "white",
             "linecolor": "white",
             "minorgridcolor": "white",
             "startlinecolor": "#2a3f5f"
            },
            "baxis": {
             "endlinecolor": "#2a3f5f",
             "gridcolor": "white",
             "linecolor": "white",
             "minorgridcolor": "white",
             "startlinecolor": "#2a3f5f"
            },
            "type": "carpet"
           }
          ],
          "choropleth": [
           {
            "colorbar": {
             "outlinewidth": 0,
             "ticks": ""
            },
            "type": "choropleth"
           }
          ],
          "contour": [
           {
            "colorbar": {
             "outlinewidth": 0,
             "ticks": ""
            },
            "colorscale": [
             [
              0,
              "#0d0887"
             ],
             [
              0.1111111111111111,
              "#46039f"
             ],
             [
              0.2222222222222222,
              "#7201a8"
             ],
             [
              0.3333333333333333,
              "#9c179e"
             ],
             [
              0.4444444444444444,
              "#bd3786"
             ],
             [
              0.5555555555555556,
              "#d8576b"
             ],
             [
              0.6666666666666666,
              "#ed7953"
             ],
             [
              0.7777777777777778,
              "#fb9f3a"
             ],
             [
              0.8888888888888888,
              "#fdca26"
             ],
             [
              1,
              "#f0f921"
             ]
            ],
            "type": "contour"
           }
          ],
          "contourcarpet": [
           {
            "colorbar": {
             "outlinewidth": 0,
             "ticks": ""
            },
            "type": "contourcarpet"
           }
          ],
          "heatmap": [
           {
            "colorbar": {
             "outlinewidth": 0,
             "ticks": ""
            },
            "colorscale": [
             [
              0,
              "#0d0887"
             ],
             [
              0.1111111111111111,
              "#46039f"
             ],
             [
              0.2222222222222222,
              "#7201a8"
             ],
             [
              0.3333333333333333,
              "#9c179e"
             ],
             [
              0.4444444444444444,
              "#bd3786"
             ],
             [
              0.5555555555555556,
              "#d8576b"
             ],
             [
              0.6666666666666666,
              "#ed7953"
             ],
             [
              0.7777777777777778,
              "#fb9f3a"
             ],
             [
              0.8888888888888888,
              "#fdca26"
             ],
             [
              1,
              "#f0f921"
             ]
            ],
            "type": "heatmap"
           }
          ],
          "histogram": [
           {
            "marker": {
             "pattern": {
              "fillmode": "overlay",
              "size": 10,
              "solidity": 0.2
             }
            },
            "type": "histogram"
           }
          ],
          "histogram2d": [
           {
            "colorbar": {
             "outlinewidth": 0,
             "ticks": ""
            },
            "colorscale": [
             [
              0,
              "#0d0887"
             ],
             [
              0.1111111111111111,
              "#46039f"
             ],
             [
              0.2222222222222222,
              "#7201a8"
             ],
             [
              0.3333333333333333,
              "#9c179e"
             ],
             [
              0.4444444444444444,
              "#bd3786"
             ],
             [
              0.5555555555555556,
              "#d8576b"
             ],
             [
              0.6666666666666666,
              "#ed7953"
             ],
             [
              0.7777777777777778,
              "#fb9f3a"
             ],
             [
              0.8888888888888888,
              "#fdca26"
             ],
             [
              1,
              "#f0f921"
             ]
            ],
            "type": "histogram2d"
           }
          ],
          "histogram2dcontour": [
           {
            "colorbar": {
             "outlinewidth": 0,
             "ticks": ""
            },
            "colorscale": [
             [
              0,
              "#0d0887"
             ],
             [
              0.1111111111111111,
              "#46039f"
             ],
             [
              0.2222222222222222,
              "#7201a8"
             ],
             [
              0.3333333333333333,
              "#9c179e"
             ],
             [
              0.4444444444444444,
              "#bd3786"
             ],
             [
              0.5555555555555556,
              "#d8576b"
             ],
             [
              0.6666666666666666,
              "#ed7953"
             ],
             [
              0.7777777777777778,
              "#fb9f3a"
             ],
             [
              0.8888888888888888,
              "#fdca26"
             ],
             [
              1,
              "#f0f921"
             ]
            ],
            "type": "histogram2dcontour"
           }
          ],
          "mesh3d": [
           {
            "colorbar": {
             "outlinewidth": 0,
             "ticks": ""
            },
            "type": "mesh3d"
           }
          ],
          "parcoords": [
           {
            "line": {
             "colorbar": {
              "outlinewidth": 0,
              "ticks": ""
             }
            },
            "type": "parcoords"
           }
          ],
          "pie": [
           {
            "automargin": true,
            "type": "pie"
           }
          ],
          "scatter": [
           {
            "fillpattern": {
             "fillmode": "overlay",
             "size": 10,
             "solidity": 0.2
            },
            "type": "scatter"
           }
          ],
          "scatter3d": [
           {
            "line": {
             "colorbar": {
              "outlinewidth": 0,
              "ticks": ""
             }
            },
            "marker": {
             "colorbar": {
              "outlinewidth": 0,
              "ticks": ""
             }
            },
            "type": "scatter3d"
           }
          ],
          "scattercarpet": [
           {
            "marker": {
             "colorbar": {
              "outlinewidth": 0,
              "ticks": ""
             }
            },
            "type": "scattercarpet"
           }
          ],
          "scattergeo": [
           {
            "marker": {
             "colorbar": {
              "outlinewidth": 0,
              "ticks": ""
             }
            },
            "type": "scattergeo"
           }
          ],
          "scattergl": [
           {
            "marker": {
             "colorbar": {
              "outlinewidth": 0,
              "ticks": ""
             }
            },
            "type": "scattergl"
           }
          ],
          "scattermap": [
           {
            "marker": {
             "colorbar": {
              "outlinewidth": 0,
              "ticks": ""
             }
            },
            "type": "scattermap"
           }
          ],
          "scattermapbox": [
           {
            "marker": {
             "colorbar": {
              "outlinewidth": 0,
              "ticks": ""
             }
            },
            "type": "scattermapbox"
           }
          ],
          "scatterpolar": [
           {
            "marker": {
             "colorbar": {
              "outlinewidth": 0,
              "ticks": ""
             }
            },
            "type": "scatterpolar"
           }
          ],
          "scatterpolargl": [
           {
            "marker": {
             "colorbar": {
              "outlinewidth": 0,
              "ticks": ""
             }
            },
            "type": "scatterpolargl"
           }
          ],
          "scatterternary": [
           {
            "marker": {
             "colorbar": {
              "outlinewidth": 0,
              "ticks": ""
             }
            },
            "type": "scatterternary"
           }
          ],
          "surface": [
           {
            "colorbar": {
             "outlinewidth": 0,
             "ticks": ""
            },
            "colorscale": [
             [
              0,
              "#0d0887"
             ],
             [
              0.1111111111111111,
              "#46039f"
             ],
             [
              0.2222222222222222,
              "#7201a8"
             ],
             [
              0.3333333333333333,
              "#9c179e"
             ],
             [
              0.4444444444444444,
              "#bd3786"
             ],
             [
              0.5555555555555556,
              "#d8576b"
             ],
             [
              0.6666666666666666,
              "#ed7953"
             ],
             [
              0.7777777777777778,
              "#fb9f3a"
             ],
             [
              0.8888888888888888,
              "#fdca26"
             ],
             [
              1,
              "#f0f921"
             ]
            ],
            "type": "surface"
           }
          ],
          "table": [
           {
            "cells": {
             "fill": {
              "color": "#EBF0F8"
             },
             "line": {
              "color": "white"
             }
            },
            "header": {
             "fill": {
              "color": "#C8D4E3"
             },
             "line": {
              "color": "white"
             }
            },
            "type": "table"
           }
          ]
         },
         "layout": {
          "annotationdefaults": {
           "arrowcolor": "#2a3f5f",
           "arrowhead": 0,
           "arrowwidth": 1
          },
          "autotypenumbers": "strict",
          "coloraxis": {
           "colorbar": {
            "outlinewidth": 0,
            "ticks": ""
           }
          },
          "colorscale": {
           "diverging": [
            [
             0,
             "#8e0152"
            ],
            [
             0.1,
             "#c51b7d"
            ],
            [
             0.2,
             "#de77ae"
            ],
            [
             0.3,
             "#f1b6da"
            ],
            [
             0.4,
             "#fde0ef"
            ],
            [
             0.5,
             "#f7f7f7"
            ],
            [
             0.6,
             "#e6f5d0"
            ],
            [
             0.7,
             "#b8e186"
            ],
            [
             0.8,
             "#7fbc41"
            ],
            [
             0.9,
             "#4d9221"
            ],
            [
             1,
             "#276419"
            ]
           ],
           "sequential": [
            [
             0,
             "#0d0887"
            ],
            [
             0.1111111111111111,
             "#46039f"
            ],
            [
             0.2222222222222222,
             "#7201a8"
            ],
            [
             0.3333333333333333,
             "#9c179e"
            ],
            [
             0.4444444444444444,
             "#bd3786"
            ],
            [
             0.5555555555555556,
             "#d8576b"
            ],
            [
             0.6666666666666666,
             "#ed7953"
            ],
            [
             0.7777777777777778,
             "#fb9f3a"
            ],
            [
             0.8888888888888888,
             "#fdca26"
            ],
            [
             1,
             "#f0f921"
            ]
           ],
           "sequentialminus": [
            [
             0,
             "#0d0887"
            ],
            [
             0.1111111111111111,
             "#46039f"
            ],
            [
             0.2222222222222222,
             "#7201a8"
            ],
            [
             0.3333333333333333,
             "#9c179e"
            ],
            [
             0.4444444444444444,
             "#bd3786"
            ],
            [
             0.5555555555555556,
             "#d8576b"
            ],
            [
             0.6666666666666666,
             "#ed7953"
            ],
            [
             0.7777777777777778,
             "#fb9f3a"
            ],
            [
             0.8888888888888888,
             "#fdca26"
            ],
            [
             1,
             "#f0f921"
            ]
           ]
          },
          "colorway": [
           "#636efa",
           "#EF553B",
           "#00cc96",
           "#ab63fa",
           "#FFA15A",
           "#19d3f3",
           "#FF6692",
           "#B6E880",
           "#FF97FF",
           "#FECB52"
          ],
          "font": {
           "color": "#2a3f5f"
          },
          "geo": {
           "bgcolor": "white",
           "lakecolor": "white",
           "landcolor": "#E5ECF6",
           "showlakes": true,
           "showland": true,
           "subunitcolor": "white"
          },
          "hoverlabel": {
           "align": "left"
          },
          "hovermode": "closest",
          "mapbox": {
           "style": "light"
          },
          "paper_bgcolor": "white",
          "plot_bgcolor": "#E5ECF6",
          "polar": {
           "angularaxis": {
            "gridcolor": "white",
            "linecolor": "white",
            "ticks": ""
           },
           "bgcolor": "#E5ECF6",
           "radialaxis": {
            "gridcolor": "white",
            "linecolor": "white",
            "ticks": ""
           }
          },
          "scene": {
           "xaxis": {
            "backgroundcolor": "#E5ECF6",
            "gridcolor": "white",
            "gridwidth": 2,
            "linecolor": "white",
            "showbackground": true,
            "ticks": "",
            "zerolinecolor": "white"
           },
           "yaxis": {
            "backgroundcolor": "#E5ECF6",
            "gridcolor": "white",
            "gridwidth": 2,
            "linecolor": "white",
            "showbackground": true,
            "ticks": "",
            "zerolinecolor": "white"
           },
           "zaxis": {
            "backgroundcolor": "#E5ECF6",
            "gridcolor": "white",
            "gridwidth": 2,
            "linecolor": "white",
            "showbackground": true,
            "ticks": "",
            "zerolinecolor": "white"
           }
          },
          "shapedefaults": {
           "line": {
            "color": "#2a3f5f"
           }
          },
          "ternary": {
           "aaxis": {
            "gridcolor": "white",
            "linecolor": "white",
            "ticks": ""
           },
           "baxis": {
            "gridcolor": "white",
            "linecolor": "white",
            "ticks": ""
           },
           "bgcolor": "#E5ECF6",
           "caxis": {
            "gridcolor": "white",
            "linecolor": "white",
            "ticks": ""
           }
          },
          "title": {
           "x": 0.05
          },
          "xaxis": {
           "automargin": true,
           "gridcolor": "white",
           "linecolor": "white",
           "ticks": "",
           "title": {
            "standoff": 15
           },
           "zerolinecolor": "white",
           "zerolinewidth": 2
          },
          "yaxis": {
           "automargin": true,
           "gridcolor": "white",
           "linecolor": "white",
           "ticks": "",
           "title": {
            "standoff": 15
           },
           "zerolinecolor": "white",
           "zerolinewidth": 2
          }
         }
        },
        "title": {
         "text": "CPI Inflation Analysis: Raw vs Seasonally Adjusted"
        },
        "xaxis": {
         "title": {
          "text": "Date"
         }
        },
        "yaxis": {
         "title": {
          "text": "Inflation Rate (%)"
         }
        }
       }
      }
     },
     "metadata": {},
     "output_type": "display_data"
    }
   ],
   "source": [
    "# Create EDA visualization\n",
    "fig = go.Figure()\n",
    "\n",
    "# Annual CPI change\n",
    "fig.add_trace(go.Scatter(\n",
    "    x=cpi_df['Date_CPI'], \n",
    "    y=cpi_df['CPI_Annual_Change'],\n",
    "    mode='lines+markers',\n",
    "    name='Annual CPI Change (%)',\n",
    "    line=dict(color='blue', width=2),\n",
    "    marker=dict(size=4)\n",
    "))\n",
    "\n",
    "# Seasonally differenced data\n",
    "fig.add_trace(go.Scatter(\n",
    "    x=cpi_df['Date_CPI'], \n",
    "    y=cpi_df['Delta_CPI_Annual_Change'],\n",
    "    mode='lines+markers',\n",
    "    name='Seasonally Differenced CPI Change',\n",
    "    line=dict(color='red', width=2),\n",
    "    marker=dict(size=4)\n",
    "))\n",
    "\n",
    "fig.update_layout(\n",
    "    title='CPI Inflation Analysis: Raw vs Seasonally Adjusted',\n",
    "    xaxis_title='Date',\n",
    "    yaxis_title='Inflation Rate (%)',\n",
    "    hovermode='x unified',\n",
    "    height=400,\n",
    "    showlegend=True\n",
    ")\n",
    "\n",
    "fig.show()"
   ]
  },
  {
   "cell_type": "markdown",
   "metadata": {},
   "source": [
    "### Model development\n",
    "Upload Dataset to EvoML"
   ]
  },
  {
   "cell_type": "code",
   "execution_count": 29,
   "metadata": {},
   "outputs": [
    {
     "name": "stdout",
     "output_type": "stream",
     "text": [
      "Dataset URL: https://evoml.ai/platform/datasets/view/68c004086af502fa89533001\n"
     ]
    }
   ],
   "source": [
    "# Upload dataset to EvoML\n",
    "dataset = ec.Dataset.from_pandas(modeling_df, name=\"CPI_Inflation_Forecasting\")\n",
    "dataset.put()\n",
    "dataset.wait()\n",
    "\n",
    "print(f\"Dataset URL: {API_URL}/platform/datasets/view/{dataset.dataset_id}\")"
   ]
  },
  {
   "cell_type": "markdown",
   "metadata": {},
   "source": [
    "### Trial Configuration Function\n",
    "We define a reusable trial configuration function which would allow us to easily execute trials with our desired horizons. We have chosen regularised regression models with the aim of ensuring better generalisation to test. In the end of each of our trial executions, we fetch the best model and its loss value."
   ]
  },
  {
   "cell_type": "code",
   "execution_count": 30,
   "metadata": {},
   "outputs": [],
   "source": [
    "def create_inflation_trial(dataset_id, horizon, trial_name):\n",
    "    \"\"\"Create and configure a time series trial for inflation forecasting.\"\"\"\n",
    "    \n",
    "    models = [\"ridge_regressor\", \"lasso_regressor\", \"elastic_net_regressor\"]\n",
    "    \n",
    "    config = ec.TrialConfig.with_models(\n",
    "        models=models,\n",
    "        task=ec.MlTask.regression,\n",
    "        budget_mode=BudgetMode.fast,\n",
    "        loss_funcs=[\"Root Mean Squared Error\"],\n",
    "        dataset_id=dataset_id,\n",
    "        is_timeseries=True,\n",
    "    )\n",
    "    \n",
    "    # Time series specific configuration\n",
    "    config.options.timeSeriesWindowSize = 6\n",
    "    config.options.timeSeriesHorizon = horizon\n",
    "    config.options.splittingMethodOptions = SplitMethodOptions(\n",
    "        method=\"percentage\", \n",
    "        trainPercentage=0.8\n",
    "    )\n",
    "    config.options.enableBudgetTuning = False\n",
    "    \n",
    "    trial, _ = ec.Trial.from_dataset_id(\n",
    "        dataset_id,\n",
    "        target_col=\"Delta_CPI_Annual_Change\",\n",
    "        trial_name=trial_name,\n",
    "        config=config,\n",
    "    )\n",
    "    \n",
    "    return trial\n",
    "\n",
    "# Initialize results storage\n",
    "trial_results = {}"
   ]
  },
  {
   "cell_type": "markdown",
   "metadata": {},
   "source": [
    "## Model Training Execution\n",
    "### 12-Month Horizon Trial\n"
   ]
  },
  {
   "cell_type": "code",
   "execution_count": 31,
   "metadata": {},
   "outputs": [
    {
     "name": "stdout",
     "output_type": "stream",
     "text": [
      "Using dataset-based approach...\n"
     ]
    },
    {
     "name": "stderr",
     "output_type": "stream",
     "text": [
      "100%|██████████| 7/7 [00:00<00:00, 24693.13kb/s]\n"
     ]
    },
    {
     "name": "stdout",
     "output_type": "stream",
     "text": [
      "Running 12-month trial...\n",
      "Couldnt match any status: ,status ispending\n"
     ]
    },
    {
     "name": "stderr",
     "output_type": "stream",
     "text": [
      "100%|██████████| 1444/1444 [00:00<00:00, 8021.52kb/s]\n"
     ]
    },
    {
     "name": "stdout",
     "output_type": "stream",
     "text": [
      "Best model: elastic_net_regressor-d3b5d\n",
      "RMSE: 1.9236\n"
     ]
    }
   ],
   "source": [
    "# Create 12-month horizon trial with PyArrow compatibility handling\n",
    "try:\n",
    "    if dataset is not None and hasattr(dataset, 'dataset_id') and dataset.dataset_id is not None:\n",
    "        print(\"Using dataset-based approach...\")\n",
    "        trial_12 = create_inflation_trial(\n",
    "            dataset.dataset_id, \n",
    "            horizon=12, \n",
    "            trial_name=\"Inflation_Forecast_12M\"\n",
    "        )\n",
    "    else:\n",
    "        print(\"Using alternative pandas-based approach...\")\n",
    "        # Alternative approach: Create trial directly from pandas DataFrame\n",
    "        trial_12, _ = ec.Trial.from_pandas(\n",
    "            modeling_df,\n",
    "            target_col=\"Delta_CPI_Annual_Change\",\n",
    "            trial_name=\"Inflation_Forecast_12M\",\n",
    "            data_name=\"CPI_Inflation_Forecasting\",\n",
    "            config=ec.TrialConfig.with_models(\n",
    "                models=[\"ridge_regressor\", \"lasso_regressor\", \"elastic_net_regressor\"],\n",
    "                task=ec.MlTask.regression,\n",
    "                budget_mode=BudgetMode.fast,\n",
    "                loss_funcs=[\"Root Mean Squared Error\"],\n",
    "                is_timeseries=True,\n",
    "            )\n",
    "        )\n",
    "        \n",
    "        # Configure time series settings\n",
    "        trial_12.config.options.timeSeriesWindowSize = 6\n",
    "        trial_12.config.options.timeSeriesHorizon = 12\n",
    "        trial_12.config.options.splittingMethodOptions = SplitMethodOptions(\n",
    "            method=\"percentage\", \n",
    "            trainPercentage=0.8\n",
    "        )\n",
    "        trial_12.config.options.enableBudgetTuning = False\n",
    "\n",
    "    print(\"Running 12-month trial...\")\n",
    "    trial_12.run(timeout=900)\n",
    "    model_12 = trial_12.get_best()\n",
    "    model_12.build_model()\n",
    "\n",
    "    # Store results\n",
    "    metrics_12 = trial_12.get_metrics_dataframe()\n",
    "    model_dict_12 = model_12.model_rep.__dict__\n",
    "    mse_12 = model_dict_12.get('metrics', {}).get('regression-mse', {}).get('test', {}).get('average')\n",
    "    rmse_12 = math.sqrt(mse_12) if mse_12 else 0\n",
    "\n",
    "    trial_results[12] = {\n",
    "        'trial': trial_12,\n",
    "        'model': model_12,\n",
    "        'model_name': model_dict_12.get('name'),\n",
    "        'mse_test': mse_12,\n",
    "        'rmse_test': rmse_12\n",
    "    }\n",
    "\n",
    "    print(f\"Best model: {trial_results[12]['model_name']}\")\n",
    "    print(f\"RMSE: {trial_results[12]['rmse_test']:.4f}\")\n",
    "    \n",
    "except Exception as e:\n",
    "    print(f\"Error creating trial_12: {e}\")\n",
    "    print(\"Please check your evoml-client installation and PyArrow compatibility.\")\n"
   ]
  },
  {
   "cell_type": "markdown",
   "metadata": {},
   "source": [
    "### 9-Month Horizon Trial"
   ]
  },
  {
   "cell_type": "code",
   "execution_count": 14,
   "metadata": {},
   "outputs": [
    {
     "name": "stdout",
     "output_type": "stream",
     "text": [
      "Using dataset-based approach...\n",
      "Running 9-month trial...\n",
      "Couldnt match any status: ,status ispending\n"
     ]
    },
    {
     "name": "stderr",
     "output_type": "stream",
     "text": [
      "100%|██████████| 1444/1444 [00:00<00:00, 8986.96kb/s]\n"
     ]
    },
    {
     "name": "stdout",
     "output_type": "stream",
     "text": [
      "Best model: elastic_net_regressor-d3b5d\n",
      "RMSE: 1.9234\n"
     ]
    },
    {
     "name": "stdout",
     "output_type": "stream",
     "text": [
      "\u001b[32m2025-09-08 22:19:51.645\u001b[0m \u001b[31m-\u001b[0m \u001b[1mINFO    \u001b[0m \u001b[31m-\u001b[0m \u001b[36mevoml_client.pipeline\u001b[0m.\u001b[36mget_pipeline_report_when_ready\u001b[0m:\u001b[36m59\u001b[0m \u001b[31m-\u001b[0m \u001b[1mWaiting for pipeline report with id 800c2fec-789f-4a22-8097-d117ccaf6fcd to be ready.\u001b[0m\n",
      "\u001b[32m2025-09-08 22:19:51.705\u001b[0m \u001b[31m-\u001b[0m \u001b[1mINFO    \u001b[0m \u001b[31m-\u001b[0m \u001b[36mevoml_client.pipeline\u001b[0m.\u001b[36mget_pipeline_report_when_ready\u001b[0m:\u001b[36m68\u001b[0m \u001b[31m-\u001b[0m \u001b[1mPipeline report with id 800c2fec-789f-4a22-8097-d117ccaf6fcd not ready yet. Waiting for 5 seconds.\u001b[0m\n",
      "\u001b[32m2025-09-08 22:19:56.773\u001b[0m \u001b[31m-\u001b[0m \u001b[1mINFO    \u001b[0m \u001b[31m-\u001b[0m \u001b[36mevoml_client.pipeline\u001b[0m.\u001b[36mget_pipeline_report_when_ready\u001b[0m:\u001b[36m68\u001b[0m \u001b[31m-\u001b[0m \u001b[1mPipeline report with id 800c2fec-789f-4a22-8097-d117ccaf6fcd not ready yet. Waiting for 5 seconds.\u001b[0m\n",
      "\u001b[32m2025-09-08 22:20:01.842\u001b[0m \u001b[31m-\u001b[0m \u001b[1mINFO    \u001b[0m \u001b[31m-\u001b[0m \u001b[36mevoml_client.pipeline\u001b[0m.\u001b[36mget_pipeline_report_when_ready\u001b[0m:\u001b[36m68\u001b[0m \u001b[31m-\u001b[0m \u001b[1mPipeline report with id 800c2fec-789f-4a22-8097-d117ccaf6fcd not ready yet. Waiting for 5 seconds.\u001b[0m\n",
      "\u001b[32m2025-09-08 22:20:06.927\u001b[0m \u001b[31m-\u001b[0m \u001b[1mINFO    \u001b[0m \u001b[31m-\u001b[0m \u001b[36mevoml_client.pipeline\u001b[0m.\u001b[36mget_pipeline_report_when_ready\u001b[0m:\u001b[36m68\u001b[0m \u001b[31m-\u001b[0m \u001b[1mPipeline report with id 800c2fec-789f-4a22-8097-d117ccaf6fcd not ready yet. Waiting for 5 seconds.\u001b[0m\n",
      "\u001b[32m2025-09-08 22:20:11.999\u001b[0m \u001b[31m-\u001b[0m \u001b[1mINFO    \u001b[0m \u001b[31m-\u001b[0m \u001b[36mevoml_client.pipeline\u001b[0m.\u001b[36mget_pipeline_report_when_ready\u001b[0m:\u001b[36m68\u001b[0m \u001b[31m-\u001b[0m \u001b[1mPipeline report with id 800c2fec-789f-4a22-8097-d117ccaf6fcd not ready yet. Waiting for 5 seconds.\u001b[0m\n",
      "\u001b[32m2025-09-08 22:20:17.083\u001b[0m \u001b[31m-\u001b[0m \u001b[1mINFO    \u001b[0m \u001b[31m-\u001b[0m \u001b[36mevoml_client.pipeline\u001b[0m.\u001b[36mget_pipeline_report_when_ready\u001b[0m:\u001b[36m68\u001b[0m \u001b[31m-\u001b[0m \u001b[1mPipeline report with id 800c2fec-789f-4a22-8097-d117ccaf6fcd not ready yet. Waiting for 5 seconds.\u001b[0m\n",
      "\u001b[32m2025-09-08 22:20:22.184\u001b[0m \u001b[31m-\u001b[0m \u001b[1mINFO    \u001b[0m \u001b[31m-\u001b[0m \u001b[36mevoml_client.pipeline\u001b[0m.\u001b[36mget_pipeline_report_when_ready\u001b[0m:\u001b[36m66\u001b[0m \u001b[31m-\u001b[0m \u001b[1mPipeline report is now completed.\u001b[0m\n"
     ]
    }
   ],
   "source": [
    "# Create 9-month horizon trial with PyArrow compatibility handling\n",
    "try:\n",
    "    if dataset is not None and hasattr(dataset, 'dataset_id') and dataset.dataset_id is not None:\n",
    "        print(\"Using dataset-based approach...\")\n",
    "        trial_9 = create_inflation_trial(\n",
    "            dataset.dataset_id, \n",
    "            horizon=9, \n",
    "            trial_name=\"Inflation_Forecast_9M\"\n",
    "        )\n",
    "    else:\n",
    "        print(\"Using alternative pandas-based approach...\")\n",
    "        # Alternative approach: Create trial directly from pandas DataFrame\n",
    "        trial_9, _ = ec.Trial.from_pandas(\n",
    "            modeling_df,\n",
    "            target_col=\"Delta_CPI_Annual_Change\",\n",
    "            trial_name=\"Inflation_Forecast_9M\",\n",
    "            data_name=\"CPI_Inflation_Forecasting\",\n",
    "            config=ec.TrialConfig.with_models(\n",
    "                models=[\"ridge_regressor\", \"lasso_regressor\", \"elastic_net_regressor\"],\n",
    "                task=ec.MlTask.regression,\n",
    "                budget_mode=BudgetMode.fast,\n",
    "                loss_funcs=[\"Root Mean Squared Error\"],\n",
    "                is_timeseries=True,\n",
    "            )\n",
    "        )\n",
    "        \n",
    "        # Configure time series settings\n",
    "        trial_9.config.options.timeSeriesWindowSize = 6\n",
    "        trial_9.config.options.timeSeriesHorizon = 9\n",
    "        trial_9.config.options.splittingMethodOptions = SplitMethodOptions(\n",
    "            method=\"percentage\", \n",
    "            trainPercentage=0.8\n",
    "        )\n",
    "        trial_9.config.options.enableBudgetTuning = False\n",
    "\n",
    "    print(\"Running 9-month trial...\")\n",
    "    trial_9.run(timeout=900)\n",
    "    model_9 = trial_9.get_best()\n",
    "    model_9.build_model()\n",
    "\n",
    "    # Store results\n",
    "    metrics_9 = trial_9.get_metrics_dataframe()\n",
    "    model_dict_9 = model_9.model_rep.__dict__\n",
    "    mse_9 = model_dict_9.get('metrics', {}).get('regression-mse', {}).get('test', {}).get('average')\n",
    "    rmse_9 = math.sqrt(mse_9) if mse_9 else 0\n",
    "\n",
    "    trial_results[9] = {\n",
    "        'trial': trial_9,\n",
    "        'model': model_9,\n",
    "        'model_name': model_dict_9.get('name'),\n",
    "        'mse_test': mse_9,\n",
    "        'rmse_test': rmse_9\n",
    "    }\n",
    "\n",
    "    print(f\"Best model: {trial_results[9]['model_name']}\")\n",
    "    print(f\"RMSE: {trial_results[9]['rmse_test']:.4f}\")\n",
    "    \n",
    "except Exception as e:\n",
    "    print(f\"Error creating trial_9: {e}\")\n",
    "    print(\"Please check your evoml-client installation and PyArrow compatibility.\")\n"
   ]
  },
  {
   "cell_type": "markdown",
   "metadata": {},
   "source": [
    "### 6-Month Horizon Trial"
   ]
  },
  {
   "cell_type": "code",
   "execution_count": 15,
   "metadata": {},
   "outputs": [
    {
     "name": "stdout",
     "output_type": "stream",
     "text": [
      "Using dataset-based approach...\n",
      "Running 6-month trial...\n",
      "Couldnt match any status: ,status ispending\n"
     ]
    },
    {
     "name": "stderr",
     "output_type": "stream",
     "text": [
      "100%|██████████| 1444/1444 [00:00<00:00, 7933.10kb/s]\n"
     ]
    },
    {
     "name": "stdout",
     "output_type": "stream",
     "text": [
      "Best model: ridge_regressor-04a45\n",
      "RMSE: 1.5780\n"
     ]
    },
    {
     "name": "stdout",
     "output_type": "stream",
     "text": [
      "\u001b[32m2025-09-09 09:24:53.397\u001b[0m \u001b[31m-\u001b[0m \u001b[1mINFO    \u001b[0m \u001b[31m-\u001b[0m \u001b[36mevoml_client.pipeline\u001b[0m.\u001b[36mget_pipeline_report_when_ready\u001b[0m:\u001b[36m59\u001b[0m \u001b[31m-\u001b[0m \u001b[1mWaiting for pipeline report with id 4a2b4138-28ba-441c-a752-1476f97cde0f to be ready.\u001b[0m\n",
      "\u001b[32m2025-09-09 09:24:53.456\u001b[0m \u001b[31m-\u001b[0m \u001b[1mINFO    \u001b[0m \u001b[31m-\u001b[0m \u001b[36mevoml_client.pipeline\u001b[0m.\u001b[36mget_pipeline_report_when_ready\u001b[0m:\u001b[36m68\u001b[0m \u001b[31m-\u001b[0m \u001b[1mPipeline report with id 4a2b4138-28ba-441c-a752-1476f97cde0f not ready yet. Waiting for 5 seconds.\u001b[0m\n",
      "\u001b[32m2025-09-09 09:24:58.550\u001b[0m \u001b[31m-\u001b[0m \u001b[1mINFO    \u001b[0m \u001b[31m-\u001b[0m \u001b[36mevoml_client.pipeline\u001b[0m.\u001b[36mget_pipeline_report_when_ready\u001b[0m:\u001b[36m68\u001b[0m \u001b[31m-\u001b[0m \u001b[1mPipeline report with id 4a2b4138-28ba-441c-a752-1476f97cde0f not ready yet. Waiting for 5 seconds.\u001b[0m\n",
      "\u001b[32m2025-09-09 09:25:03.622\u001b[0m \u001b[31m-\u001b[0m \u001b[1mINFO    \u001b[0m \u001b[31m-\u001b[0m \u001b[36mevoml_client.pipeline\u001b[0m.\u001b[36mget_pipeline_report_when_ready\u001b[0m:\u001b[36m68\u001b[0m \u001b[31m-\u001b[0m \u001b[1mPipeline report with id 4a2b4138-28ba-441c-a752-1476f97cde0f not ready yet. Waiting for 5 seconds.\u001b[0m\n",
      "\u001b[32m2025-09-09 09:25:08.693\u001b[0m \u001b[31m-\u001b[0m \u001b[1mINFO    \u001b[0m \u001b[31m-\u001b[0m \u001b[36mevoml_client.pipeline\u001b[0m.\u001b[36mget_pipeline_report_when_ready\u001b[0m:\u001b[36m68\u001b[0m \u001b[31m-\u001b[0m \u001b[1mPipeline report with id 4a2b4138-28ba-441c-a752-1476f97cde0f not ready yet. Waiting for 5 seconds.\u001b[0m\n",
      "\u001b[32m2025-09-09 09:25:13.770\u001b[0m \u001b[31m-\u001b[0m \u001b[1mINFO    \u001b[0m \u001b[31m-\u001b[0m \u001b[36mevoml_client.pipeline\u001b[0m.\u001b[36mget_pipeline_report_when_ready\u001b[0m:\u001b[36m68\u001b[0m \u001b[31m-\u001b[0m \u001b[1mPipeline report with id 4a2b4138-28ba-441c-a752-1476f97cde0f not ready yet. Waiting for 5 seconds.\u001b[0m\n",
      "\u001b[32m2025-09-09 09:25:18.857\u001b[0m \u001b[31m-\u001b[0m \u001b[1mINFO    \u001b[0m \u001b[31m-\u001b[0m \u001b[36mevoml_client.pipeline\u001b[0m.\u001b[36mget_pipeline_report_when_ready\u001b[0m:\u001b[36m68\u001b[0m \u001b[31m-\u001b[0m \u001b[1mPipeline report with id 4a2b4138-28ba-441c-a752-1476f97cde0f not ready yet. Waiting for 5 seconds.\u001b[0m\n",
      "\u001b[32m2025-09-09 09:25:23.933\u001b[0m \u001b[31m-\u001b[0m \u001b[1mINFO    \u001b[0m \u001b[31m-\u001b[0m \u001b[36mevoml_client.pipeline\u001b[0m.\u001b[36mget_pipeline_report_when_ready\u001b[0m:\u001b[36m66\u001b[0m \u001b[31m-\u001b[0m \u001b[1mPipeline report is now completed.\u001b[0m\n"
     ]
    }
   ],
   "source": [
    "# Create 6-month horizon trial with PyArrow compatibility handling\n",
    "try:\n",
    "    if dataset is not None and hasattr(dataset, 'dataset_id') and dataset.dataset_id is not None:\n",
    "        print(\"Using dataset-based approach...\")\n",
    "        trial_6 = create_inflation_trial(\n",
    "            dataset.dataset_id, \n",
    "            horizon=6, \n",
    "            trial_name=\"Inflation_Forecast_6M\"\n",
    "        )\n",
    "    else:\n",
    "        print(\"Using alternative pandas-based approach...\")\n",
    "        # Alternative approach: Create trial directly from pandas DataFrame\n",
    "        trial_6, _ = ec.Trial.from_pandas(\n",
    "            modeling_df,\n",
    "            target_col=\"Delta_CPI_Annual_Change\",\n",
    "            trial_name=\"Inflation_Forecast_6M\",\n",
    "            data_name=\"CPI_Inflation_Forecasting\",\n",
    "            config=ec.TrialConfig.with_models(\n",
    "                models=[\"ridge_regressor\", \"lasso_regressor\", \"elastic_net_regressor\"],\n",
    "                task=ec.MlTask.regression,\n",
    "                budget_mode=BudgetMode.fast,\n",
    "                loss_funcs=[\"Root Mean Squared Error\"],\n",
    "                is_timeseries=True,\n",
    "            )\n",
    "        )\n",
    "        \n",
    "        # Configure time series settings\n",
    "        trial_6.config.options.timeSeriesWindowSize = 6\n",
    "        trial_6.config.options.timeSeriesHorizon = 6\n",
    "        trial_6.config.options.splittingMethodOptions = SplitMethodOptions(\n",
    "            method=\"percentage\", \n",
    "            trainPercentage=0.8\n",
    "        )\n",
    "        trial_6.config.options.enableBudgetTuning = False\n",
    "\n",
    "    print(\"Running 6-month trial...\")\n",
    "    trial_6.run(timeout=900)\n",
    "    model_6 = trial_6.get_best()\n",
    "    model_6.build_model()\n",
    "\n",
    "    # Store results\n",
    "    metrics_6 = trial_6.get_metrics_dataframe()\n",
    "    model_dict_6 = model_6.model_rep.__dict__\n",
    "    mse_6 = model_dict_6.get('metrics', {}).get('regression-mse', {}).get('test', {}).get('average')\n",
    "    rmse_6 = math.sqrt(mse_6) if mse_6 else 0\n",
    "\n",
    "    trial_results[6] = {\n",
    "        'trial': trial_6,\n",
    "        'model': model_6,\n",
    "        'model_name': model_dict_6.get('name'),\n",
    "        'mse_test': mse_6,\n",
    "        'rmse_test': rmse_6\n",
    "    }\n",
    "\n",
    "    print(f\"Best model: {trial_results[6]['model_name']}\")\n",
    "    print(f\"RMSE: {trial_results[6]['rmse_test']:.4f}\")\n",
    "    \n",
    "except Exception as e:\n",
    "    print(f\"Error creating trial_6: {e}\")\n",
    "    print(\"Please check your evoml-client installation and PyArrow compatibility.\")\n"
   ]
  },
  {
   "cell_type": "markdown",
   "metadata": {},
   "source": [
    "### 3-Month Horizon Trial"
   ]
  },
  {
   "cell_type": "code",
   "execution_count": 16,
   "metadata": {},
   "outputs": [
    {
     "name": "stdout",
     "output_type": "stream",
     "text": [
      "Using dataset-based approach...\n",
      "Running 3-month trial...\n",
      "Couldnt match any status: ,status ispending\n"
     ]
    },
    {
     "name": "stderr",
     "output_type": "stream",
     "text": [
      "100%|██████████| 1444/1444 [00:00<00:00, 7505.43kb/s]\n"
     ]
    },
    {
     "name": "stdout",
     "output_type": "stream",
     "text": [
      "Best model: ridge_regressor-04a45\n",
      "RMSE: 1.2623\n"
     ]
    },
    {
     "name": "stdout",
     "output_type": "stream",
     "text": [
      "\u001b[32m2025-09-09 11:42:07.517\u001b[0m \u001b[31m-\u001b[0m \u001b[1mINFO    \u001b[0m \u001b[31m-\u001b[0m \u001b[36mevoml_client.pipeline\u001b[0m.\u001b[36mget_pipeline_report_when_ready\u001b[0m:\u001b[36m59\u001b[0m \u001b[31m-\u001b[0m \u001b[1mWaiting for pipeline report with id b34a74d1-f27f-4525-b28d-a4c7a37989d2 to be ready.\u001b[0m\n",
      "\u001b[32m2025-09-09 11:42:07.595\u001b[0m \u001b[31m-\u001b[0m \u001b[1mINFO    \u001b[0m \u001b[31m-\u001b[0m \u001b[36mevoml_client.pipeline\u001b[0m.\u001b[36mget_pipeline_report_when_ready\u001b[0m:\u001b[36m68\u001b[0m \u001b[31m-\u001b[0m \u001b[1mPipeline report with id b34a74d1-f27f-4525-b28d-a4c7a37989d2 not ready yet. Waiting for 5 seconds.\u001b[0m\n",
      "\u001b[32m2025-09-09 11:42:12.673\u001b[0m \u001b[31m-\u001b[0m \u001b[1mINFO    \u001b[0m \u001b[31m-\u001b[0m \u001b[36mevoml_client.pipeline\u001b[0m.\u001b[36mget_pipeline_report_when_ready\u001b[0m:\u001b[36m68\u001b[0m \u001b[31m-\u001b[0m \u001b[1mPipeline report with id b34a74d1-f27f-4525-b28d-a4c7a37989d2 not ready yet. Waiting for 5 seconds.\u001b[0m\n",
      "\u001b[32m2025-09-09 11:42:17.747\u001b[0m \u001b[31m-\u001b[0m \u001b[1mINFO    \u001b[0m \u001b[31m-\u001b[0m \u001b[36mevoml_client.pipeline\u001b[0m.\u001b[36mget_pipeline_report_when_ready\u001b[0m:\u001b[36m68\u001b[0m \u001b[31m-\u001b[0m \u001b[1mPipeline report with id b34a74d1-f27f-4525-b28d-a4c7a37989d2 not ready yet. Waiting for 5 seconds.\u001b[0m\n",
      "\u001b[32m2025-09-09 11:42:22.819\u001b[0m \u001b[31m-\u001b[0m \u001b[1mINFO    \u001b[0m \u001b[31m-\u001b[0m \u001b[36mevoml_client.pipeline\u001b[0m.\u001b[36mget_pipeline_report_when_ready\u001b[0m:\u001b[36m68\u001b[0m \u001b[31m-\u001b[0m \u001b[1mPipeline report with id b34a74d1-f27f-4525-b28d-a4c7a37989d2 not ready yet. Waiting for 5 seconds.\u001b[0m\n",
      "\u001b[32m2025-09-09 11:42:27.894\u001b[0m \u001b[31m-\u001b[0m \u001b[1mINFO    \u001b[0m \u001b[31m-\u001b[0m \u001b[36mevoml_client.pipeline\u001b[0m.\u001b[36mget_pipeline_report_when_ready\u001b[0m:\u001b[36m68\u001b[0m \u001b[31m-\u001b[0m \u001b[1mPipeline report with id b34a74d1-f27f-4525-b28d-a4c7a37989d2 not ready yet. Waiting for 5 seconds.\u001b[0m\n",
      "\u001b[32m2025-09-09 11:42:32.966\u001b[0m \u001b[31m-\u001b[0m \u001b[1mINFO    \u001b[0m \u001b[31m-\u001b[0m \u001b[36mevoml_client.pipeline\u001b[0m.\u001b[36mget_pipeline_report_when_ready\u001b[0m:\u001b[36m68\u001b[0m \u001b[31m-\u001b[0m \u001b[1mPipeline report with id b34a74d1-f27f-4525-b28d-a4c7a37989d2 not ready yet. Waiting for 5 seconds.\u001b[0m\n",
      "\u001b[32m2025-09-09 11:42:38.062\u001b[0m \u001b[31m-\u001b[0m \u001b[1mINFO    \u001b[0m \u001b[31m-\u001b[0m \u001b[36mevoml_client.pipeline\u001b[0m.\u001b[36mget_pipeline_report_when_ready\u001b[0m:\u001b[36m66\u001b[0m \u001b[31m-\u001b[0m \u001b[1mPipeline report is now completed.\u001b[0m\n"
     ]
    }
   ],
   "source": [
    "# Create 3-month horizon trial with PyArrow compatibility handling\n",
    "try:\n",
    "    if dataset is not None and hasattr(dataset, 'dataset_id') and dataset.dataset_id is not None:\n",
    "        print(\"Using dataset-based approach...\")\n",
    "        trial_3 = create_inflation_trial(\n",
    "            dataset.dataset_id, \n",
    "            horizon=3, \n",
    "            trial_name=\"Inflation_Forecast_3M\"\n",
    "        )\n",
    "    else:\n",
    "        print(\"Using alternative pandas-based approach...\")\n",
    "        # Alternative approach: Create trial directly from pandas DataFrame\n",
    "        trial_3, _ = ec.Trial.from_pandas(\n",
    "            modeling_df,\n",
    "            target_col=\"Delta_CPI_Annual_Change\",\n",
    "            trial_name=\"Inflation_Forecast_3M\",\n",
    "            data_name=\"CPI_Inflation_Forecasting\",\n",
    "            config=ec.TrialConfig.with_models(\n",
    "                models=[\"ridge_regressor\", \"lasso_regressor\", \"elastic_net_regressor\"],\n",
    "                task=ec.MlTask.regression,\n",
    "                budget_mode=BudgetMode.fast,\n",
    "                loss_funcs=[\"Root Mean Squared Error\"],\n",
    "                is_timeseries=True,\n",
    "            )\n",
    "        )\n",
    "        \n",
    "        # Configure time series settings\n",
    "        trial_3.config.options.timeSeriesWindowSize = 6\n",
    "        trial_3.config.options.timeSeriesHorizon = 3\n",
    "        trial_3.config.options.splittingMethodOptions = SplitMethodOptions(\n",
    "            method=\"percentage\", \n",
    "            trainPercentage=0.8\n",
    "        )\n",
    "        trial_3.config.options.enableBudgetTuning = False\n",
    "\n",
    "    print(\"Running 3-month trial...\")\n",
    "    trial_3.run(timeout=900)\n",
    "    model_3 = trial_3.get_best()\n",
    "    model_3.build_model()\n",
    "\n",
    "    # Store results\n",
    "    metrics_3 = trial_3.get_metrics_dataframe()\n",
    "    model_dict_3 = model_3.model_rep.__dict__\n",
    "    mse_3 = model_dict_3.get('metrics', {}).get('regression-mse', {}).get('test', {}).get('average')\n",
    "    rmse_3 = math.sqrt(mse_3) if mse_3 else 0\n",
    "\n",
    "    trial_results[3] = {\n",
    "        'trial': trial_3,\n",
    "        'model': model_3,\n",
    "        'model_name': model_dict_3.get('name'),\n",
    "        'mse_test': mse_3,\n",
    "        'rmse_test': rmse_3\n",
    "    }\n",
    "\n",
    "    print(f\"Best model: {trial_results[3]['model_name']}\")\n",
    "    print(f\"RMSE: {trial_results[3]['rmse_test']:.4f}\")\n",
    "    \n",
    "except Exception as e:\n",
    "    print(f\"Error creating trial_3: {e}\")\n",
    "    print(\"Please check your evoml-client installation and PyArrow compatibility.\")\n"
   ]
  },
  {
   "cell_type": "markdown",
   "metadata": {},
   "source": [
    "## Results Summary\n",
    "We store the results to later retrieve them for visualisations and further computation."
   ]
  },
  {
   "cell_type": "code",
   "execution_count": 32,
   "metadata": {},
   "outputs": [
    {
     "name": "stdout",
     "output_type": "stream",
     "text": [
      "   Horizon (Months)                   Best Model Test RMSE Test MSE\n",
      "0                12  elastic_net_regressor-d3b5d    1.9236   3.7001\n"
     ]
    }
   ],
   "source": [
    "results_summary = []\n",
    "for horizon in sorted(trial_results.keys()):\n",
    "    results_summary.append({\n",
    "        'Horizon (Months)': horizon,\n",
    "        'Best Model': trial_results[horizon]['model_name'],\n",
    "        'Test RMSE': f\"{trial_results[horizon]['rmse_test']:.4f}\",\n",
    "        'Test MSE': f\"{trial_results[horizon]['mse_test']:.4f}\"\n",
    "    })\n",
    "\n",
    "results_df = pd.DataFrame(results_summary)\n",
    "print(results_df)"
   ]
  },
  {
   "cell_type": "markdown",
   "metadata": {},
   "source": [
    "### Prediction Generation\n",
    "Preparing test data for predictions\n",
    "Here we generate predictions and back-transform them to their original year-on-year inflation scale, for interpretability. For this reason, here, we mirror EvoML's preprocessing split."
   ]
  },
  {
   "cell_type": "code",
   "execution_count": 18,
   "metadata": {},
   "outputs": [],
   "source": [
    "# Split data for predictions\n",
    "split_idx = int(len(modeling_df) * 0.8)\n",
    "test_data = modeling_df.iloc[split_idx:].copy()\n",
    "train_data = modeling_df.iloc[:split_idx].copy()\n",
    "\n",
    "# Also prepare visualization data (with original CPI values)\n",
    "viz_split_idx = int(len(cpi_df) * 0.8)\n",
    "viz_data = cpi_df.iloc[viz_split_idx:].copy()"
   ]
  },
  {
   "cell_type": "markdown",
   "metadata": {},
   "source": [
    "### Generating Predictions for Each Horizon\n",
    "We fetch the best trained model for each horizon, we extend the dataset with the respective periods necessary for each trial and we generate predictions.\n",
    "\n"
   ]
  },
  {
   "cell_type": "code",
   "execution_count": 19,
   "metadata": {},
   "outputs": [],
   "source": [
    "# Generate predictions for all horizons\n",
    "predictions = {}\n",
    "\n",
    "for horizon in [3, 6, 9, 12]:\n",
    "    \n",
    "    # Get the trained model\n",
    "    model = trial_results[horizon]['model']\n",
    "    \n",
    "    # Extend test data with future periods\n",
    "    last_date = pd.to_datetime(test_data['Date_CPI'].max())\n",
    "    future_dates = pd.date_range(\n",
    "        start=last_date + pd.DateOffset(months=1), \n",
    "        periods=horizon, \n",
    "        freq='M'\n",
    "    )\n",
    "    \n",
    "    future_entries = pd.DataFrame({\n",
    "        'Date_CPI': future_dates.strftime('%Y-%m'),\n",
    "        'Delta_CPI_Annual_Change': [0] * len(future_dates)\n",
    "    })\n",
    "    \n",
    "    extended_test_data = pd.concat([test_data, future_entries], ignore_index=True)\n",
    "    \n",
    "    # Generate predictions\n",
    "    raw_predictions = model.predict(data=extended_test_data)\n",
    "    \n",
    "    # Store results\n",
    "    predictions[horizon] = {\n",
    "        'extended_data': extended_test_data,\n",
    "        'raw_predictions': raw_predictions\n",
    "    }"
   ]
  },
  {
   "cell_type": "markdown",
   "metadata": {},
   "source": [
    "### Back-Transforming Predictions to Original Scale\n",
    "Here, we back-transform our dependent variable to its original scale, as we take the last 12 values before the slice of the testing set and add back their 12-month differences. We do this so we could arrive at an interpretable inflation rate for our predicted-actual comparison.\n",
    "\n"
   ]
  },
  {
   "cell_type": "code",
   "execution_count": 20,
   "metadata": {},
   "outputs": [],
   "source": [
    "### Back-transforming Seasonally Differenced Predictions to Original Inflation Rates\n",
    "\n",
    "# Get last 12 values from training data for back-transformation base\n",
    "train_cpi_data = cpi_df.iloc[:viz_split_idx]\n",
    "last_12_values = train_cpi_data.tail(12)['CPI_Annual_Change'].reset_index(drop=True)\n",
    "\n",
    "for horizon in [3, 6, 9, 12]:\n",
    "    \n",
    "    raw_preds = predictions[horizon]['raw_predictions']\n",
    "    \n",
    "    # Convert raw predictions list to pandas Series\n",
    "    raw_preds_series = pd.Series(raw_preds)\n",
    "    \n",
    "    # Combine last 12 values with predictions\n",
    "    extended_series = pd.concat([last_12_values, raw_preds_series], ignore_index=True)\n",
    "    \n",
    "    # Back-transform using seasonal differencing reversal\n",
    "    back_transformed = extended_series.copy()\n",
    "    for t in range(12, len(extended_series)):\n",
    "        back_transformed[t] = extended_series[t] + back_transformed[t-12]\n",
    "    \n",
    "    # Store back-transformed predictions\n",
    "    predictions[horizon]['back_transformed'] = back_transformed\n"
   ]
  },
  {
   "cell_type": "markdown",
   "metadata": {},
   "source": [
    "### Visualizations\n",
    "First, we visualise a predicted vs actual plot to represent our models' performance on the testing set."
   ]
  },
  {
   "cell_type": "code",
   "execution_count": 21,
   "metadata": {},
   "outputs": [
    {
     "data": {
      "application/vnd.plotly.v1+json": {
       "config": {
        "plotlyServerURL": "https://plot.ly"
       },
       "data": [
        {
         "mode": "lines",
         "name": "Actual",
         "type": "scatter",
         "x": [
          "2018-01",
          "2018-02",
          "2018-03",
          "2018-04",
          "2018-05",
          "2018-06",
          "2018-07",
          "2018-08",
          "2018-09",
          "2018-10",
          "2018-11",
          "2018-12",
          "2019-01",
          "2019-02",
          "2019-03",
          "2019-04",
          "2019-05",
          "2019-06",
          "2019-07",
          "2019-08",
          "2019-09",
          "2019-10",
          "2019-11",
          "2019-12",
          "2020-01",
          "2020-02",
          "2020-03",
          "2020-04",
          "2020-05",
          "2020-06",
          "2020-07",
          "2020-08",
          "2020-09",
          "2020-10",
          "2020-11",
          "2020-12",
          "2021-01",
          "2021-02",
          "2021-03",
          "2021-04",
          "2021-05",
          "2021-06",
          "2021-07",
          "2021-08",
          "2021-09",
          "2021-10",
          "2021-11",
          "2021-12",
          "2022-01",
          "2022-02",
          "2022-03",
          "2022-04",
          "2022-05",
          "2022-06",
          "2022-07",
          "2022-08",
          "2022-09",
          "2022-10",
          "2022-11",
          "2022-12",
          "2023-01",
          "2023-02",
          "2023-03",
          "2023-04",
          "2023-05",
          "2023-06",
          "2023-07",
          "2023-08",
          "2023-09",
          "2023-10",
          "2023-11",
          "2023-12",
          "2024-01",
          "2024-02",
          "2024-03",
          "2024-04",
          "2024-05",
          "2024-06",
          "2024-07",
          "2024-08",
          "2024-09",
          "2024-10",
          "2024-11",
          "2024-12",
          "2025-01"
         ],
         "y": {
          "bdata": "SQQjhGvqB0BOUCKV5qoFQL/tTwn4qQNAo6A8J9kNA0AWFM34/F0DQCU27kG+kgNA0WMkoarLA0Dn0JvjhTgFQCCsn3lAWgNAP6E1MeUhA0DDPu+LW3oCQLZ6o8WQ1QBAa7Ji7TKR/T89F6/8lej9P0kIFoCIhf4/GMZTaObwAEBJtH/jMSoAQPzPvfUvCwBADnyWlh99AEAnWiBpmZb7P420ZyN1cPs/P6vV1RNu9z/JAuIkZZb3PzoQ65ZI1fQ/Jtaapu5O/D8KAQHbO1r7PywuGrp3X/g/1xmV57mO6D8OpP+KCbbePxrnW1QFTeM/rixn+hel8D+I/xscHBzMPzlElIhTBeE/K56yeA5P5j8hi+u/BirUP5JbOrss1+I/95RepSdr5j+Wiodcg4LaP15Y7HLA2+Y/bve/by1q+D+MS44ZausAQO5EGcALHQRAk9H8cspRAEAr1gQdyJIJQGTQRjH7owhAxQ8mJinTEECWM9ulBIUUQHK+YZNPixVAg0yCFnLSFUAQ9lXA2LQYQLkXT9OtFxxAs7WLcnUFIkBdwFzUVyoiQBxYxIkA0yJARhQyUqkzJEDjK35Bib0jQDYLxSD2MCRAoYGU52YaJkAIphINElglQIH5+BWHDiVAfYc5WWEaJEDKJGL4MdUkQL7AMggfHSRA7o99SgRRIUB57BdaglwhQAb9NQp6zB9AdFnHPBFPG0A05tGezKAaQBF7CTfUmxpA9ZsjaUZmEkBCrHSlJocPQB7IE8Y28g9Au5vTnlLZD0CGchbtsUoLQMl0Bb8Q0wlAFPACqCCqAkAEGgfs8tb/P/+FLzTfmv8/IM7wmyTgAUCdX/vz8roBQKu8l3mt4vo/B9a3dng/AkAsrnuRHfoEQAyaZQUeBgRAPHbK6A/dB0A=",
          "dtype": "f8"
         }
        },
        {
         "mode": "lines",
         "name": "12-Month Prediction",
         "opacity": 0.5,
         "type": "scatter",
         "x": [
          "2018-01",
          "2018-02",
          "2018-03",
          "2018-04",
          "2018-05",
          "2018-06",
          "2018-07",
          "2018-08",
          "2018-09",
          "2018-10",
          "2018-11",
          "2018-12",
          "2019-01",
          "2019-02",
          "2019-03",
          "2019-04",
          "2019-05",
          "2019-06",
          "2019-07",
          "2019-08",
          "2019-09",
          "2019-10",
          "2019-11",
          "2019-12",
          "2020-01",
          "2020-02",
          "2020-03",
          "2020-04",
          "2020-05",
          "2020-06",
          "2020-07",
          "2020-08",
          "2020-09",
          "2020-10",
          "2020-11",
          "2020-12",
          "2021-01",
          "2021-02",
          "2021-03",
          "2021-04",
          "2021-05",
          "2021-06",
          "2021-07",
          "2021-08",
          "2021-09",
          "2021-10",
          "2021-11",
          "2021-12",
          "2022-01",
          "2022-02",
          "2022-03",
          "2022-04",
          "2022-05",
          "2022-06",
          "2022-07",
          "2022-08",
          "2022-09",
          "2022-10",
          "2022-11",
          "2022-12",
          "2023-01",
          "2023-02",
          "2023-03",
          "2023-04",
          "2023-05",
          "2023-06",
          "2023-07",
          "2023-08",
          "2023-09",
          "2023-10",
          "2023-11",
          "2023-12",
          "2024-01",
          "2024-02",
          "2024-03",
          "2024-04",
          "2024-05",
          "2024-06",
          "2024-07",
          "2024-08",
          "2024-09",
          "2024-10",
          "2024-11",
          "2024-12",
          "2025-01",
          "2025-02",
          "2025-03",
          "2025-04",
          "2025-05",
          "2025-06",
          "2025-07",
          "2025-08",
          "2025-09",
          "2025-10",
          "2025-11",
          "2025-12",
          "2026-01",
          null,
          null,
          null,
          null,
          null,
          null,
          null,
          null,
          null,
          null,
          null,
          null
         ],
         "y": {
          "bdata": "Usl0/QAL/T+76+PwtWECQICd7dyshwJABafVU4mvBUCkFOLSuv8GQJOANLTlJQVAg/4oHCsIBUDsTDYg9OMGQJ23xXyxrAdAcya2VrgBCED9Tt/lirwIQOv8Eai5xwdAfC6wMeYc+j9QngGLqOoAQBVQC3efEAFAmlnz7Xs4BEA5x/9srYgFQCgzUk7YrgNAGLFGth2RA0CB/1O65mwFQDJq4xakNQZACNnT8KqKBkCSAf1/fUUHQICvL0KsUAZAppPrZcsu9z/KoT5KNuf+P1QFUiIkM/8/LwwRiG7BAkDOeR0HoBEEQL3lb+jKNwJArWNkUBAaAkAWsnFU2fUDQMccAbGWvgRAnYvxip0TBUAntBoacM4FQBViTdye2QRA0PgmmrBA9D/0Bnp+G/n7P35qjVYJRfw/xL4uImFKAUBjLDuhkpoCQFKYjYK9wABAQhaC6gKjAECrZI/uy34CQFzPHkuJRwNAMj4PJZCcA0C8Zji0YlcEQKoUa3aRYgNA+l1izpVS8T8ebLWyAAv5P6jPyIruVvk/suKYeKem/z/43lg7hSMBQM6VVjlgk/4/rpE/CetX/j9AF62IvgcBQPGBPOV70AFAx/Asv4IlAkBRGVZOVeACQD/HiBCE6wFAR4Y7BfbI7D9I0fDm5Rz2P9I0BL/TaPY/3EfUrIy4/D8aI+2q71j/P/j6kW1Fpfs/2PZ6PdBp+z+qk5VFYiH/P4Y0Wn9uWQBAXKNKWXWuAEDmy3PoR2kBQNR5pqp2dABAmlCybcDs5j9yNiwbyy7zP/yZP/O4evM/Bq0P4XHK+T9EiCjf1Gr8PyJgzaEqt/g/Aly2cbV7+D/U+NB5RzP8PzbO7zLCxP0/4qvQ5s9u/j/2/CIFdeT/P9JYiInS+v0/7Rop1ooQ4T+cm2dPsEDwPyb/eieejPA/MBJLFVfc9j9u7WMTunz5P0zFCNYPyfU/LMHxpZqN9T/+XQyuLEX5P2AzK2en1vo/DBEMG7WA+z8gYl45Wvb8P/y9w723DPs/gMo/fapo1j+LAUYHK6XqP5/IbLcGPes/WneGSTzu8z+YUp9Hn472P3YqRAr12vI/ViYt2n+f8j8ow0fiEVf2P4qYZpuM6Pc/NnZHT5qS+D9Kx5ltPwj6PyYj//GcHvg/TL5anH5gxT8=",
          "dtype": "f8"
         }
        },
        {
         "mode": "lines",
         "name": "9-Month Prediction",
         "opacity": 0.5,
         "type": "scatter",
         "x": [
          "2018-01",
          "2018-02",
          "2018-03",
          "2018-04",
          "2018-05",
          "2018-06",
          "2018-07",
          "2018-08",
          "2018-09",
          "2018-10",
          "2018-11",
          "2018-12",
          "2019-01",
          "2019-02",
          "2019-03",
          "2019-04",
          "2019-05",
          "2019-06",
          "2019-07",
          "2019-08",
          "2019-09",
          "2019-10",
          "2019-11",
          "2019-12",
          "2020-01",
          "2020-02",
          "2020-03",
          "2020-04",
          "2020-05",
          "2020-06",
          "2020-07",
          "2020-08",
          "2020-09",
          "2020-10",
          "2020-11",
          "2020-12",
          "2021-01",
          "2021-02",
          "2021-03",
          "2021-04",
          "2021-05",
          "2021-06",
          "2021-07",
          "2021-08",
          "2021-09",
          "2021-10",
          "2021-11",
          "2021-12",
          "2022-01",
          "2022-02",
          "2022-03",
          "2022-04",
          "2022-05",
          "2022-06",
          "2022-07",
          "2022-08",
          "2022-09",
          "2022-10",
          "2022-11",
          "2022-12",
          "2023-01",
          "2023-02",
          "2023-03",
          "2023-04",
          "2023-05",
          "2023-06",
          "2023-07",
          "2023-08",
          "2023-09",
          "2023-10",
          "2023-11",
          "2023-12",
          "2024-01",
          "2024-02",
          "2024-03",
          "2024-04",
          "2024-05",
          "2024-06",
          "2024-07",
          "2024-08",
          "2024-09",
          "2024-10",
          "2024-11",
          "2024-12",
          "2025-01",
          "2025-02",
          "2025-03",
          "2025-04",
          "2025-05",
          "2025-06",
          "2025-07",
          "2025-08",
          "2025-09",
          "2025-10",
          null,
          null,
          null,
          null,
          null,
          null,
          null,
          null,
          null,
          null,
          null,
          null
         ],
         "y": {
          "bdata": "Usl0/QAL/T+76+PwtWECQICd7dyshwJABafVU4mvBUCkFOLSuv8GQJOANLTlJQVAg/4oHCsIBUDsTDYg9OMGQJ23xXyxrAdAcya2VrgBCED9Tt/lirwIQOv8Eai5xwdAUW1PrJZZ+j+6PVHIAAkBQIDvWrT3LgFABPlCK9RWBECkZk+qBacFQJLSoYswzQNAglCW83WvA0DsnqP3PosFQJwJM1T8UwZAcngjLgOpBkD8oEy91WMHQOpOf38EbwZAUBEqWyyo9z9zH30/l2D/P/+CkBeFrP8/BEuwAh/+AkCkuLyBUE4EQJIkD2N7dAJAgqIDy8BWAkDs8BDPiTIEQJxboCtH+wRAcsqQBU5QBUD88rmUIAsGQOqg7FZPFgVAT7UECsL29D9yw1fuLK/8P/4ma8Ya+/w/BJ0d2mmlAUCkCipZm/UCQJJ2fDrGGwFAgvRwogv+AEDsQn6m1NkCQJytDQOSogNAchz+3Jj3A0D8RCdsa7IEQOryWS6avQNATlnfuFdF8j9xZzKdwv35P/3KRXWwSfo/BO+KsbRMAECkXJcw5pwBQCOR0yMihv8/A42886xK/z/slOt9H4EBQJz/etrcSQJAcm5rtOOeAkD8lpRDtlkDQOpExwXlZAJAmvpzz9on7z9wCw1MWEz3P/xuICRGmPc/B4LwEf/n/T+krgQIMUQAQCI1rtK31Pw/AjGXokKZ/D/s5lhVaigAQJxR6LEn8QBAcsDYiy5GAUD86AEbAQECQOqWNN0vDAFAmEIpLQbF6T9vr+f67Zr0P/sS+9Lb5vQ/BibLwJQ2+z9HAeS+99b9PyHZiIFNI/o/AdVxUdjn+T/XcYxZap/9PzdHqxLlMP8/4ySMxvLa/z/8Om/yS6gAQNPRQ2n1Zv8/loreijFi5D9uU8Kpg+nxP/q21YFxNfI/BcqlbyqF+D9Gpb5tjSX7PyB9YzDjcfc/AHlMAG429z/WFWcIAO76PzbrhcF6f/w/4shmdYgp/T/3GbmTLZ/+P9J1HhiLtfw/KKUn0bn+3T/a7jmxMnDuP/K1YGEOCO8/BG6AHsDT9T9FSZkcI3T4Px8hPt94wPQ//xwnrwOF9D/VuUG3lTz4PzWPYHAQzvk/4WxBJB54+j8=",
          "dtype": "f8"
         }
        },
        {
         "mode": "lines",
         "name": "6-Month Prediction",
         "opacity": 0.5,
         "type": "scatter",
         "x": [
          "2018-01",
          "2018-02",
          "2018-03",
          "2018-04",
          "2018-05",
          "2018-06",
          "2018-07",
          "2018-08",
          "2018-09",
          "2018-10",
          "2018-11",
          "2018-12",
          "2019-01",
          "2019-02",
          "2019-03",
          "2019-04",
          "2019-05",
          "2019-06",
          "2019-07",
          "2019-08",
          "2019-09",
          "2019-10",
          "2019-11",
          "2019-12",
          "2020-01",
          "2020-02",
          "2020-03",
          "2020-04",
          "2020-05",
          "2020-06",
          "2020-07",
          "2020-08",
          "2020-09",
          "2020-10",
          "2020-11",
          "2020-12",
          "2021-01",
          "2021-02",
          "2021-03",
          "2021-04",
          "2021-05",
          "2021-06",
          "2021-07",
          "2021-08",
          "2021-09",
          "2021-10",
          "2021-11",
          "2021-12",
          "2022-01",
          "2022-02",
          "2022-03",
          "2022-04",
          "2022-05",
          "2022-06",
          "2022-07",
          "2022-08",
          "2022-09",
          "2022-10",
          "2022-11",
          "2022-12",
          "2023-01",
          "2023-02",
          "2023-03",
          "2023-04",
          "2023-05",
          "2023-06",
          "2023-07",
          "2023-08",
          "2023-09",
          "2023-10",
          "2023-11",
          "2023-12",
          "2024-01",
          "2024-02",
          "2024-03",
          "2024-04",
          "2024-05",
          "2024-06",
          "2024-07",
          "2024-08",
          "2024-09",
          "2024-10",
          "2024-11",
          "2024-12",
          "2025-01",
          "2025-02",
          "2025-03",
          "2025-04",
          "2025-05",
          "2025-06",
          "2025-07",
          null,
          null,
          null,
          null,
          null,
          null,
          null,
          null,
          null,
          null,
          null,
          null
         ],
         "y": {
          "bdata": "Usl0/QAL/T+76+PwtWECQICd7dyshwJABafVU4mvBUCkFOLSuv8GQJOANLTlJQVAg/4oHCsIBUDsTDYg9OMGQJ23xXyxrAdAcya2VrgBCED9Tt/lirwIQOv8Eai5xwdA+CEjj1ThBEAa5I4FVv4JQA2cyR2iiAdA/EH4DG2gCkAwKaNoCXkMQD75DQNiaQhAJMA3+JimBkAnjMPr2r8FQBpitw6doQRA0QvNu0h6A0DBtxDLJscEQGDrN0rm0wVAas4KEZNVBUDByTH30+EKQC3nHGfjPQhAvX8nNmA3C0C65hf2Q64LQBFjESxe/wZAZG7hVpE0BEBpTk4TH3kFQLsXtxYeKAZA+KWN9efCBkBWQVavodAHQNhngo7kSAlAXE2DmvYvCEB2EgmPNZUKQEpQHHnF7AdAaIHGrtOgCkDmMBNT3kwLQFY7bZUI9wZAvQSnHv7NCEAM4QkuSYMJQKhGvOm4bwlAkq2pULx8BUDEsNaAZhoFQB/V1c7OhgVAXftS01NcBkAF8jwd/l4HQJXY+A2zeQhAsMsbv4ETDkAPjwniLYQMQM5NQfIT7ghA4B0UDiH2CkCb3MD3OEEJQAq1Bo1ZdwpAUAq1xq78DkC+mdSW5f0QQMluxEVZRxJAtnOjIGj5EEB2HK/FVBAVQLjEWYvfMxNA5oXk2FVVFkAjiEOsFcsYQIrs3J6QMBhA1mhT8P5AFkCkrsevfGUYQIzj8gojJRlAYkqNlNc5HED2/dvNSeIcQKJL15B2sh1AIPyQrBDjHUBtiLNS+kMeQBMzwnkJ/BpAAxH4AZT7HkBtFU4xBDoeQAnIU0iU8BpAUiQ5KPzPGUD3rWnzpXsaQHjkw7rXxBhA5fa7LVWiFUCIbqKVMBwWQDO4AN8n3xVAuqXIUjTREUDMFAwYkO0TQDyIsSn2DhVABBBsFxgIEkDKPN95PXgRQNdcB6vLrhFAjuPPt81OEUAA5RBLTF4QQDhU4+k74BJAFANsOKqUEUC9tKP9Z+sQQOBgTL5YjRFA1QK1YyFCEkASjWb/UJ0UQJSnIoBusBNAEeYKN2ovF0B6iWeQFLAYQJxAdsZNOhZAVkKoJfjaFkA=",
          "dtype": "f8"
         }
        },
        {
         "mode": "lines",
         "name": "3-Month Prediction",
         "opacity": 0.5,
         "type": "scatter",
         "x": [
          "2018-01",
          "2018-02",
          "2018-03",
          "2018-04",
          "2018-05",
          "2018-06",
          "2018-07",
          "2018-08",
          "2018-09",
          "2018-10",
          "2018-11",
          "2018-12",
          "2019-01",
          "2019-02",
          "2019-03",
          "2019-04",
          "2019-05",
          "2019-06",
          "2019-07",
          "2019-08",
          "2019-09",
          "2019-10",
          "2019-11",
          "2019-12",
          "2020-01",
          "2020-02",
          "2020-03",
          "2020-04",
          "2020-05",
          "2020-06",
          "2020-07",
          "2020-08",
          "2020-09",
          "2020-10",
          "2020-11",
          "2020-12",
          "2021-01",
          "2021-02",
          "2021-03",
          "2021-04",
          "2021-05",
          "2021-06",
          "2021-07",
          "2021-08",
          "2021-09",
          "2021-10",
          "2021-11",
          "2021-12",
          "2022-01",
          "2022-02",
          "2022-03",
          "2022-04",
          "2022-05",
          "2022-06",
          "2022-07",
          "2022-08",
          "2022-09",
          "2022-10",
          "2022-11",
          "2022-12",
          "2023-01",
          "2023-02",
          "2023-03",
          "2023-04",
          "2023-05",
          "2023-06",
          "2023-07",
          "2023-08",
          "2023-09",
          "2023-10",
          "2023-11",
          "2023-12",
          "2024-01",
          "2024-02",
          "2024-03",
          "2024-04",
          "2024-05",
          "2024-06",
          "2024-07",
          "2024-08",
          "2024-09",
          "2024-10",
          "2024-11",
          "2024-12",
          "2025-01",
          "2025-02",
          "2025-03",
          "2025-04",
          null,
          null,
          null,
          null,
          null,
          null,
          null,
          null,
          null,
          null,
          null,
          null
         ],
         "y": {
          "bdata": "Usl0/QAL/T+76+PwtWECQICd7dyshwJABafVU4mvBUCkFOLSuv8GQJOANLTlJQVAg/4oHCsIBUDsTDYg9OMGQJ23xXyxrAdAcya2VrgBCED9Tt/lirwIQOv8Eai5xwdArHyBBrb+CUD8vt9F0z8NQAdrCKhxkAlAtFla1mLWCkAIWqHFBZsHQBA7sGkkPARAO7Jz7SCZAUAh26s7IsoDQBfWZF6bEgdAmh31IQiqCED01+oMxkUIQEgMazZN+QRAcvyDb/1ZB0AYmIVsOKIJQL/N8EFldgVAoz0zSiSdBECXiPVN6H4EQGRZZu4KvgNAEpCKyzznAkCMLcjIMwQDQK2Uxzg9HQZAPgusm3sXCEAqaU/Ap6kDQMYu0+w11wFA8Qg+zgFvA0Bo5Zy582AGQK7Lgv8uJQJAtmk8kTnpB0BLxI4/wi0GQFVNvpxYqwJAaTmRw8MW9D8buTdb2Lb0PxGQZl3MIP8/eFYu1tILBUCkHMkK6vr2P3nZhsDoZfk/the3iU+0AkCKh8MAmSQCQAJ32gz/bv8/auqdZdwNBEAewvspQQkAQAv4LMb8FQBADnWZG4tmBUDOS1jz1jEKQMwJ2VdAQg5AKOlmM/QEC0DzxLDFQhwRQP5zUTlF0g9Asjr9mTO8FECjkitlYtwYQEZmCQoSMhhAXCVHho9MF0BVcRzH+gEaQBA9GrYPOBxANomALGjXIEBO/BNqaIYgQLJVAepyLCFAR4ZTnT61IkD2M4hyKtkhQEKNruaXBCFA7HS+XU3EI0C+tMs8V40jQHgXBFS31iFA+vJQk92EIUCaR6hMJFsiQNgIV0g5CiFA7rg1Feg+G0DfwFgoO1IcQONGU63A7hxA4peuRhwOGUACuo4WW78XQGTr7D/IKBlAkMCY8VxDEkDz/fzgYDIRQA0Bn7nVthJAiWQR6/Z0FED9+S/eVXoQQDqjGUanBxBAjE4RGTOXCEBWQ0s9FtoHQBwFRSvsRQxACL2IanqcEEBhD2lMmFUOQHG0kw4u5ghAXCkBZsOfEEBK/n4NjdQTQDoyBoX3MxFAWOjsNZUuE0A=",
          "dtype": "f8"
         }
        }
       ],
       "layout": {
        "height": 600,
        "legend": {
         "title": {
          "text": "Data Type"
         }
        },
        "plot_bgcolor": "white",
        "shapes": [
         {
          "line": {
           "color": "Black",
           "dash": "dash",
           "width": 1
          },
          "opacity": 0.5,
          "type": "line",
          "x0": "2025-01-01",
          "x1": "2025-01-01",
          "xref": "x",
          "y0": 0,
          "y1": 1,
          "yref": "paper"
         },
         {
          "line": {
           "color": "Black",
           "dash": "dash",
           "width": 1
          },
          "opacity": 0.5,
          "type": "line",
          "x0": "2026-01-01",
          "x1": "2026-01-01",
          "xref": "x",
          "y0": 0,
          "y1": 1,
          "yref": "paper"
         }
        ],
        "template": {
         "data": {
          "bar": [
           {
            "error_x": {
             "color": "#2a3f5f"
            },
            "error_y": {
             "color": "#2a3f5f"
            },
            "marker": {
             "line": {
              "color": "#E5ECF6",
              "width": 0.5
             },
             "pattern": {
              "fillmode": "overlay",
              "size": 10,
              "solidity": 0.2
             }
            },
            "type": "bar"
           }
          ],
          "barpolar": [
           {
            "marker": {
             "line": {
              "color": "#E5ECF6",
              "width": 0.5
             },
             "pattern": {
              "fillmode": "overlay",
              "size": 10,
              "solidity": 0.2
             }
            },
            "type": "barpolar"
           }
          ],
          "carpet": [
           {
            "aaxis": {
             "endlinecolor": "#2a3f5f",
             "gridcolor": "white",
             "linecolor": "white",
             "minorgridcolor": "white",
             "startlinecolor": "#2a3f5f"
            },
            "baxis": {
             "endlinecolor": "#2a3f5f",
             "gridcolor": "white",
             "linecolor": "white",
             "minorgridcolor": "white",
             "startlinecolor": "#2a3f5f"
            },
            "type": "carpet"
           }
          ],
          "choropleth": [
           {
            "colorbar": {
             "outlinewidth": 0,
             "ticks": ""
            },
            "type": "choropleth"
           }
          ],
          "contour": [
           {
            "colorbar": {
             "outlinewidth": 0,
             "ticks": ""
            },
            "colorscale": [
             [
              0,
              "#0d0887"
             ],
             [
              0.1111111111111111,
              "#46039f"
             ],
             [
              0.2222222222222222,
              "#7201a8"
             ],
             [
              0.3333333333333333,
              "#9c179e"
             ],
             [
              0.4444444444444444,
              "#bd3786"
             ],
             [
              0.5555555555555556,
              "#d8576b"
             ],
             [
              0.6666666666666666,
              "#ed7953"
             ],
             [
              0.7777777777777778,
              "#fb9f3a"
             ],
             [
              0.8888888888888888,
              "#fdca26"
             ],
             [
              1,
              "#f0f921"
             ]
            ],
            "type": "contour"
           }
          ],
          "contourcarpet": [
           {
            "colorbar": {
             "outlinewidth": 0,
             "ticks": ""
            },
            "type": "contourcarpet"
           }
          ],
          "heatmap": [
           {
            "colorbar": {
             "outlinewidth": 0,
             "ticks": ""
            },
            "colorscale": [
             [
              0,
              "#0d0887"
             ],
             [
              0.1111111111111111,
              "#46039f"
             ],
             [
              0.2222222222222222,
              "#7201a8"
             ],
             [
              0.3333333333333333,
              "#9c179e"
             ],
             [
              0.4444444444444444,
              "#bd3786"
             ],
             [
              0.5555555555555556,
              "#d8576b"
             ],
             [
              0.6666666666666666,
              "#ed7953"
             ],
             [
              0.7777777777777778,
              "#fb9f3a"
             ],
             [
              0.8888888888888888,
              "#fdca26"
             ],
             [
              1,
              "#f0f921"
             ]
            ],
            "type": "heatmap"
           }
          ],
          "histogram": [
           {
            "marker": {
             "pattern": {
              "fillmode": "overlay",
              "size": 10,
              "solidity": 0.2
             }
            },
            "type": "histogram"
           }
          ],
          "histogram2d": [
           {
            "colorbar": {
             "outlinewidth": 0,
             "ticks": ""
            },
            "colorscale": [
             [
              0,
              "#0d0887"
             ],
             [
              0.1111111111111111,
              "#46039f"
             ],
             [
              0.2222222222222222,
              "#7201a8"
             ],
             [
              0.3333333333333333,
              "#9c179e"
             ],
             [
              0.4444444444444444,
              "#bd3786"
             ],
             [
              0.5555555555555556,
              "#d8576b"
             ],
             [
              0.6666666666666666,
              "#ed7953"
             ],
             [
              0.7777777777777778,
              "#fb9f3a"
             ],
             [
              0.8888888888888888,
              "#fdca26"
             ],
             [
              1,
              "#f0f921"
             ]
            ],
            "type": "histogram2d"
           }
          ],
          "histogram2dcontour": [
           {
            "colorbar": {
             "outlinewidth": 0,
             "ticks": ""
            },
            "colorscale": [
             [
              0,
              "#0d0887"
             ],
             [
              0.1111111111111111,
              "#46039f"
             ],
             [
              0.2222222222222222,
              "#7201a8"
             ],
             [
              0.3333333333333333,
              "#9c179e"
             ],
             [
              0.4444444444444444,
              "#bd3786"
             ],
             [
              0.5555555555555556,
              "#d8576b"
             ],
             [
              0.6666666666666666,
              "#ed7953"
             ],
             [
              0.7777777777777778,
              "#fb9f3a"
             ],
             [
              0.8888888888888888,
              "#fdca26"
             ],
             [
              1,
              "#f0f921"
             ]
            ],
            "type": "histogram2dcontour"
           }
          ],
          "mesh3d": [
           {
            "colorbar": {
             "outlinewidth": 0,
             "ticks": ""
            },
            "type": "mesh3d"
           }
          ],
          "parcoords": [
           {
            "line": {
             "colorbar": {
              "outlinewidth": 0,
              "ticks": ""
             }
            },
            "type": "parcoords"
           }
          ],
          "pie": [
           {
            "automargin": true,
            "type": "pie"
           }
          ],
          "scatter": [
           {
            "fillpattern": {
             "fillmode": "overlay",
             "size": 10,
             "solidity": 0.2
            },
            "type": "scatter"
           }
          ],
          "scatter3d": [
           {
            "line": {
             "colorbar": {
              "outlinewidth": 0,
              "ticks": ""
             }
            },
            "marker": {
             "colorbar": {
              "outlinewidth": 0,
              "ticks": ""
             }
            },
            "type": "scatter3d"
           }
          ],
          "scattercarpet": [
           {
            "marker": {
             "colorbar": {
              "outlinewidth": 0,
              "ticks": ""
             }
            },
            "type": "scattercarpet"
           }
          ],
          "scattergeo": [
           {
            "marker": {
             "colorbar": {
              "outlinewidth": 0,
              "ticks": ""
             }
            },
            "type": "scattergeo"
           }
          ],
          "scattergl": [
           {
            "marker": {
             "colorbar": {
              "outlinewidth": 0,
              "ticks": ""
             }
            },
            "type": "scattergl"
           }
          ],
          "scattermap": [
           {
            "marker": {
             "colorbar": {
              "outlinewidth": 0,
              "ticks": ""
             }
            },
            "type": "scattermap"
           }
          ],
          "scattermapbox": [
           {
            "marker": {
             "colorbar": {
              "outlinewidth": 0,
              "ticks": ""
             }
            },
            "type": "scattermapbox"
           }
          ],
          "scatterpolar": [
           {
            "marker": {
             "colorbar": {
              "outlinewidth": 0,
              "ticks": ""
             }
            },
            "type": "scatterpolar"
           }
          ],
          "scatterpolargl": [
           {
            "marker": {
             "colorbar": {
              "outlinewidth": 0,
              "ticks": ""
             }
            },
            "type": "scatterpolargl"
           }
          ],
          "scatterternary": [
           {
            "marker": {
             "colorbar": {
              "outlinewidth": 0,
              "ticks": ""
             }
            },
            "type": "scatterternary"
           }
          ],
          "surface": [
           {
            "colorbar": {
             "outlinewidth": 0,
             "ticks": ""
            },
            "colorscale": [
             [
              0,
              "#0d0887"
             ],
             [
              0.1111111111111111,
              "#46039f"
             ],
             [
              0.2222222222222222,
              "#7201a8"
             ],
             [
              0.3333333333333333,
              "#9c179e"
             ],
             [
              0.4444444444444444,
              "#bd3786"
             ],
             [
              0.5555555555555556,
              "#d8576b"
             ],
             [
              0.6666666666666666,
              "#ed7953"
             ],
             [
              0.7777777777777778,
              "#fb9f3a"
             ],
             [
              0.8888888888888888,
              "#fdca26"
             ],
             [
              1,
              "#f0f921"
             ]
            ],
            "type": "surface"
           }
          ],
          "table": [
           {
            "cells": {
             "fill": {
              "color": "#EBF0F8"
             },
             "line": {
              "color": "white"
             }
            },
            "header": {
             "fill": {
              "color": "#C8D4E3"
             },
             "line": {
              "color": "white"
             }
            },
            "type": "table"
           }
          ]
         },
         "layout": {
          "annotationdefaults": {
           "arrowcolor": "#2a3f5f",
           "arrowhead": 0,
           "arrowwidth": 1
          },
          "autotypenumbers": "strict",
          "coloraxis": {
           "colorbar": {
            "outlinewidth": 0,
            "ticks": ""
           }
          },
          "colorscale": {
           "diverging": [
            [
             0,
             "#8e0152"
            ],
            [
             0.1,
             "#c51b7d"
            ],
            [
             0.2,
             "#de77ae"
            ],
            [
             0.3,
             "#f1b6da"
            ],
            [
             0.4,
             "#fde0ef"
            ],
            [
             0.5,
             "#f7f7f7"
            ],
            [
             0.6,
             "#e6f5d0"
            ],
            [
             0.7,
             "#b8e186"
            ],
            [
             0.8,
             "#7fbc41"
            ],
            [
             0.9,
             "#4d9221"
            ],
            [
             1,
             "#276419"
            ]
           ],
           "sequential": [
            [
             0,
             "#0d0887"
            ],
            [
             0.1111111111111111,
             "#46039f"
            ],
            [
             0.2222222222222222,
             "#7201a8"
            ],
            [
             0.3333333333333333,
             "#9c179e"
            ],
            [
             0.4444444444444444,
             "#bd3786"
            ],
            [
             0.5555555555555556,
             "#d8576b"
            ],
            [
             0.6666666666666666,
             "#ed7953"
            ],
            [
             0.7777777777777778,
             "#fb9f3a"
            ],
            [
             0.8888888888888888,
             "#fdca26"
            ],
            [
             1,
             "#f0f921"
            ]
           ],
           "sequentialminus": [
            [
             0,
             "#0d0887"
            ],
            [
             0.1111111111111111,
             "#46039f"
            ],
            [
             0.2222222222222222,
             "#7201a8"
            ],
            [
             0.3333333333333333,
             "#9c179e"
            ],
            [
             0.4444444444444444,
             "#bd3786"
            ],
            [
             0.5555555555555556,
             "#d8576b"
            ],
            [
             0.6666666666666666,
             "#ed7953"
            ],
            [
             0.7777777777777778,
             "#fb9f3a"
            ],
            [
             0.8888888888888888,
             "#fdca26"
            ],
            [
             1,
             "#f0f921"
            ]
           ]
          },
          "colorway": [
           "#636efa",
           "#EF553B",
           "#00cc96",
           "#ab63fa",
           "#FFA15A",
           "#19d3f3",
           "#FF6692",
           "#B6E880",
           "#FF97FF",
           "#FECB52"
          ],
          "font": {
           "color": "#2a3f5f"
          },
          "geo": {
           "bgcolor": "white",
           "lakecolor": "white",
           "landcolor": "#E5ECF6",
           "showlakes": true,
           "showland": true,
           "subunitcolor": "white"
          },
          "hoverlabel": {
           "align": "left"
          },
          "hovermode": "closest",
          "mapbox": {
           "style": "light"
          },
          "paper_bgcolor": "white",
          "plot_bgcolor": "#E5ECF6",
          "polar": {
           "angularaxis": {
            "gridcolor": "white",
            "linecolor": "white",
            "ticks": ""
           },
           "bgcolor": "#E5ECF6",
           "radialaxis": {
            "gridcolor": "white",
            "linecolor": "white",
            "ticks": ""
           }
          },
          "scene": {
           "xaxis": {
            "backgroundcolor": "#E5ECF6",
            "gridcolor": "white",
            "gridwidth": 2,
            "linecolor": "white",
            "showbackground": true,
            "ticks": "",
            "zerolinecolor": "white"
           },
           "yaxis": {
            "backgroundcolor": "#E5ECF6",
            "gridcolor": "white",
            "gridwidth": 2,
            "linecolor": "white",
            "showbackground": true,
            "ticks": "",
            "zerolinecolor": "white"
           },
           "zaxis": {
            "backgroundcolor": "#E5ECF6",
            "gridcolor": "white",
            "gridwidth": 2,
            "linecolor": "white",
            "showbackground": true,
            "ticks": "",
            "zerolinecolor": "white"
           }
          },
          "shapedefaults": {
           "line": {
            "color": "#2a3f5f"
           }
          },
          "ternary": {
           "aaxis": {
            "gridcolor": "white",
            "linecolor": "white",
            "ticks": ""
           },
           "baxis": {
            "gridcolor": "white",
            "linecolor": "white",
            "ticks": ""
           },
           "bgcolor": "#E5ECF6",
           "caxis": {
            "gridcolor": "white",
            "linecolor": "white",
            "ticks": ""
           }
          },
          "title": {
           "x": 0.05
          },
          "xaxis": {
           "automargin": true,
           "gridcolor": "white",
           "linecolor": "white",
           "ticks": "",
           "title": {
            "standoff": 15
           },
           "zerolinecolor": "white",
           "zerolinewidth": 2
          },
          "yaxis": {
           "automargin": true,
           "gridcolor": "white",
           "linecolor": "white",
           "ticks": "",
           "title": {
            "standoff": 15
           },
           "zerolinecolor": "white",
           "zerolinewidth": 2
          }
         }
        },
        "title": {
         "text": "Annual CPI Inflation Rate with Predictions (12-Month, 9-Month, 6-Month, and 3-Month)"
        },
        "width": 1200,
        "xaxis": {
         "showgrid": false,
         "tickangle": 45,
         "title": {
          "text": "Date"
         }
        },
        "yaxis": {
         "showgrid": false,
         "title": {
          "text": "Annual CPI Change"
         }
        }
       }
      }
     },
     "metadata": {},
     "output_type": "display_data"
    }
   ],
   "source": [
    "# Prepare data for plotting\n",
    "plot_data = pd.concat([\n",
    "    viz_data[['Date_CPI', 'CPI_Annual_Change']].rename(columns={'CPI_Annual_Change': 'Annual_Change'}),\n",
    "    pd.DataFrame({\n",
    "        'Date_CPI': predictions[12]['extended_data']['Date_CPI'],\n",
    "        'Annual_Change': predictions[12]['back_transformed']\n",
    "    }),\n",
    "    pd.DataFrame({\n",
    "        'Date_CPI': predictions[9]['extended_data']['Date_CPI'], \n",
    "        'Annual_Change': predictions[9]['back_transformed']\n",
    "    }),\n",
    "    pd.DataFrame({\n",
    "        'Date_CPI': predictions[6]['extended_data']['Date_CPI'],\n",
    "        'Annual_Change': predictions[6]['back_transformed']\n",
    "    }),\n",
    "    pd.DataFrame({\n",
    "        'Date_CPI': predictions[3]['extended_data']['Date_CPI'],\n",
    "        'Annual_Change': predictions[3]['back_transformed']\n",
    "    })\n",
    "], keys=['Actual', '12-Month Prediction', '9-Month Prediction', '6-Month Prediction', '3-Month Prediction']).reset_index(level=0).rename(columns={'level_0': 'Type'})\n",
    "\n",
    "# Create figure\n",
    "fig = go.Figure()\n",
    "\n",
    "# Add actual data\n",
    "actual_data = plot_data[plot_data['Type'] == 'Actual']\n",
    "fig.add_trace(go.Scatter(\n",
    "    x=actual_data['Date_CPI'], \n",
    "    y=actual_data['Annual_Change'], \n",
    "    mode='lines', \n",
    "    name='Actual'\n",
    "))\n",
    "\n",
    "# Add predictions\n",
    "for prediction_type in ['12-Month Prediction', '9-Month Prediction', '6-Month Prediction', '3-Month Prediction']:\n",
    "    prediction_data = plot_data[plot_data['Type'] == prediction_type]\n",
    "    fig.add_trace(go.Scatter(\n",
    "        x=prediction_data['Date_CPI'], \n",
    "        y=prediction_data['Annual_Change'], \n",
    "        mode='lines', \n",
    "        name=prediction_type, \n",
    "        opacity=0.5\n",
    "    ))\n",
    "\n",
    "# Add vertical lines for forecast periods\n",
    "fig.add_shape(\n",
    "    type=\"line\",\n",
    "    x0=\"2025-01-01\", y0=0, x1=\"2025-01-01\", y1=1,\n",
    "    xref='x', yref='paper', opacity=0.5,\n",
    "    line=dict(color=\"Black\", width=1, dash=\"dash\")\n",
    ")\n",
    "fig.add_shape(\n",
    "    type=\"line\", \n",
    "    x0=\"2026-01-01\", y0=0, x1=\"2026-01-01\", y1=1,\n",
    "    xref='x', yref='paper', opacity=0.5,\n",
    "    line=dict(color=\"Black\", width=1, dash=\"dash\")\n",
    ")\n",
    "\n",
    "# Update layout\n",
    "fig.update_layout(\n",
    "    height=600,\n",
    "    width=1200,\n",
    "    title_text=\"Annual CPI Inflation Rate with Predictions (12-Month, 9-Month, 6-Month, and 3-Month)\",\n",
    "    xaxis_title=\"Date\",\n",
    "    yaxis_title=\"Annual CPI Change\",\n",
    "    legend_title=\"Data Type\",\n",
    "    plot_bgcolor='white'\n",
    ")\n",
    "\n",
    "fig.update_xaxes(tickangle=45, showgrid=False)\n",
    "fig.update_yaxes(showgrid=False)\n",
    "\n",
    "fig.show()"
   ]
  },
  {
   "cell_type": "markdown",
   "metadata": {},
   "source": [
    "## Summary Forecast with Confidence Intervals\n",
    "The final plot consistutes an output summary of our trials, representing the last prediction point each of our best selected models generate for their respective time window (12,9,6, and 3). Here, we calculate the confidence intervals using the loss value from each of our models' evaluations as a measure of prediction uncertainty, multiplied by a z-score of 1.96 (we assume residuals are normally distributed):\n",
    "\n",
    "$$CI= \\hat{y}±(1.96×RMSE)$$\n",
    "\n",
    "where $\\hat{y}$ is the predicted value and RMSE is our loss function we chose."
   ]
  },
  {
   "cell_type": "code",
   "execution_count": 22,
   "metadata": {},
   "outputs": [
    {
     "data": {
      "application/vnd.plotly.v1+json": {
       "config": {
        "plotlyServerURL": "https://plot.ly"
       },
       "data": [
        {
         "line": {
          "color": "blue"
         },
         "mode": "lines",
         "name": "Historical Data",
         "type": "scatter",
         "x": [
          "2018-01",
          "2018-02",
          "2018-03",
          "2018-04",
          "2018-05",
          "2018-06",
          "2018-07",
          "2018-08",
          "2018-09",
          "2018-10",
          "2018-11",
          "2018-12",
          "2019-01",
          "2019-02",
          "2019-03",
          "2019-04",
          "2019-05",
          "2019-06",
          "2019-07",
          "2019-08",
          "2019-09",
          "2019-10",
          "2019-11",
          "2019-12",
          "2020-01",
          "2020-02",
          "2020-03",
          "2020-04",
          "2020-05",
          "2020-06",
          "2020-07",
          "2020-08",
          "2020-09",
          "2020-10",
          "2020-11",
          "2020-12",
          "2021-01",
          "2021-02",
          "2021-03",
          "2021-04",
          "2021-05",
          "2021-06",
          "2021-07",
          "2021-08",
          "2021-09",
          "2021-10",
          "2021-11",
          "2021-12",
          "2022-01",
          "2022-02",
          "2022-03",
          "2022-04",
          "2022-05",
          "2022-06",
          "2022-07",
          "2022-08",
          "2022-09",
          "2022-10",
          "2022-11",
          "2022-12",
          "2023-01",
          "2023-02",
          "2023-03",
          "2023-04",
          "2023-05",
          "2023-06",
          "2023-07",
          "2023-08",
          "2023-09",
          "2023-10",
          "2023-11",
          "2023-12",
          "2024-01",
          "2024-02",
          "2024-03",
          "2024-04",
          "2024-05",
          "2024-06",
          "2024-07",
          "2024-08",
          "2024-09",
          "2024-10",
          "2024-11",
          "2024-12",
          "2025-01"
         ],
         "y": {
          "bdata": "SQQjhGvqB0BOUCKV5qoFQL/tTwn4qQNAo6A8J9kNA0AWFM34/F0DQCU27kG+kgNA0WMkoarLA0Dn0JvjhTgFQCCsn3lAWgNAP6E1MeUhA0DDPu+LW3oCQLZ6o8WQ1QBAa7Ji7TKR/T89F6/8lej9P0kIFoCIhf4/GMZTaObwAEBJtH/jMSoAQPzPvfUvCwBADnyWlh99AEAnWiBpmZb7P420ZyN1cPs/P6vV1RNu9z/JAuIkZZb3PzoQ65ZI1fQ/Jtaapu5O/D8KAQHbO1r7PywuGrp3X/g/1xmV57mO6D8OpP+KCbbePxrnW1QFTeM/rixn+hel8D+I/xscHBzMPzlElIhTBeE/K56yeA5P5j8hi+u/BirUP5JbOrss1+I/95RepSdr5j+Wiodcg4LaP15Y7HLA2+Y/bve/by1q+D+MS44ZausAQO5EGcALHQRAk9H8cspRAEAr1gQdyJIJQGTQRjH7owhAxQ8mJinTEECWM9ulBIUUQHK+YZNPixVAg0yCFnLSFUAQ9lXA2LQYQLkXT9OtFxxAs7WLcnUFIkBdwFzUVyoiQBxYxIkA0yJARhQyUqkzJEDjK35Bib0jQDYLxSD2MCRAoYGU52YaJkAIphINElglQIH5+BWHDiVAfYc5WWEaJEDKJGL4MdUkQL7AMggfHSRA7o99SgRRIUB57BdaglwhQAb9NQp6zB9AdFnHPBFPG0A05tGezKAaQBF7CTfUmxpA9ZsjaUZmEkBCrHSlJocPQB7IE8Y28g9Au5vTnlLZD0CGchbtsUoLQMl0Bb8Q0wlAFPACqCCqAkAEGgfs8tb/P/+FLzTfmv8/IM7wmyTgAUCdX/vz8roBQKu8l3mt4vo/B9a3dng/AkAsrnuRHfoEQAyaZQUeBgRAPHbK6A/dB0A=",
          "dtype": "f8"
         }
        },
        {
         "fillcolor": "rgba(255, 0, 0, 0.2)",
         "line": {
          "width": 0
         },
         "mode": "lines",
         "name": "Upper Bound",
         "showlegend": false,
         "type": "scatter",
         "x": [
          "2025-01-01T00:00:00.000000000",
          "2025-04-01T00:00:00.000000000",
          "2025-07-01T00:00:00.000000000",
          "2025-10-01T00:00:00.000000000",
          "2026-01-01T00:00:00.000000000"
         ],
         "y": {
          "bdata": "PHbK6A/dB0CiQs2xfVoeQJKtHZ/yrR1ACRi4xMVeFkB78ww2O3sQQA==",
          "dtype": "f8"
         }
        },
        {
         "fill": "tonexty",
         "fillcolor": "rgba(255, 0, 0, 0.2)",
         "line": {
          "width": 0
         },
         "mode": "lines",
         "name": "95% Confidence Interval",
         "showlegend": true,
         "type": "scatter",
         "x": [
          "2025-01-01T00:00:00.000000000",
          "2025-04-01T00:00:00.000000000",
          "2025-07-01T00:00:00.000000000",
          "2025-10-01T00:00:00.000000000",
          "2026-01-01T00:00:00.000000000"
         ],
         "y": {
          "bdata": "PHbK6A/dB0DhDKtI4B4FQCpmCEKjvvM/YM4SKAYo/79W9MnMS1wLwA==",
          "dtype": "f8"
         }
        },
        {
         "error_y": {
          "array": {
           "bdata": "AAAAAAAAAAAyvHeNDcsDQAiUm85JvghAocu8TscoDkCm7XEcYSkOQA==",
           "dtype": "f8"
          },
          "arrayminus": {
           "bdata": "AAAAAAAAAAAxvHeNDcsDQAeUm85JvghAocu8TscoDkCm7XEcYSkOQA==",
           "dtype": "f8"
          },
          "color": "grey",
          "thickness": 1.5,
          "type": "data",
          "visible": true,
          "width": 3
         },
         "line": {
          "color": "red",
          "dash": "dash"
         },
         "marker": {
          "color": "red",
          "size": 10
         },
         "mode": "lines+markers+text",
         "name": "Forecasts",
         "text": [
          "Jan",
          "Apr",
          "Jul",
          "Oct",
          "Jan"
         ],
         "textposition": "top center",
         "type": "scatter",
         "x": [
          "2025-01-01T00:00:00.000000000",
          "2025-04-01T00:00:00.000000000",
          "2025-07-01T00:00:00.000000000",
          "2025-10-01T00:00:00.000000000",
          "2026-01-01T00:00:00.000000000"
         ],
         "y": {
          "bdata": "PHbK6A/dB0CJZBHr9nQUQI7jz7fNThFA4shmdYgp/T+Ayj99qmjWPw==",
          "dtype": "f8"
         }
        }
       ],
       "layout": {
        "height": 600,
        "legend": {
         "title": {
          "text": "Data Type"
         }
        },
        "plot_bgcolor": "white",
        "shapes": [
         {
          "line": {
           "color": "Black",
           "dash": "dash",
           "width": 1
          },
          "opacity": 0.5,
          "type": "line",
          "x0": "2025-01-01",
          "x1": "2025-01-01",
          "xref": "x",
          "y0": 0,
          "y1": 1,
          "yref": "paper"
         },
         {
          "line": {
           "color": "Black",
           "dash": "dash",
           "width": 1
          },
          "opacity": 0.5,
          "type": "line",
          "x0": "2026-01-01",
          "x1": "2026-01-01",
          "xref": "x",
          "y0": 0,
          "y1": 1,
          "yref": "paper"
         }
        ],
        "template": {
         "data": {
          "bar": [
           {
            "error_x": {
             "color": "#2a3f5f"
            },
            "error_y": {
             "color": "#2a3f5f"
            },
            "marker": {
             "line": {
              "color": "#E5ECF6",
              "width": 0.5
             },
             "pattern": {
              "fillmode": "overlay",
              "size": 10,
              "solidity": 0.2
             }
            },
            "type": "bar"
           }
          ],
          "barpolar": [
           {
            "marker": {
             "line": {
              "color": "#E5ECF6",
              "width": 0.5
             },
             "pattern": {
              "fillmode": "overlay",
              "size": 10,
              "solidity": 0.2
             }
            },
            "type": "barpolar"
           }
          ],
          "carpet": [
           {
            "aaxis": {
             "endlinecolor": "#2a3f5f",
             "gridcolor": "white",
             "linecolor": "white",
             "minorgridcolor": "white",
             "startlinecolor": "#2a3f5f"
            },
            "baxis": {
             "endlinecolor": "#2a3f5f",
             "gridcolor": "white",
             "linecolor": "white",
             "minorgridcolor": "white",
             "startlinecolor": "#2a3f5f"
            },
            "type": "carpet"
           }
          ],
          "choropleth": [
           {
            "colorbar": {
             "outlinewidth": 0,
             "ticks": ""
            },
            "type": "choropleth"
           }
          ],
          "contour": [
           {
            "colorbar": {
             "outlinewidth": 0,
             "ticks": ""
            },
            "colorscale": [
             [
              0,
              "#0d0887"
             ],
             [
              0.1111111111111111,
              "#46039f"
             ],
             [
              0.2222222222222222,
              "#7201a8"
             ],
             [
              0.3333333333333333,
              "#9c179e"
             ],
             [
              0.4444444444444444,
              "#bd3786"
             ],
             [
              0.5555555555555556,
              "#d8576b"
             ],
             [
              0.6666666666666666,
              "#ed7953"
             ],
             [
              0.7777777777777778,
              "#fb9f3a"
             ],
             [
              0.8888888888888888,
              "#fdca26"
             ],
             [
              1,
              "#f0f921"
             ]
            ],
            "type": "contour"
           }
          ],
          "contourcarpet": [
           {
            "colorbar": {
             "outlinewidth": 0,
             "ticks": ""
            },
            "type": "contourcarpet"
           }
          ],
          "heatmap": [
           {
            "colorbar": {
             "outlinewidth": 0,
             "ticks": ""
            },
            "colorscale": [
             [
              0,
              "#0d0887"
             ],
             [
              0.1111111111111111,
              "#46039f"
             ],
             [
              0.2222222222222222,
              "#7201a8"
             ],
             [
              0.3333333333333333,
              "#9c179e"
             ],
             [
              0.4444444444444444,
              "#bd3786"
             ],
             [
              0.5555555555555556,
              "#d8576b"
             ],
             [
              0.6666666666666666,
              "#ed7953"
             ],
             [
              0.7777777777777778,
              "#fb9f3a"
             ],
             [
              0.8888888888888888,
              "#fdca26"
             ],
             [
              1,
              "#f0f921"
             ]
            ],
            "type": "heatmap"
           }
          ],
          "histogram": [
           {
            "marker": {
             "pattern": {
              "fillmode": "overlay",
              "size": 10,
              "solidity": 0.2
             }
            },
            "type": "histogram"
           }
          ],
          "histogram2d": [
           {
            "colorbar": {
             "outlinewidth": 0,
             "ticks": ""
            },
            "colorscale": [
             [
              0,
              "#0d0887"
             ],
             [
              0.1111111111111111,
              "#46039f"
             ],
             [
              0.2222222222222222,
              "#7201a8"
             ],
             [
              0.3333333333333333,
              "#9c179e"
             ],
             [
              0.4444444444444444,
              "#bd3786"
             ],
             [
              0.5555555555555556,
              "#d8576b"
             ],
             [
              0.6666666666666666,
              "#ed7953"
             ],
             [
              0.7777777777777778,
              "#fb9f3a"
             ],
             [
              0.8888888888888888,
              "#fdca26"
             ],
             [
              1,
              "#f0f921"
             ]
            ],
            "type": "histogram2d"
           }
          ],
          "histogram2dcontour": [
           {
            "colorbar": {
             "outlinewidth": 0,
             "ticks": ""
            },
            "colorscale": [
             [
              0,
              "#0d0887"
             ],
             [
              0.1111111111111111,
              "#46039f"
             ],
             [
              0.2222222222222222,
              "#7201a8"
             ],
             [
              0.3333333333333333,
              "#9c179e"
             ],
             [
              0.4444444444444444,
              "#bd3786"
             ],
             [
              0.5555555555555556,
              "#d8576b"
             ],
             [
              0.6666666666666666,
              "#ed7953"
             ],
             [
              0.7777777777777778,
              "#fb9f3a"
             ],
             [
              0.8888888888888888,
              "#fdca26"
             ],
             [
              1,
              "#f0f921"
             ]
            ],
            "type": "histogram2dcontour"
           }
          ],
          "mesh3d": [
           {
            "colorbar": {
             "outlinewidth": 0,
             "ticks": ""
            },
            "type": "mesh3d"
           }
          ],
          "parcoords": [
           {
            "line": {
             "colorbar": {
              "outlinewidth": 0,
              "ticks": ""
             }
            },
            "type": "parcoords"
           }
          ],
          "pie": [
           {
            "automargin": true,
            "type": "pie"
           }
          ],
          "scatter": [
           {
            "fillpattern": {
             "fillmode": "overlay",
             "size": 10,
             "solidity": 0.2
            },
            "type": "scatter"
           }
          ],
          "scatter3d": [
           {
            "line": {
             "colorbar": {
              "outlinewidth": 0,
              "ticks": ""
             }
            },
            "marker": {
             "colorbar": {
              "outlinewidth": 0,
              "ticks": ""
             }
            },
            "type": "scatter3d"
           }
          ],
          "scattercarpet": [
           {
            "marker": {
             "colorbar": {
              "outlinewidth": 0,
              "ticks": ""
             }
            },
            "type": "scattercarpet"
           }
          ],
          "scattergeo": [
           {
            "marker": {
             "colorbar": {
              "outlinewidth": 0,
              "ticks": ""
             }
            },
            "type": "scattergeo"
           }
          ],
          "scattergl": [
           {
            "marker": {
             "colorbar": {
              "outlinewidth": 0,
              "ticks": ""
             }
            },
            "type": "scattergl"
           }
          ],
          "scattermap": [
           {
            "marker": {
             "colorbar": {
              "outlinewidth": 0,
              "ticks": ""
             }
            },
            "type": "scattermap"
           }
          ],
          "scattermapbox": [
           {
            "marker": {
             "colorbar": {
              "outlinewidth": 0,
              "ticks": ""
             }
            },
            "type": "scattermapbox"
           }
          ],
          "scatterpolar": [
           {
            "marker": {
             "colorbar": {
              "outlinewidth": 0,
              "ticks": ""
             }
            },
            "type": "scatterpolar"
           }
          ],
          "scatterpolargl": [
           {
            "marker": {
             "colorbar": {
              "outlinewidth": 0,
              "ticks": ""
             }
            },
            "type": "scatterpolargl"
           }
          ],
          "scatterternary": [
           {
            "marker": {
             "colorbar": {
              "outlinewidth": 0,
              "ticks": ""
             }
            },
            "type": "scatterternary"
           }
          ],
          "surface": [
           {
            "colorbar": {
             "outlinewidth": 0,
             "ticks": ""
            },
            "colorscale": [
             [
              0,
              "#0d0887"
             ],
             [
              0.1111111111111111,
              "#46039f"
             ],
             [
              0.2222222222222222,
              "#7201a8"
             ],
             [
              0.3333333333333333,
              "#9c179e"
             ],
             [
              0.4444444444444444,
              "#bd3786"
             ],
             [
              0.5555555555555556,
              "#d8576b"
             ],
             [
              0.6666666666666666,
              "#ed7953"
             ],
             [
              0.7777777777777778,
              "#fb9f3a"
             ],
             [
              0.8888888888888888,
              "#fdca26"
             ],
             [
              1,
              "#f0f921"
             ]
            ],
            "type": "surface"
           }
          ],
          "table": [
           {
            "cells": {
             "fill": {
              "color": "#EBF0F8"
             },
             "line": {
              "color": "white"
             }
            },
            "header": {
             "fill": {
              "color": "#C8D4E3"
             },
             "line": {
              "color": "white"
             }
            },
            "type": "table"
           }
          ]
         },
         "layout": {
          "annotationdefaults": {
           "arrowcolor": "#2a3f5f",
           "arrowhead": 0,
           "arrowwidth": 1
          },
          "autotypenumbers": "strict",
          "coloraxis": {
           "colorbar": {
            "outlinewidth": 0,
            "ticks": ""
           }
          },
          "colorscale": {
           "diverging": [
            [
             0,
             "#8e0152"
            ],
            [
             0.1,
             "#c51b7d"
            ],
            [
             0.2,
             "#de77ae"
            ],
            [
             0.3,
             "#f1b6da"
            ],
            [
             0.4,
             "#fde0ef"
            ],
            [
             0.5,
             "#f7f7f7"
            ],
            [
             0.6,
             "#e6f5d0"
            ],
            [
             0.7,
             "#b8e186"
            ],
            [
             0.8,
             "#7fbc41"
            ],
            [
             0.9,
             "#4d9221"
            ],
            [
             1,
             "#276419"
            ]
           ],
           "sequential": [
            [
             0,
             "#0d0887"
            ],
            [
             0.1111111111111111,
             "#46039f"
            ],
            [
             0.2222222222222222,
             "#7201a8"
            ],
            [
             0.3333333333333333,
             "#9c179e"
            ],
            [
             0.4444444444444444,
             "#bd3786"
            ],
            [
             0.5555555555555556,
             "#d8576b"
            ],
            [
             0.6666666666666666,
             "#ed7953"
            ],
            [
             0.7777777777777778,
             "#fb9f3a"
            ],
            [
             0.8888888888888888,
             "#fdca26"
            ],
            [
             1,
             "#f0f921"
            ]
           ],
           "sequentialminus": [
            [
             0,
             "#0d0887"
            ],
            [
             0.1111111111111111,
             "#46039f"
            ],
            [
             0.2222222222222222,
             "#7201a8"
            ],
            [
             0.3333333333333333,
             "#9c179e"
            ],
            [
             0.4444444444444444,
             "#bd3786"
            ],
            [
             0.5555555555555556,
             "#d8576b"
            ],
            [
             0.6666666666666666,
             "#ed7953"
            ],
            [
             0.7777777777777778,
             "#fb9f3a"
            ],
            [
             0.8888888888888888,
             "#fdca26"
            ],
            [
             1,
             "#f0f921"
            ]
           ]
          },
          "colorway": [
           "#636efa",
           "#EF553B",
           "#00cc96",
           "#ab63fa",
           "#FFA15A",
           "#19d3f3",
           "#FF6692",
           "#B6E880",
           "#FF97FF",
           "#FECB52"
          ],
          "font": {
           "color": "#2a3f5f"
          },
          "geo": {
           "bgcolor": "white",
           "lakecolor": "white",
           "landcolor": "#E5ECF6",
           "showlakes": true,
           "showland": true,
           "subunitcolor": "white"
          },
          "hoverlabel": {
           "align": "left"
          },
          "hovermode": "closest",
          "mapbox": {
           "style": "light"
          },
          "paper_bgcolor": "white",
          "plot_bgcolor": "#E5ECF6",
          "polar": {
           "angularaxis": {
            "gridcolor": "white",
            "linecolor": "white",
            "ticks": ""
           },
           "bgcolor": "#E5ECF6",
           "radialaxis": {
            "gridcolor": "white",
            "linecolor": "white",
            "ticks": ""
           }
          },
          "scene": {
           "xaxis": {
            "backgroundcolor": "#E5ECF6",
            "gridcolor": "white",
            "gridwidth": 2,
            "linecolor": "white",
            "showbackground": true,
            "ticks": "",
            "zerolinecolor": "white"
           },
           "yaxis": {
            "backgroundcolor": "#E5ECF6",
            "gridcolor": "white",
            "gridwidth": 2,
            "linecolor": "white",
            "showbackground": true,
            "ticks": "",
            "zerolinecolor": "white"
           },
           "zaxis": {
            "backgroundcolor": "#E5ECF6",
            "gridcolor": "white",
            "gridwidth": 2,
            "linecolor": "white",
            "showbackground": true,
            "ticks": "",
            "zerolinecolor": "white"
           }
          },
          "shapedefaults": {
           "line": {
            "color": "#2a3f5f"
           }
          },
          "ternary": {
           "aaxis": {
            "gridcolor": "white",
            "linecolor": "white",
            "ticks": ""
           },
           "baxis": {
            "gridcolor": "white",
            "linecolor": "white",
            "ticks": ""
           },
           "bgcolor": "#E5ECF6",
           "caxis": {
            "gridcolor": "white",
            "linecolor": "white",
            "ticks": ""
           }
          },
          "title": {
           "x": 0.05
          },
          "xaxis": {
           "automargin": true,
           "gridcolor": "white",
           "linecolor": "white",
           "ticks": "",
           "title": {
            "standoff": 15
           },
           "zerolinecolor": "white",
           "zerolinewidth": 2
          },
          "yaxis": {
           "automargin": true,
           "gridcolor": "white",
           "linecolor": "white",
           "ticks": "",
           "title": {
            "standoff": 15
           },
           "zerolinecolor": "white",
           "zerolinewidth": 2
          }
         }
        },
        "title": {
         "text": "Annual CPI Inflation Rate Summary with 95% Confidence Intervals"
        },
        "width": 1200,
        "xaxis": {
         "showgrid": true,
         "tickangle": 45,
         "title": {
          "text": "Date"
         }
        },
        "yaxis": {
         "showgrid": true,
         "title": {
          "text": "Annual CPI Change"
         }
        }
       }
      }
     },
     "metadata": {},
     "output_type": "display_data"
    }
   ],
   "source": [
    "# Create summary forecast plot with confidence intervals\n",
    "fig = go.Figure()\n",
    "\n",
    "# Add historical data up to Jan 2025\n",
    "historical_data = viz_data[viz_data['Date_CPI'] <= '2025-01-01']\n",
    "fig.add_trace(go.Scatter(\n",
    "    x=historical_data['Date_CPI'],\n",
    "    y=historical_data['CPI_Annual_Change'],\n",
    "    mode='lines',\n",
    "    name='Historical Data',\n",
    "    line=dict(color='blue')\n",
    "))\n",
    "\n",
    "# Extract key prediction points for summary\n",
    "target_dates = {\n",
    "    3: '2025-04-01',\n",
    "    6: '2025-07-01',\n",
    "    9: '2025-10-01', \n",
    "    12: '2026-01-01'\n",
    "}\n",
    "\n",
    "# Get last actual value\n",
    "last_actual_df = viz_data[viz_data['Date_CPI'] == '2025-01-01']\n",
    "if len(last_actual_df) > 0:\n",
    "    last_actual = last_actual_df['CPI_Annual_Change'].values[0]\n",
    "else:\n",
    "    last_actual = viz_data.sort_values('Date_CPI', ascending=False)['CPI_Annual_Change'].iloc[0]\n",
    "\n",
    "summary_points = [\n",
    "    {\n",
    "        'horizon': 0,\n",
    "        'date': pd.to_datetime('2025-01-01'),\n",
    "        'prediction': last_actual,\n",
    "        'ci_lower': last_actual,\n",
    "        'ci_upper': last_actual\n",
    "    }\n",
    "]\n",
    "\n",
    "# Calculate confidence intervals for each horizon using RMSE from model evaluation\n",
    "for horizon, target_date in target_dates.items():\n",
    "    extended_data = predictions[horizon]['extended_data']\n",
    "    back_transformed = predictions[horizon]['back_transformed']\n",
    "    \n",
    "    # Use RMSE from model evaluation as confidence interval measure\n",
    "    rmse = trial_results[horizon]['rmse_test']\n",
    "    \n",
    "    # Use 1.96 for 95% confidence interval assuming normally distributed residuals\n",
    "    z_score = 1.96\n",
    "    \n",
    "    # Find closest date match for the target prediction\n",
    "    date_matches = extended_data[extended_data['Date_CPI'].str.startswith(target_date[:7])]\n",
    "    if len(date_matches) > 0:\n",
    "        idx = date_matches.index[0]\n",
    "        prediction = back_transformed[idx]\n",
    "        \n",
    "        # Calculate confidence interval bounds using RMSE\n",
    "        ci_lower = prediction - (z_score * rmse)\n",
    "        ci_upper = prediction + (z_score * rmse)\n",
    "        \n",
    "        summary_points.append({\n",
    "            'horizon': horizon,\n",
    "            'date': pd.to_datetime(target_date),\n",
    "            'prediction': prediction,\n",
    "            'ci_lower': ci_lower,\n",
    "            'ci_upper': ci_upper\n",
    "        })\n",
    "\n",
    "summary_df = pd.DataFrame(summary_points)\n",
    "\n",
    "# Add upper bound trace\n",
    "fig.add_trace(go.Scatter(\n",
    "    x=summary_df['date'],\n",
    "    y=summary_df['ci_upper'],\n",
    "    mode='lines',\n",
    "    line=dict(width=0),\n",
    "    name='Upper Bound',\n",
    "    showlegend=False,\n",
    "    fillcolor='rgba(255, 0, 0, 0.2)'  # Increased opacity from 0.1 to 0.2\n",
    "))\n",
    "\n",
    "# Add lower bound trace with fill\n",
    "fig.add_trace(go.Scatter(\n",
    "    x=summary_df['date'],\n",
    "    y=summary_df['ci_lower'],\n",
    "    mode='lines',\n",
    "    line=dict(width=0),\n",
    "    fill='tonexty',\n",
    "    fillcolor='rgba(255, 0, 0, 0.2)',\n",
    "    name='95% Confidence Interval',\n",
    "    showlegend=True\n",
    "))\n",
    "\n",
    "# Add prediction points with error bars\n",
    "fig.add_trace(go.Scatter(\n",
    "    x=summary_df['date'],\n",
    "    y=summary_df['prediction'],\n",
    "    mode='lines+markers+text',\n",
    "    name='Forecasts',\n",
    "    line=dict(color='red', dash='dash'),\n",
    "    marker=dict(size=10, color='red'),\n",
    "    text=summary_df['date'].dt.strftime('%b'),\n",
    "    textposition='top center',\n",
    "    error_y=dict(\n",
    "        type='data',\n",
    "        array=summary_df['ci_upper'] - summary_df['prediction'],\n",
    "        arrayminus=summary_df['prediction'] - summary_df['ci_lower'],\n",
    "        visible=True,\n",
    "        color='grey',\n",
    "        thickness=1.5,\n",
    "        width=3\n",
    "    )\n",
    "))\n",
    "\n",
    "# Add vertical lines for forecast periods\n",
    "fig.add_shape(\n",
    "    type=\"line\",\n",
    "    x0=\"2025-01-01\", y0=0, x1=\"2025-01-01\", y1=1,\n",
    "    xref='x', yref='paper', opacity=0.5,\n",
    "    line=dict(color=\"Black\", width=1, dash=\"dash\")\n",
    ")\n",
    "fig.add_shape(\n",
    "    type=\"line\",\n",
    "    x0=\"2026-01-01\", y0=0, x1=\"2026-01-01\", y1=1,\n",
    "    xref='x', yref='paper', opacity=0.5,\n",
    "    line=dict(color=\"Black\", width=1, dash=\"dash\")\n",
    ")\n",
    "\n",
    "fig.update_layout(\n",
    "    height=600,\n",
    "    width=1200,\n",
    "    title_text=\"Annual CPI Inflation Rate Summary with 95% Confidence Intervals\",\n",
    "    xaxis_title=\"Date\",\n",
    "    yaxis_title=\"Annual CPI Change\",\n",
    "    legend_title=\"Data Type\",\n",
    "    plot_bgcolor='white'\n",
    ")\n",
    "\n",
    "fig.update_xaxes(tickangle=45, showgrid=True)\n",
    "fig.update_yaxes(showgrid=True)\n",
    "\n",
    "fig.show()"
   ]
  },
  {
   "cell_type": "code",
   "execution_count": null,
   "metadata": {},
   "outputs": [],
   "source": []
  }
 ],
 "metadata": {
  "kernelspec": {
   "display_name": "client_demo1",
   "language": "python",
   "name": "python3"
  },
  "language_info": {
   "codemirror_mode": {
    "name": "ipython",
    "version": 3
   },
   "file_extension": ".py",
   "mimetype": "text/x-python",
   "name": "python",
   "nbconvert_exporter": "python",
   "pygments_lexer": "ipython3",
   "version": "3.10.18"
  }
 },
 "nbformat": 4,
 "nbformat_minor": 2
}
