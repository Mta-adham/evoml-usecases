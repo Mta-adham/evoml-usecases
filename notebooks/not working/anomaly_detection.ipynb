{
 "cells": [
  {
   "cell_type": "markdown",
   "metadata": {},
   "source": [
    "# Anomaly detection"
   ]
  },
  {
   "cell_type": "code",
   "execution_count": null,
   "metadata": {},
   "outputs": [],
   "source": [
    "import pandas as pd\n",
    "import numpy as np\n",
    "import matplotlib.pyplot as plt\n",
    "from typing import Final\n",
    "\n",
    "import evoml_client as ec\n",
    "from evoml_client.trial_conf_models import BudgetMode\n",
    "\n",
    "from client import initialise_client"
   ]
  },
  {
   "cell_type": "code",
   "execution_count": null,
   "metadata": {},
   "outputs": [],
   "source": [
    "base_url = \"http://192.168.58.242/\"\n",
    "\n",
    "# initialise client using credentials\n",
    "initialise_client(base_url)"
   ]
  }
 ],
 "metadata": {
  "language_info": {
   "name": "python"
  }
 },
 "nbformat": 4,
 "nbformat_minor": 2
}
